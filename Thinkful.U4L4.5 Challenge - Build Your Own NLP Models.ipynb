{
 "cells": [
  {
   "cell_type": "markdown",
   "metadata": {},
   "source": [
    "## Challenge: Build your own NLP model\n",
    "\n",
    "For this challenge, you will need to choose a corpus of data from nltk or another source that includes categories you can predict and create an analysis pipeline that includes the following steps:\n",
    "\n",
    "1. Data cleaning / processing / language parsing\n",
    "2. Create features using two different NLP methods: For example, BoW vs tf-idf\n",
    "3. Use the features to fit supervised learning models for each feature set to predict the category outcomes\n",
    "4. Assess your models using cross-validation and determine whether one model performed better\n",
    "5. Pick one of the models and try to increase accuracy by at least 5 percentage points\n",
    "\n",
    "Write up your report in a Jupyter notebook. Be sure to explicitly justify the choices you make throughout, and submit it below."
   ]
  },
  {
   "cell_type": "code",
   "execution_count": 1,
   "metadata": {
    "ExecuteTime": {
     "end_time": "2019-07-31T14:18:31.239630Z",
     "start_time": "2019-07-31T14:18:28.359831Z"
    },
    "run_control": {
     "marked": false
    }
   },
   "outputs": [],
   "source": [
    "import pandas as pd\n",
    "import re\n",
    "import spacy\n",
    "from sklearn.feature_extraction.text import TfidfVectorizer\n",
    "from sklearn.feature_extraction.text import CountVectorizer\n",
    "from sklearn.model_selection import train_test_split, StratifiedKFold\n",
    "from sklearn.linear_model import LogisticRegression\n",
    "from sklearn.ensemble import RandomForestClassifier, GradientBoostingClassifier\n",
    "from sklearn.tree import DecisionTreeClassifier\n",
    "from sklearn.pipeline import Pipeline\n",
    "from sklearn.metrics import confusion_matrix, classification_report\n",
    "from sklearn.model_selection import GridSearchCV\n",
    "from sklearn.preprocessing import StandardScaler\n",
    "from sklearn.naive_bayes import BernoulliNB\n",
    "from typing import Dict"
   ]
  },
  {
   "cell_type": "markdown",
   "metadata": {},
   "source": [
    "# Data Cleaning, Processing, and Language Parsing"
   ]
  },
  {
   "cell_type": "code",
   "execution_count": 2,
   "metadata": {
    "ExecuteTime": {
     "end_time": "2019-07-31T14:18:31.251279Z",
     "start_time": "2019-07-31T14:18:31.242172Z"
    },
    "run_control": {
     "marked": false
    }
   },
   "outputs": [],
   "source": [
    "# Importing the text files and using regex to clean.\n",
    "with open(r\"./Much Ado About Nothing.txt\", encoding='utf-16') as much_ado:\n",
    "    much_ado_raw = much_ado.read()\n",
    "with open(r\"./Romeo and Juliet.txt\", encoding='utf-16') as romeo:\n",
    "    romeo_raw = romeo.read()"
   ]
  },
  {
   "cell_type": "code",
   "execution_count": 3,
   "metadata": {
    "ExecuteTime": {
     "end_time": "2019-07-31T14:18:31.261415Z",
     "start_time": "2019-07-31T14:18:31.255593Z"
    }
   },
   "outputs": [],
   "source": [
    "# Utility function to clean text.\n",
    "def text_cleaner(text: str) -> str:\n",
    "    \"\"\"Function to strip all characters except letters in words.\"\"\"\n",
    "    text = re.sub(r'--', ' ', text)\n",
    "    text = re.sub(r\"[\\[].*?[\\]]\", \"\", text)\n",
    "    text = re.sub(r\"[\\<].*?[\\>]\", \"\", text)\n",
    "    text = ' '.join(text.split())\n",
    "    return text"
   ]
  },
  {
   "cell_type": "code",
   "execution_count": 4,
   "metadata": {
    "ExecuteTime": {
     "end_time": "2019-07-31T14:18:31.281576Z",
     "start_time": "2019-07-31T14:18:31.263610Z"
    }
   },
   "outputs": [],
   "source": [
    "# Clean the data.\n",
    "much_ado_clean = text_cleaner(much_ado_raw)\n",
    "romeo_clean = text_cleaner(romeo_raw)"
   ]
  },
  {
   "cell_type": "code",
   "execution_count": 5,
   "metadata": {
    "ExecuteTime": {
     "end_time": "2019-07-31T14:18:31.305084Z",
     "start_time": "2019-07-31T14:18:31.285867Z"
    }
   },
   "outputs": [
    {
     "data": {
      "text/plain": [
       "'I learn in this letter that Don Pedro of Arragon comes this night to Messina. He is very near by this: he was not three leagues off when I left him. How many gentlemen have you lost in this action? But few of any sort, and none of name. A victory is twice itself when the achiever brings home full numbers. I find here that Don Pedro hath bestowed much honour on a young Florentine called Claudio. Much deserved on his part and equally remembered by Don Pedro. He hath borne himself beyond the promise of his age, doing in the figure of a lamb the feats of a lion: he hath indeed better bettered expectation than you must expect of me to tell you how. He hath an uncle here in Messina will be very much glad of it. I have already delivered him letters, and there appears much joy in him; even so much that joy could not show itself modest enough without a badge of bitterness. Did he break out into tears? In great measure. A kind overflow of kindness. There are no faces truer than those that are so'"
      ]
     },
     "execution_count": 5,
     "metadata": {},
     "output_type": "execute_result"
    }
   ],
   "source": [
    "# Print \"Much Ado\" cleaned text.\n",
    "much_ado_clean[:1000]"
   ]
  },
  {
   "cell_type": "code",
   "execution_count": 6,
   "metadata": {
    "ExecuteTime": {
     "end_time": "2019-07-31T14:18:31.315648Z",
     "start_time": "2019-07-31T14:18:31.306670Z"
    }
   },
   "outputs": [
    {
     "data": {
      "text/plain": [
       "\"Two households, both alike in dignity, In fair Verona, where we lay our scene, From ancient grudge break to new mutiny, Where civil blood makes civil hands unclean. From forth the fatal loins of these two foes A pair of star-cross'd lovers take their life; Whose misadventur'd piteous overthrows Do with their death bury their parents' strife. The fearful passage of their death-mark'd love, And the continuance of their parents' rage, Which, but their children's end, nought could remove, Is now the two hours' traffick of our stage; The which if you with patient ears attend, What here shall miss, our toil shall strive to mend. Gregory, o' my word, we'll not carry coals. No. for then we should be colliers. I mean, an we be in choler, we'll draw. Ay, while you live, draw your neck out o' the collar. I strike quickly, being moved. But thou art not quickly moved to strike. A dog of the house of Montague moves me. To move is to stir, and to be valiant is to stand; therefore, if thou art moved, \""
      ]
     },
     "execution_count": 6,
     "metadata": {},
     "output_type": "execute_result"
    }
   ],
   "source": [
    "# Print \"Romeo\" cleaned text.\n",
    "romeo_clean[:1000]"
   ]
  },
  {
   "cell_type": "code",
   "execution_count": 7,
   "metadata": {
    "ExecuteTime": {
     "end_time": "2019-07-31T14:18:40.497124Z",
     "start_time": "2019-07-31T14:18:31.318788Z"
    }
   },
   "outputs": [],
   "source": [
    "# Parse the data. This can take some time.\n",
    "nlp = spacy.load('en')\n",
    "much_ado_doc = nlp(much_ado_clean)\n",
    "romeo_doc = nlp(romeo_clean)"
   ]
  },
  {
   "cell_type": "code",
   "execution_count": 8,
   "metadata": {
    "ExecuteTime": {
     "end_time": "2019-07-31T14:18:40.592321Z",
     "start_time": "2019-07-31T14:18:40.500668Z"
    }
   },
   "outputs": [],
   "source": [
    "# Group into sentences using spacy.\n",
    "much_ado_sents = [(sent.text, 'much_ado') for sent in\n",
    "                  much_ado_doc.sents if len(sent) > 2]\n",
    "romeo_sents = [(sent.text, 'romeo') for sent in\n",
    "               romeo_doc.sents if len(sent) > 2]\n",
    "\n",
    "# Convert list of sents to a df and add a pd.Series with the title.\n",
    "much_ado_sent_df = pd.DataFrame(much_ado_sents)\n",
    "romeo_sent_df = pd.DataFrame(romeo_sents)\n",
    "clean_sents = pd.concat([much_ado_sent_df, romeo_sent_df])\n",
    "assert (len(much_ado_sent_df) + len(romeo_sent_df)) == len(clean_sents)\n",
    "\n",
    "# Rename columns.\n",
    "clean_sents.columns = ['sentence', 'play_title']"
   ]
  },
  {
   "cell_type": "code",
   "execution_count": 9,
   "metadata": {
    "ExecuteTime": {
     "end_time": "2019-07-31T14:18:40.609344Z",
     "start_time": "2019-07-31T14:18:40.594528Z"
    }
   },
   "outputs": [
    {
     "data": {
      "text/plain": [
       "romeo       2076\n",
       "much_ado    1607\n",
       "Name: play_title, dtype: int64"
      ]
     },
     "execution_count": 9,
     "metadata": {},
     "output_type": "execute_result"
    }
   ],
   "source": [
    "# Check the count of sents per title.\n",
    "clean_sents.play_title.value_counts()"
   ]
  },
  {
   "cell_type": "markdown",
   "metadata": {},
   "source": [
    "# Creating Features\n",
    "## Bag of Words"
   ]
  },
  {
   "cell_type": "code",
   "execution_count": 10,
   "metadata": {
    "ExecuteTime": {
     "end_time": "2019-07-31T14:18:40.627317Z",
     "start_time": "2019-07-31T14:18:40.617014Z"
    }
   },
   "outputs": [],
   "source": [
    "# Splitting the data\n",
    "X = clean_sents.sentence\n",
    "y = clean_sents.play_title\n",
    "X_train, X_test, y_train, y_test = train_test_split(\n",
    "    X, y, test_size=0.25, random_state=15)"
   ]
  },
  {
   "cell_type": "code",
   "execution_count": 11,
   "metadata": {
    "ExecuteTime": {
     "end_time": "2019-07-31T14:18:40.639146Z",
     "start_time": "2019-07-31T14:18:40.634149Z"
    },
    "run_control": {
     "marked": false
    }
   },
   "outputs": [],
   "source": [
    "# Create base parameters dictionary.\n",
    "base_param_dict = {'strip_accents': 'unicode', 'lowercase': True,\n",
    "                   'stop_words': 'english'}"
   ]
  },
  {
   "cell_type": "code",
   "execution_count": 12,
   "metadata": {
    "ExecuteTime": {
     "end_time": "2019-07-31T14:18:40.647920Z",
     "start_time": "2019-07-31T14:18:40.642390Z"
    }
   },
   "outputs": [],
   "source": [
    "# Instantiate CountVectorizer.\n",
    "bow = CountVectorizer(**base_param_dict)"
   ]
  },
  {
   "cell_type": "code",
   "execution_count": 13,
   "metadata": {
    "ExecuteTime": {
     "end_time": "2019-07-31T14:18:40.828361Z",
     "start_time": "2019-07-31T14:18:40.652899Z"
    }
   },
   "outputs": [],
   "source": [
    "# Convert X_train, X_test into dfs of bags of words.\n",
    "_bow_train = bow.fit_transform(X_train)\n",
    "_bow_test = bow.transform(X_test)\n",
    "assert len(X_train) == _bow_train.shape[0]  # df and sparse-matrix\n",
    "\n",
    "# Find feature names.\n",
    "feature_names = bow.get_feature_names()\n",
    "\n",
    "# Set up data frames.\n",
    "X_train_bow = pd.DataFrame(_bow_train.toarray(), columns=feature_names)\n",
    "X_test_bow = pd.DataFrame(_bow_test.toarray(), columns=feature_names)"
   ]
  },
  {
   "cell_type": "markdown",
   "metadata": {},
   "source": [
    "## Tfidf"
   ]
  },
  {
   "cell_type": "code",
   "execution_count": 14,
   "metadata": {
    "ExecuteTime": {
     "end_time": "2019-07-31T14:18:40.858526Z",
     "start_time": "2019-07-31T14:18:40.847889Z"
    }
   },
   "outputs": [],
   "source": [
    "# Instantiate Tfidf.\n",
    "tfidf = TfidfVectorizer(**base_param_dict)"
   ]
  },
  {
   "cell_type": "markdown",
   "metadata": {},
   "source": [
    "# Creating Training/Testing Splits for Both Data Sets"
   ]
  },
  {
   "cell_type": "code",
   "execution_count": 15,
   "metadata": {
    "ExecuteTime": {
     "end_time": "2019-07-31T14:18:40.993089Z",
     "start_time": "2019-07-31T14:18:40.863001Z"
    }
   },
   "outputs": [],
   "source": [
    "# Convert X_train, X_test into dfs of tfidf values.\n",
    "_tfidf_train = tfidf.fit_transform(X_train)\n",
    "_tfidf_test = tfidf.transform(X_test)\n",
    "assert len(X_train) == _tfidf_train.shape[0]  # df and sparse-matrix\n",
    "\n",
    "# Find feature names.\n",
    "feature_names_tfidf = tfidf.get_feature_names()\n",
    "\n",
    "# Set up data frames.\n",
    "X_train_tfidf = pd.DataFrame(\n",
    "    _tfidf_train.toarray(), columns=feature_names_tfidf)\n",
    "X_test_tfidf = pd.DataFrame(\n",
    "    _tfidf_test.toarray(), columns=feature_names_tfidf)"
   ]
  },
  {
   "cell_type": "markdown",
   "metadata": {},
   "source": [
    "# Creating Baseline Models"
   ]
  },
  {
   "cell_type": "code",
   "execution_count": 16,
   "metadata": {
    "ExecuteTime": {
     "end_time": "2019-07-31T14:18:41.003714Z",
     "start_time": "2019-07-31T14:18:40.995115Z"
    }
   },
   "outputs": [
    {
     "name": "stdout",
     "output_type": "stream",
     "text": [
      "Baseline score to beat: 0.5636709204452892\n"
     ]
    }
   ],
   "source": [
    "# Create baseline model.\n",
    "print('Baseline score to beat:', sum(\n",
    "    clean_sents.play_title == 'romeo') / len(clean_sents))"
   ]
  },
  {
   "cell_type": "code",
   "execution_count": 17,
   "metadata": {
    "ExecuteTime": {
     "end_time": "2019-07-31T14:18:41.019790Z",
     "start_time": "2019-07-31T14:18:41.013882Z"
    }
   },
   "outputs": [],
   "source": [
    "# Create pipeline helpers.\n",
    "scaler = StandardScaler()\n",
    "skf = StratifiedKFold(n_splits=2, shuffle=True, random_state=15)"
   ]
  },
  {
   "cell_type": "code",
   "execution_count": 18,
   "metadata": {
    "ExecuteTime": {
     "end_time": "2019-07-31T14:18:41.027452Z",
     "start_time": "2019-07-31T14:18:41.021829Z"
    }
   },
   "outputs": [],
   "source": [
    "# Instantiate models.\n",
    "log_reg = LogisticRegression(solver='lbfgs', max_iter=1000)\n",
    "tree = DecisionTreeClassifier()\n",
    "forest = RandomForestClassifier()\n",
    "boost = GradientBoostingClassifier()\n",
    "nb = BernoulliNB()"
   ]
  },
  {
   "cell_type": "code",
   "execution_count": 19,
   "metadata": {
    "ExecuteTime": {
     "end_time": "2019-07-31T14:18:41.037581Z",
     "start_time": "2019-07-31T14:18:41.030972Z"
    }
   },
   "outputs": [],
   "source": [
    "# Modeling arg dicts.\n",
    "bow_kwargs = {'X_train': X_train_bow, 'y_train': y_train,\n",
    "              'X_test': X_test_bow, 'y_test': y_test}\n",
    "tfidf_kwargs = {'X_train': X_train_tfidf, 'y_train': y_train,\n",
    "                'X_test': X_test_tfidf, 'y_test': y_test}"
   ]
  },
  {
   "cell_type": "code",
   "execution_count": 20,
   "metadata": {
    "ExecuteTime": {
     "end_time": "2019-07-31T14:18:41.045907Z",
     "start_time": "2019-07-31T14:18:41.039559Z"
    }
   },
   "outputs": [],
   "source": [
    "# Model tuning param_grids.\n",
    "log_reg_params = {'model__C': [1]}\n",
    "tree_params = {'model__criterion': ['gini']}\n",
    "forest_params = {'model__n_estimators': [100]}\n",
    "boost_params = {'model__n_estimators': [100]}\n",
    "nb_params = {'model__alpha': [1]}"
   ]
  },
  {
   "cell_type": "code",
   "execution_count": 21,
   "metadata": {
    "ExecuteTime": {
     "end_time": "2019-07-31T14:18:41.076030Z",
     "start_time": "2019-07-31T14:18:41.048098Z"
    }
   },
   "outputs": [],
   "source": [
    "# Create a function to fit and show our predictive models.\n",
    "\n",
    "\n",
    "def fit_and_predict(\n",
    "        model, params: Dict, X_train: pd.DataFrame, y_train: pd.DataFrame,\n",
    "        X_test: pd.DataFrame, y_test: pd.DataFrame) -> None:\n",
    "    \"\"\"\n",
    "    Takes an instantiated sklearn model, training data (X_train, y_train) and\n",
    "    performs cross-validation and then prints the mean of the cross-validation\n",
    "    accuracies.\n",
    "    \"\"\"\n",
    "    assert len(X_train) == len(y_train)\n",
    "    assert len(X_test) == len(y_test)\n",
    "    pipe = Pipeline(steps=[('sc', scaler), ('model', model)])\n",
    "    clf = GridSearchCV(pipe, cv=skf, param_grid=params, n_jobs=2)\n",
    "    clf.fit(X_train, y_train)\n",
    "    print('The mean cross_val accuracy on train is',\n",
    "          f'{clf.cv_results_[\"mean_test_score\"]}.')\n",
    "    print('The std of the cross_val accuracy in ',\n",
    "          f'{clf.cv_results_[\"std_test_score\"]}.')\n",
    "    y_pred = clf.predict(X_test)\n",
    "    print(classification_report(y_test, y_pred))\n",
    "    print(confusion_matrix(y_test, y_pred))"
   ]
  },
  {
   "cell_type": "code",
   "execution_count": 22,
   "metadata": {
    "ExecuteTime": {
     "end_time": "2019-07-31T14:18:45.169884Z",
     "start_time": "2019-07-31T14:18:41.086894Z"
    }
   },
   "outputs": [
    {
     "name": "stderr",
     "output_type": "stream",
     "text": [
      "/Users/danmchenry/miniconda3/lib/python3.7/site-packages/sklearn/preprocessing/data.py:645: DataConversionWarning: Data with input dtype int64 were all converted to float64 by StandardScaler.\n",
      "  return self.partial_fit(X, y)\n",
      "/Users/danmchenry/miniconda3/lib/python3.7/site-packages/sklearn/base.py:467: DataConversionWarning: Data with input dtype int64 were all converted to float64 by StandardScaler.\n",
      "  return self.fit(X, y, **fit_params).transform(X)\n"
     ]
    },
    {
     "name": "stdout",
     "output_type": "stream",
     "text": [
      "The mean cross_val accuracy on train is [0.6647357].\n",
      "The std of the cross_val accuracy in  [0.01013758].\n",
      "              precision    recall  f1-score   support\n",
      "\n",
      "    much_ado       0.64      0.62      0.63       405\n",
      "       romeo       0.71      0.72      0.71       516\n",
      "\n",
      "   micro avg       0.68      0.68      0.68       921\n",
      "   macro avg       0.67      0.67      0.67       921\n",
      "weighted avg       0.68      0.68      0.68       921\n",
      "\n",
      "[[252 153]\n",
      " [144 372]]\n"
     ]
    },
    {
     "name": "stderr",
     "output_type": "stream",
     "text": [
      "/Users/danmchenry/miniconda3/lib/python3.7/site-packages/sklearn/pipeline.py:331: DataConversionWarning: Data with input dtype int64 were all converted to float64 by StandardScaler.\n",
      "  Xt = transform.transform(Xt)\n"
     ]
    }
   ],
   "source": [
    "# Bag of Words with Logistic Regression.\n",
    "fit_and_predict(log_reg, params=log_reg_params, **bow_kwargs)"
   ]
  },
  {
   "cell_type": "code",
   "execution_count": 23,
   "metadata": {
    "ExecuteTime": {
     "end_time": "2019-07-31T14:18:57.921975Z",
     "start_time": "2019-07-31T14:18:45.174526Z"
    }
   },
   "outputs": [
    {
     "name": "stderr",
     "output_type": "stream",
     "text": [
      "/Users/danmchenry/miniconda3/lib/python3.7/site-packages/sklearn/preprocessing/data.py:645: DataConversionWarning: Data with input dtype int64 were all converted to float64 by StandardScaler.\n",
      "  return self.partial_fit(X, y)\n",
      "/Users/danmchenry/miniconda3/lib/python3.7/site-packages/sklearn/base.py:467: DataConversionWarning: Data with input dtype int64 were all converted to float64 by StandardScaler.\n",
      "  return self.fit(X, y, **fit_params).transform(X)\n"
     ]
    },
    {
     "name": "stdout",
     "output_type": "stream",
     "text": [
      "The mean cross_val accuracy on train is [0.63178856].\n",
      "The std of the cross_val accuracy in  [0.00325851].\n",
      "              precision    recall  f1-score   support\n",
      "\n",
      "    much_ado       0.60      0.61      0.61       405\n",
      "       romeo       0.69      0.68      0.69       516\n",
      "\n",
      "   micro avg       0.65      0.65      0.65       921\n",
      "   macro avg       0.65      0.65      0.65       921\n",
      "weighted avg       0.65      0.65      0.65       921\n",
      "\n",
      "[[249 156]\n",
      " [163 353]]\n"
     ]
    },
    {
     "name": "stderr",
     "output_type": "stream",
     "text": [
      "/Users/danmchenry/miniconda3/lib/python3.7/site-packages/sklearn/pipeline.py:331: DataConversionWarning: Data with input dtype int64 were all converted to float64 by StandardScaler.\n",
      "  Xt = transform.transform(Xt)\n"
     ]
    }
   ],
   "source": [
    "# Bag of Words with Decision Tree.\n",
    "fit_and_predict(tree, params=tree_params, **bow_kwargs)"
   ]
  },
  {
   "cell_type": "code",
   "execution_count": 24,
   "metadata": {
    "ExecuteTime": {
     "end_time": "2019-07-31T14:19:12.215173Z",
     "start_time": "2019-07-31T14:18:57.925969Z"
    }
   },
   "outputs": [
    {
     "name": "stderr",
     "output_type": "stream",
     "text": [
      "/Users/danmchenry/miniconda3/lib/python3.7/site-packages/sklearn/preprocessing/data.py:645: DataConversionWarning: Data with input dtype int64 were all converted to float64 by StandardScaler.\n",
      "  return self.partial_fit(X, y)\n",
      "/Users/danmchenry/miniconda3/lib/python3.7/site-packages/sklearn/base.py:467: DataConversionWarning: Data with input dtype int64 were all converted to float64 by StandardScaler.\n",
      "  return self.fit(X, y, **fit_params).transform(X)\n"
     ]
    },
    {
     "name": "stdout",
     "output_type": "stream",
     "text": [
      "The mean cross_val accuracy on train is [0.67378711].\n",
      "The std of the cross_val accuracy in  [0.00036206].\n",
      "              precision    recall  f1-score   support\n",
      "\n",
      "    much_ado       0.67      0.61      0.64       405\n",
      "       romeo       0.71      0.76      0.74       516\n",
      "\n",
      "   micro avg       0.70      0.70      0.70       921\n",
      "   macro avg       0.69      0.69      0.69       921\n",
      "weighted avg       0.69      0.70      0.69       921\n",
      "\n",
      "[[248 157]\n",
      " [123 393]]\n"
     ]
    },
    {
     "name": "stderr",
     "output_type": "stream",
     "text": [
      "/Users/danmchenry/miniconda3/lib/python3.7/site-packages/sklearn/pipeline.py:331: DataConversionWarning: Data with input dtype int64 were all converted to float64 by StandardScaler.\n",
      "  Xt = transform.transform(Xt)\n"
     ]
    }
   ],
   "source": [
    "# Bag of Words with Random Forest.\n",
    "fit_and_predict(forest, params=forest_params, **bow_kwargs)"
   ]
  },
  {
   "cell_type": "code",
   "execution_count": 25,
   "metadata": {
    "ExecuteTime": {
     "end_time": "2019-07-31T14:20:11.027296Z",
     "start_time": "2019-07-31T14:19:12.217946Z"
    },
    "scrolled": true
   },
   "outputs": [
    {
     "name": "stderr",
     "output_type": "stream",
     "text": [
      "/Users/danmchenry/miniconda3/lib/python3.7/site-packages/sklearn/preprocessing/data.py:645: DataConversionWarning: Data with input dtype int64 were all converted to float64 by StandardScaler.\n",
      "  return self.partial_fit(X, y)\n",
      "/Users/danmchenry/miniconda3/lib/python3.7/site-packages/sklearn/base.py:467: DataConversionWarning: Data with input dtype int64 were all converted to float64 by StandardScaler.\n",
      "  return self.fit(X, y, **fit_params).transform(X)\n"
     ]
    },
    {
     "name": "stdout",
     "output_type": "stream",
     "text": [
      "The mean cross_val accuracy on train is [0.66799421].\n",
      "The std of the cross_val accuracy in  [0.00108617].\n",
      "              precision    recall  f1-score   support\n",
      "\n",
      "    much_ado       0.77      0.35      0.48       405\n",
      "       romeo       0.64      0.92      0.76       516\n",
      "\n",
      "   micro avg       0.67      0.67      0.67       921\n",
      "   macro avg       0.71      0.64      0.62       921\n",
      "weighted avg       0.70      0.67      0.64       921\n",
      "\n",
      "[[143 262]\n",
      " [ 42 474]]\n"
     ]
    },
    {
     "name": "stderr",
     "output_type": "stream",
     "text": [
      "/Users/danmchenry/miniconda3/lib/python3.7/site-packages/sklearn/pipeline.py:331: DataConversionWarning: Data with input dtype int64 were all converted to float64 by StandardScaler.\n",
      "  Xt = transform.transform(Xt)\n"
     ]
    }
   ],
   "source": [
    "# Bag of Words with Gradient Boosting.\n",
    "fit_and_predict(boost, params=boost_params, **bow_kwargs)"
   ]
  },
  {
   "cell_type": "code",
   "execution_count": 26,
   "metadata": {
    "ExecuteTime": {
     "end_time": "2019-07-31T14:20:12.085436Z",
     "start_time": "2019-07-31T14:20:11.032548Z"
    }
   },
   "outputs": [
    {
     "name": "stderr",
     "output_type": "stream",
     "text": [
      "/Users/danmchenry/miniconda3/lib/python3.7/site-packages/sklearn/preprocessing/data.py:645: DataConversionWarning: Data with input dtype int64 were all converted to float64 by StandardScaler.\n",
      "  return self.partial_fit(X, y)\n",
      "/Users/danmchenry/miniconda3/lib/python3.7/site-packages/sklearn/base.py:467: DataConversionWarning: Data with input dtype int64 were all converted to float64 by StandardScaler.\n",
      "  return self.fit(X, y, **fit_params).transform(X)\n"
     ]
    },
    {
     "name": "stdout",
     "output_type": "stream",
     "text": [
      "The mean cross_val accuracy on train is [0.71035482].\n",
      "The std of the cross_val accuracy in  [0.01593049].\n",
      "              precision    recall  f1-score   support\n",
      "\n",
      "    much_ado       0.79      0.57      0.66       405\n",
      "       romeo       0.72      0.88      0.79       516\n",
      "\n",
      "   micro avg       0.74      0.74      0.74       921\n",
      "   macro avg       0.76      0.72      0.73       921\n",
      "weighted avg       0.75      0.74      0.74       921\n",
      "\n",
      "[[229 176]\n",
      " [ 60 456]]\n"
     ]
    },
    {
     "name": "stderr",
     "output_type": "stream",
     "text": [
      "/Users/danmchenry/miniconda3/lib/python3.7/site-packages/sklearn/pipeline.py:331: DataConversionWarning: Data with input dtype int64 were all converted to float64 by StandardScaler.\n",
      "  Xt = transform.transform(Xt)\n"
     ]
    }
   ],
   "source": [
    "# Bag of Words with Naive Bayes.\n",
    "fit_and_predict(nb, params=nb_params, **bow_kwargs)"
   ]
  },
  {
   "cell_type": "code",
   "execution_count": 27,
   "metadata": {
    "ExecuteTime": {
     "end_time": "2019-07-31T14:20:14.378676Z",
     "start_time": "2019-07-31T14:20:12.088276Z"
    }
   },
   "outputs": [
    {
     "name": "stdout",
     "output_type": "stream",
     "text": [
      "The mean cross_val accuracy on train is [0.67233888].\n",
      "The std of the cross_val accuracy in  [0.0141202].\n",
      "              precision    recall  f1-score   support\n",
      "\n",
      "    much_ado       0.63      0.65      0.64       405\n",
      "       romeo       0.72      0.70      0.71       516\n",
      "\n",
      "   micro avg       0.68      0.68      0.68       921\n",
      "   macro avg       0.67      0.67      0.67       921\n",
      "weighted avg       0.68      0.68      0.68       921\n",
      "\n",
      "[[262 143]\n",
      " [156 360]]\n"
     ]
    }
   ],
   "source": [
    "# Tfidf with Logistic Regression.\n",
    "fit_and_predict(log_reg, params=log_reg_params, **tfidf_kwargs)"
   ]
  },
  {
   "cell_type": "code",
   "execution_count": 28,
   "metadata": {
    "ExecuteTime": {
     "end_time": "2019-07-31T14:20:28.818726Z",
     "start_time": "2019-07-31T14:20:14.381389Z"
    }
   },
   "outputs": [
    {
     "name": "stdout",
     "output_type": "stream",
     "text": [
      "The mean cross_val accuracy on train is [0.64554671].\n",
      "The std of the cross_val accuracy in  [0.00687907].\n",
      "              precision    recall  f1-score   support\n",
      "\n",
      "    much_ado       0.60      0.59      0.59       405\n",
      "       romeo       0.68      0.70      0.69       516\n",
      "\n",
      "   micro avg       0.65      0.65      0.65       921\n",
      "   macro avg       0.64      0.64      0.64       921\n",
      "weighted avg       0.65      0.65      0.65       921\n",
      "\n",
      "[[237 168]\n",
      " [156 360]]\n"
     ]
    }
   ],
   "source": [
    "# Tfidf with Decision Tree.\n",
    "fit_and_predict(tree, params=tree_params, **tfidf_kwargs)"
   ]
  },
  {
   "cell_type": "code",
   "execution_count": 29,
   "metadata": {
    "ExecuteTime": {
     "end_time": "2019-07-31T14:20:43.161294Z",
     "start_time": "2019-07-31T14:20:28.820840Z"
    }
   },
   "outputs": [
    {
     "name": "stdout",
     "output_type": "stream",
     "text": [
      "The mean cross_val accuracy on train is [0.6705286].\n",
      "The std of the cross_val accuracy in  [0.00072411].\n",
      "              precision    recall  f1-score   support\n",
      "\n",
      "    much_ado       0.71      0.57      0.63       405\n",
      "       romeo       0.71      0.81      0.76       516\n",
      "\n",
      "   micro avg       0.71      0.71      0.71       921\n",
      "   macro avg       0.71      0.69      0.70       921\n",
      "weighted avg       0.71      0.71      0.70       921\n",
      "\n",
      "[[232 173]\n",
      " [ 96 420]]\n"
     ]
    }
   ],
   "source": [
    "# Tfidf with Random Forest.\n",
    "fit_and_predict(forest, params=forest_params, **tfidf_kwargs)"
   ]
  },
  {
   "cell_type": "code",
   "execution_count": 30,
   "metadata": {
    "ExecuteTime": {
     "end_time": "2019-07-31T14:21:56.422128Z",
     "start_time": "2019-07-31T14:20:43.164817Z"
    }
   },
   "outputs": [
    {
     "name": "stdout",
     "output_type": "stream",
     "text": [
      "The mean cross_val accuracy on train is [0.65821868].\n",
      "The std of the cross_val accuracy in  [0.00362056].\n",
      "              precision    recall  f1-score   support\n",
      "\n",
      "    much_ado       0.77      0.38      0.50       405\n",
      "       romeo       0.65      0.91      0.76       516\n",
      "\n",
      "   micro avg       0.68      0.68      0.68       921\n",
      "   macro avg       0.71      0.64      0.63       921\n",
      "weighted avg       0.70      0.68      0.65       921\n",
      "\n",
      "[[152 253]\n",
      " [ 45 471]]\n"
     ]
    }
   ],
   "source": [
    "# Tfidf with Gradient Boosting.\n",
    "fit_and_predict(boost, params=boost_params, **tfidf_kwargs)"
   ]
  },
  {
   "cell_type": "code",
   "execution_count": 31,
   "metadata": {
    "ExecuteTime": {
     "end_time": "2019-07-31T14:21:57.439404Z",
     "start_time": "2019-07-31T14:21:56.424765Z"
    }
   },
   "outputs": [
    {
     "name": "stdout",
     "output_type": "stream",
     "text": [
      "The mean cross_val accuracy on train is [0.71035482].\n",
      "The std of the cross_val accuracy in  [0.01593049].\n",
      "              precision    recall  f1-score   support\n",
      "\n",
      "    much_ado       0.79      0.57      0.66       405\n",
      "       romeo       0.72      0.88      0.79       516\n",
      "\n",
      "   micro avg       0.74      0.74      0.74       921\n",
      "   macro avg       0.76      0.72      0.73       921\n",
      "weighted avg       0.75      0.74      0.74       921\n",
      "\n",
      "[[229 176]\n",
      " [ 60 456]]\n"
     ]
    }
   ],
   "source": [
    "# Tfidf with Naive Bayes.\n",
    "fit_and_predict(nb, params=nb_params, **tfidf_kwargs)"
   ]
  },
  {
   "cell_type": "markdown",
   "metadata": {},
   "source": [
    "# Pick One Model and Increase Accuracy by 5%"
   ]
  },
  {
   "cell_type": "code",
   "execution_count": 32,
   "metadata": {
    "ExecuteTime": {
     "end_time": "2019-07-31T14:21:58.759136Z",
     "start_time": "2019-07-31T14:21:57.441874Z"
    }
   },
   "outputs": [
    {
     "name": "stderr",
     "output_type": "stream",
     "text": [
      "/Users/danmchenry/miniconda3/lib/python3.7/site-packages/sklearn/preprocessing/data.py:645: DataConversionWarning: Data with input dtype int64 were all converted to float64 by StandardScaler.\n",
      "  return self.partial_fit(X, y)\n",
      "/Users/danmchenry/miniconda3/lib/python3.7/site-packages/sklearn/base.py:467: DataConversionWarning: Data with input dtype int64 were all converted to float64 by StandardScaler.\n",
      "  return self.fit(X, y, **fit_params).transform(X)\n"
     ]
    },
    {
     "name": "stdout",
     "output_type": "stream",
     "text": [
      "The mean cross_val accuracy on train is [0.60934106].\n",
      "The std of the cross_val accuracy in  [0.00470673].\n",
      "              precision    recall  f1-score   support\n",
      "\n",
      "    much_ado       0.54      0.86      0.66       405\n",
      "       romeo       0.79      0.42      0.54       516\n",
      "\n",
      "   micro avg       0.61      0.61      0.61       921\n",
      "   macro avg       0.66      0.64      0.60       921\n",
      "weighted avg       0.68      0.61      0.60       921\n",
      "\n",
      "[[347  58]\n",
      " [301 215]]\n"
     ]
    },
    {
     "name": "stderr",
     "output_type": "stream",
     "text": [
      "/Users/danmchenry/miniconda3/lib/python3.7/site-packages/sklearn/pipeline.py:331: DataConversionWarning: Data with input dtype int64 were all converted to float64 by StandardScaler.\n",
      "  Xt = transform.transform(Xt)\n"
     ]
    }
   ],
   "source": [
    "# Try GaussianNB for better results.\n",
    "from sklearn.naive_bayes import GaussianNB\n",
    "\n",
    "# Instantiate GaussianNB.\n",
    "gnb = GaussianNB()\n",
    "\n",
    "gnb_params = {}\n",
    "\n",
    "# Bag of Words with Gaussian.\n",
    "fit_and_predict(gnb, params=gnb_params, **bow_kwargs)"
   ]
  },
  {
   "cell_type": "code",
   "execution_count": 33,
   "metadata": {
    "ExecuteTime": {
     "end_time": "2019-07-31T14:22:01.040493Z",
     "start_time": "2019-07-31T14:21:58.762330Z"
    }
   },
   "outputs": [
    {
     "name": "stderr",
     "output_type": "stream",
     "text": [
      "/Users/danmchenry/miniconda3/lib/python3.7/site-packages/sklearn/preprocessing/data.py:645: DataConversionWarning: Data with input dtype int64 were all converted to float64 by StandardScaler.\n",
      "  return self.partial_fit(X, y)\n",
      "/Users/danmchenry/miniconda3/lib/python3.7/site-packages/sklearn/base.py:467: DataConversionWarning: Data with input dtype int64 were all converted to float64 by StandardScaler.\n",
      "  return self.fit(X, y, **fit_params).transform(X)\n",
      "/Users/danmchenry/miniconda3/lib/python3.7/site-packages/sklearn/pipeline.py:331: DataConversionWarning: Data with input dtype int64 were all converted to float64 by StandardScaler.\n",
      "  Xt = transform.transform(Xt)\n"
     ]
    },
    {
     "name": "stdout",
     "output_type": "stream",
     "text": [
      "The mean cross_val accuracy on train is [0.72411296].\n",
      "The std of the cross_val accuracy in  [0.00833298].\n",
      "              precision    recall  f1-score   support\n",
      "\n",
      "    much_ado       0.79      0.57      0.66       405\n",
      "       romeo       0.72      0.88      0.79       516\n",
      "\n",
      "   micro avg       0.74      0.74      0.74       921\n",
      "   macro avg       0.76      0.72      0.73       921\n",
      "weighted avg       0.75      0.74      0.74       921\n",
      "\n",
      "[[229 176]\n",
      " [ 60 456]]\n"
     ]
    }
   ],
   "source": [
    "# Try adjusting KFold splits.\n",
    "skf = StratifiedKFold(n_splits=3, shuffle=True, random_state=15)\n",
    "\n",
    "# Bag of Words with Naive Bayes (3 splits).\n",
    "fit_and_predict(nb, params=nb_params, **bow_kwargs)"
   ]
  },
  {
   "cell_type": "code",
   "execution_count": 34,
   "metadata": {
    "ExecuteTime": {
     "end_time": "2019-07-31T14:22:02.835923Z",
     "start_time": "2019-07-31T14:22:01.043231Z"
    }
   },
   "outputs": [
    {
     "name": "stdout",
     "output_type": "stream",
     "text": [
      "The mean cross_val accuracy on train is [0.72411296].\n",
      "The std of the cross_val accuracy in  [0.00833298].\n",
      "              precision    recall  f1-score   support\n",
      "\n",
      "    much_ado       0.79      0.57      0.66       405\n",
      "       romeo       0.72      0.88      0.79       516\n",
      "\n",
      "   micro avg       0.74      0.74      0.74       921\n",
      "   macro avg       0.76      0.72      0.73       921\n",
      "weighted avg       0.75      0.74      0.74       921\n",
      "\n",
      "[[229 176]\n",
      " [ 60 456]]\n"
     ]
    }
   ],
   "source": [
    "# Tfidf with Naive Bayes (3 splits).\n",
    "fit_and_predict(nb, params=nb_params, **tfidf_kwargs)"
   ]
  },
  {
   "cell_type": "code",
   "execution_count": 35,
   "metadata": {
    "ExecuteTime": {
     "end_time": "2019-07-31T14:22:05.634714Z",
     "start_time": "2019-07-31T14:22:02.843812Z"
    }
   },
   "outputs": [
    {
     "name": "stderr",
     "output_type": "stream",
     "text": [
      "/Users/danmchenry/miniconda3/lib/python3.7/site-packages/sklearn/preprocessing/data.py:645: DataConversionWarning: Data with input dtype int64 were all converted to float64 by StandardScaler.\n",
      "  return self.partial_fit(X, y)\n",
      "/Users/danmchenry/miniconda3/lib/python3.7/site-packages/sklearn/base.py:467: DataConversionWarning: Data with input dtype int64 were all converted to float64 by StandardScaler.\n",
      "  return self.fit(X, y, **fit_params).transform(X)\n",
      "/Users/danmchenry/miniconda3/lib/python3.7/site-packages/sklearn/pipeline.py:331: DataConversionWarning: Data with input dtype int64 were all converted to float64 by StandardScaler.\n",
      "  Xt = transform.transform(Xt)\n"
     ]
    },
    {
     "name": "stdout",
     "output_type": "stream",
     "text": [
      "The mean cross_val accuracy on train is [0.72737147].\n",
      "The std of the cross_val accuracy in  [0.01456765].\n",
      "              precision    recall  f1-score   support\n",
      "\n",
      "    much_ado       0.79      0.57      0.66       405\n",
      "       romeo       0.72      0.88      0.79       516\n",
      "\n",
      "   micro avg       0.74      0.74      0.74       921\n",
      "   macro avg       0.76      0.72      0.73       921\n",
      "weighted avg       0.75      0.74      0.74       921\n",
      "\n",
      "[[229 176]\n",
      " [ 60 456]]\n"
     ]
    }
   ],
   "source": [
    "# Try adjusting KFold splits.\n",
    "skf = StratifiedKFold(n_splits=4, shuffle=True, random_state=15)\n",
    "\n",
    "# Bag of Words with Naive Bayes (4 splits).\n",
    "fit_and_predict(nb, params=nb_params, **bow_kwargs)"
   ]
  },
  {
   "cell_type": "code",
   "execution_count": 36,
   "metadata": {
    "ExecuteTime": {
     "end_time": "2019-07-31T14:22:07.677658Z",
     "start_time": "2019-07-31T14:22:05.640814Z"
    }
   },
   "outputs": [
    {
     "name": "stdout",
     "output_type": "stream",
     "text": [
      "The mean cross_val accuracy on train is [0.72737147].\n",
      "The std of the cross_val accuracy in  [0.01456765].\n",
      "              precision    recall  f1-score   support\n",
      "\n",
      "    much_ado       0.79      0.57      0.66       405\n",
      "       romeo       0.72      0.88      0.79       516\n",
      "\n",
      "   micro avg       0.74      0.74      0.74       921\n",
      "   macro avg       0.76      0.72      0.73       921\n",
      "weighted avg       0.75      0.74      0.74       921\n",
      "\n",
      "[[229 176]\n",
      " [ 60 456]]\n"
     ]
    }
   ],
   "source": [
    "# Tfidf with Naive Bayes (4 splits).\n",
    "fit_and_predict(nb, params=nb_params, **tfidf_kwargs)"
   ]
  },
  {
   "cell_type": "code",
   "execution_count": 37,
   "metadata": {
    "ExecuteTime": {
     "end_time": "2019-07-31T14:22:10.434991Z",
     "start_time": "2019-07-31T14:22:07.680724Z"
    }
   },
   "outputs": [
    {
     "name": "stderr",
     "output_type": "stream",
     "text": [
      "/Users/danmchenry/miniconda3/lib/python3.7/site-packages/sklearn/preprocessing/data.py:645: DataConversionWarning: Data with input dtype int64 were all converted to float64 by StandardScaler.\n",
      "  return self.partial_fit(X, y)\n",
      "/Users/danmchenry/miniconda3/lib/python3.7/site-packages/sklearn/base.py:467: DataConversionWarning: Data with input dtype int64 were all converted to float64 by StandardScaler.\n",
      "  return self.fit(X, y, **fit_params).transform(X)\n"
     ]
    },
    {
     "name": "stdout",
     "output_type": "stream",
     "text": [
      "The mean cross_val accuracy on train is [0.73968139].\n",
      "The std of the cross_val accuracy in  [0.01300631].\n",
      "              precision    recall  f1-score   support\n",
      "\n",
      "    much_ado       0.79      0.57      0.66       405\n",
      "       romeo       0.72      0.88      0.79       516\n",
      "\n",
      "   micro avg       0.74      0.74      0.74       921\n",
      "   macro avg       0.76      0.72      0.73       921\n",
      "weighted avg       0.75      0.74      0.74       921\n",
      "\n",
      "[[229 176]\n",
      " [ 60 456]]\n"
     ]
    },
    {
     "name": "stderr",
     "output_type": "stream",
     "text": [
      "/Users/danmchenry/miniconda3/lib/python3.7/site-packages/sklearn/pipeline.py:331: DataConversionWarning: Data with input dtype int64 were all converted to float64 by StandardScaler.\n",
      "  Xt = transform.transform(Xt)\n"
     ]
    }
   ],
   "source": [
    "# Try adjusting KFold splits.\n",
    "skf = StratifiedKFold(n_splits=5, shuffle=True, random_state=15)\n",
    "\n",
    "# Bag of Words with Naive Bayes (5 splits).\n",
    "fit_and_predict(nb, params=nb_params, **bow_kwargs)"
   ]
  },
  {
   "cell_type": "code",
   "execution_count": 38,
   "metadata": {
    "ExecuteTime": {
     "end_time": "2019-07-31T14:22:12.923419Z",
     "start_time": "2019-07-31T14:22:10.438655Z"
    }
   },
   "outputs": [
    {
     "name": "stdout",
     "output_type": "stream",
     "text": [
      "The mean cross_val accuracy on train is [0.73968139].\n",
      "The std of the cross_val accuracy in  [0.01300631].\n",
      "              precision    recall  f1-score   support\n",
      "\n",
      "    much_ado       0.79      0.57      0.66       405\n",
      "       romeo       0.72      0.88      0.79       516\n",
      "\n",
      "   micro avg       0.74      0.74      0.74       921\n",
      "   macro avg       0.76      0.72      0.73       921\n",
      "weighted avg       0.75      0.74      0.74       921\n",
      "\n",
      "[[229 176]\n",
      " [ 60 456]]\n"
     ]
    }
   ],
   "source": [
    "# Tfidf with Naive Bayes (5 splits).\n",
    "fit_and_predict(nb, params=nb_params, **tfidf_kwargs)"
   ]
  },
  {
   "cell_type": "code",
   "execution_count": 39,
   "metadata": {
    "ExecuteTime": {
     "end_time": "2019-07-31T14:22:15.743941Z",
     "start_time": "2019-07-31T14:22:12.927848Z"
    }
   },
   "outputs": [
    {
     "name": "stderr",
     "output_type": "stream",
     "text": [
      "/Users/danmchenry/miniconda3/lib/python3.7/site-packages/sklearn/preprocessing/data.py:645: DataConversionWarning: Data with input dtype int64 were all converted to float64 by StandardScaler.\n",
      "  return self.partial_fit(X, y)\n",
      "/Users/danmchenry/miniconda3/lib/python3.7/site-packages/sklearn/base.py:467: DataConversionWarning: Data with input dtype int64 were all converted to float64 by StandardScaler.\n",
      "  return self.fit(X, y, **fit_params).transform(X)\n"
     ]
    },
    {
     "name": "stdout",
     "output_type": "stream",
     "text": [
      "The mean cross_val accuracy on train is [0.7346126].\n",
      "The std of the cross_val accuracy in  [0.02212966].\n",
      "              precision    recall  f1-score   support\n",
      "\n",
      "    much_ado       0.79      0.57      0.66       405\n",
      "       romeo       0.72      0.88      0.79       516\n",
      "\n",
      "   micro avg       0.74      0.74      0.74       921\n",
      "   macro avg       0.76      0.72      0.73       921\n",
      "weighted avg       0.75      0.74      0.74       921\n",
      "\n",
      "[[229 176]\n",
      " [ 60 456]]\n"
     ]
    },
    {
     "name": "stderr",
     "output_type": "stream",
     "text": [
      "/Users/danmchenry/miniconda3/lib/python3.7/site-packages/sklearn/pipeline.py:331: DataConversionWarning: Data with input dtype int64 were all converted to float64 by StandardScaler.\n",
      "  Xt = transform.transform(Xt)\n"
     ]
    }
   ],
   "source": [
    "# Try adjusting KFold splits.\n",
    "skf = StratifiedKFold(n_splits=6, shuffle=True, random_state=15)\n",
    "\n",
    "# Bag of Words with Naive Bayes (6 splits).\n",
    "fit_and_predict(nb, params=nb_params, **bow_kwargs)"
   ]
  },
  {
   "cell_type": "code",
   "execution_count": 40,
   "metadata": {
    "ExecuteTime": {
     "end_time": "2019-07-31T14:22:18.402556Z",
     "start_time": "2019-07-31T14:22:15.746975Z"
    }
   },
   "outputs": [
    {
     "name": "stdout",
     "output_type": "stream",
     "text": [
      "The mean cross_val accuracy on train is [0.7346126].\n",
      "The std of the cross_val accuracy in  [0.02212966].\n",
      "              precision    recall  f1-score   support\n",
      "\n",
      "    much_ado       0.79      0.57      0.66       405\n",
      "       romeo       0.72      0.88      0.79       516\n",
      "\n",
      "   micro avg       0.74      0.74      0.74       921\n",
      "   macro avg       0.76      0.72      0.73       921\n",
      "weighted avg       0.75      0.74      0.74       921\n",
      "\n",
      "[[229 176]\n",
      " [ 60 456]]\n"
     ]
    }
   ],
   "source": [
    "# Tfidf with Naive Bayes (6 splits).\n",
    "fit_and_predict(nb, params=nb_params, **tfidf_kwargs)"
   ]
  },
  {
   "cell_type": "markdown",
   "metadata": {},
   "source": [
    "Having already used GridSearchCV and supplying parameters that seem most reasonable, the only parameter change that made any noticeable difference was the K value in SelectKFolds. By changing the K-folds from 2 to 5 yielded the best improvement (from 71.04% to 73.97%). Other than the K-folds value, the GridSearchCV has already optimized the parameters for each given model."
   ]
  },
  {
   "cell_type": "code",
   "execution_count": null,
   "metadata": {},
   "outputs": [],
   "source": []
  }
 ],
 "metadata": {
  "kernelspec": {
   "display_name": "Python 3",
   "language": "python",
   "name": "python3"
  },
  "language_info": {
   "codemirror_mode": {
    "name": "ipython",
    "version": 3
   },
   "file_extension": ".py",
   "mimetype": "text/x-python",
   "name": "python",
   "nbconvert_exporter": "python",
   "pygments_lexer": "ipython3",
   "version": "3.7.3"
  },
  "toc": {
   "base_numbering": 1,
   "nav_menu": {},
   "number_sections": true,
   "sideBar": true,
   "skip_h1_title": false,
   "title_cell": "Table of Contents",
   "title_sidebar": "Contents",
   "toc_cell": false,
   "toc_position": {},
   "toc_section_display": true,
   "toc_window_display": false
  },
  "varInspector": {
   "cols": {
    "lenName": 16,
    "lenType": 16,
    "lenVar": 40
   },
   "kernels_config": {
    "python": {
     "delete_cmd_postfix": "",
     "delete_cmd_prefix": "del ",
     "library": "var_list.py",
     "varRefreshCmd": "print(var_dic_list())"
    },
    "r": {
     "delete_cmd_postfix": ") ",
     "delete_cmd_prefix": "rm(",
     "library": "var_list.r",
     "varRefreshCmd": "cat(var_dic_list()) "
    }
   },
   "types_to_exclude": [
    "module",
    "function",
    "builtin_function_or_method",
    "instance",
    "_Feature"
   ],
   "window_display": false
  }
 },
 "nbformat": 4,
 "nbformat_minor": 2
}
