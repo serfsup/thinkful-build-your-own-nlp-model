{
 "cells": [
  {
   "cell_type": "markdown",
   "metadata": {},
   "source": [
    "## Challenge: Build your own NLP model\n",
    "\n",
    "For this challenge, you will need to choose a corpus of data from nltk or another source that includes categories you can predict and create an analysis pipeline that includes the following steps:\n",
    "\n",
    "1. Data cleaning / processing / language parsing\n",
    "2. Create features using two different NLP methods: For example, BoW vs tf-idf\n",
    "3. Use the features to fit supervised learning models for each feature set to predict the category outcomes\n",
    "4. Assess your models using cross-validation and determine whether one model performed better\n",
    "5. Pick one of the models and try to increase accuracy by at least 5 percentage points\n",
    "\n",
    "Write up your report in a Jupyter notebook. Be sure to explicitly justify the choices you make throughout, and submit it below."
   ]
  },
  {
   "cell_type": "code",
   "execution_count": 1,
   "metadata": {
    "ExecuteTime": {
     "end_time": "2019-07-26T15:42:44.589359Z",
     "start_time": "2019-07-26T15:42:39.399772Z"
    }
   },
   "outputs": [],
   "source": [
    "# Import data science environment.\n",
    "import numpy as np\n",
    "import pandas as pd\n",
    "import matplotlib.pyplot as plt\n",
    "import seaborn as sns\n",
    "import sklearn\n",
    "import scipy\n",
    "import re\n",
    "import spacy\n",
    "from nltk.corpus import shakespeare, stopwords\n",
    "from collections import Counter\n",
    "from sklearn.feature_extraction.text import TfidfVectorizer\n",
    "from sklearn.feature_extraction.text import CountVectorizer\n",
    "from sklearn.model_selection import train_test_split\n",
    "%matplotlib inline"
   ]
  },
  {
   "cell_type": "code",
   "execution_count": 2,
   "metadata": {
    "ExecuteTime": {
     "end_time": "2019-07-26T15:42:44.597628Z",
     "start_time": "2019-07-26T15:42:44.592516Z"
    }
   },
   "outputs": [],
   "source": [
    "# Utility function to clean text.\n",
    "def text_cleaner(text):\n",
    "    \"\"\"Function to strip all characters except letters in words.\"\"\"\n",
    "    text = re.sub(r'--', ' ', text)\n",
    "    text = re.sub(\"[\\[].*?[\\]]\", \"\", text)\n",
    "    text = re.sub(\"[\\<].*?[\\>]\", \"\", text)\n",
    "    text = ' '.join(text.split())\n",
    "    return text"
   ]
  },
  {
   "cell_type": "code",
   "execution_count": 3,
   "metadata": {
    "ExecuteTime": {
     "end_time": "2019-07-26T15:42:44.617261Z",
     "start_time": "2019-07-26T15:42:44.600690Z"
    }
   },
   "outputs": [],
   "source": [
    "# Import texts\n",
    "much_ado = open(\"Much Ado About Nothing.txt\", encoding='utf-16')\n",
    "romeo = open(\"Romeo and Juliet.txt\", encoding='utf-16')\n",
    "\n",
    "# Read the data.\n",
    "much_ado_raw = much_ado.read()\n",
    "romeo_raw = romeo.read()"
   ]
  },
  {
   "cell_type": "code",
   "execution_count": 4,
   "metadata": {
    "ExecuteTime": {
     "end_time": "2019-07-26T15:42:44.638244Z",
     "start_time": "2019-07-26T15:42:44.620190Z"
    }
   },
   "outputs": [],
   "source": [
    "# Clean the data.\n",
    "much_ado_clean = text_cleaner(much_ado_raw)\n",
    "romeo_clean = text_cleaner(romeo_raw)"
   ]
  },
  {
   "cell_type": "code",
   "execution_count": 5,
   "metadata": {
    "ExecuteTime": {
     "end_time": "2019-07-26T15:42:44.664788Z",
     "start_time": "2019-07-26T15:42:44.644165Z"
    }
   },
   "outputs": [
    {
     "data": {
      "text/plain": [
       "\"I learn in this letter that Don Pedro of Arragon comes this night to Messina. He is very near by this: he was not three leagues off when I left him. How many gentlemen have you lost in this action? But few of any sort, and none of name. A victory is twice itself when the achiever brings home full numbers. I find here that Don Pedro hath bestowed much honour on a young Florentine called Claudio. Much deserved on his part and equally remembered by Don Pedro. He hath borne himself beyond the promise of his age, doing in the figure of a lamb the feats of a lion: he hath indeed better bettered expectation than you must expect of me to tell you how. He hath an uncle here in Messina will be very much glad of it. I have already delivered him letters, and there appears much joy in him; even so much that joy could not show itself modest enough without a badge of bitterness. Did he break out into tears? In great measure. A kind overflow of kindness. There are no faces truer than those that are so washed: how much better is it to weep at joy than to joy at weeping! I pray you is Signior Mountanto returned from the wars or no? I know none of that name, lady: there was none such in the army of any sort. What is he that you ask for, niece? My cousin means Signior Benedick of Padua. O! he is returned, and as pleasant as ever he was. He set up his bills here in Messina and challenged Cupid at the flight; and my uncle's fool, reading the challenge, subscribed for Cupid, and challenged him at the bird-bolt. I pray you, how many hath he killed and eaten in these wars? But how many hath he killed? for, indeed, I promised to eat all of his killing. Faith, niece, you tax Signior Benedick too much; but he'll be meet with you, I doubt it not. He hath done good service, lady, in these wars. You had musty victual, and he hath holp to eat it: he is a very valiant trencherman; he hath an excellent stomach. And a good soldier too, lady. And a good soldier to a lady; but what is he to a lord? A lord to a lord, a man to a man, stuffed with all honourable virtues. It is so, indeed; he is no less than a stuffed man; but for the stuffing,—well, we are all mortal. You must not, sir, mistake my niece There is a kind of merry war betwixt Signior Benedick and her: they never meet but there's a skirmish of wit between them. Alas! he gets nothing by that. In our last conflict four of his five wits went halting off, and now is the whole man governed with one! so that if he have wit enough to keep himself warm, let him bear it for a difference between himself and his horse; for it is all the wealth that he hath left to be known a reasonable creature. Who is his companion now? He hath every month a new sworn brother. Is't possible? Very easily possible: he wears his faith but as the fashion of his hat; it ever changes with the next block. I see, lady, the gentleman is not in your books. No; an he were, I would burn my study. But, I pray you, who is his companion? Is there no young squarer now that will make a voyage with him to the devil? He is most in the company of the right noble Claudio. O Lord! he will hang upon him like a disease: he is sooner caught than the pestilence, and the taker runs presently mad. God help the noble Claudio! if he have caught the Benedick, it will cost him a thousand pound ere a' be cured. I will hold friends with you, lady. Do, good friend. You will never run mad, niece. No, not till a hot January. Don Pedro is approached. Good Signior Leonato, you are come to meet your trouble: the fashion of the world is to avoid cost, and you encounter it. Never came trouble to my house in the likeness of your Grace, for trouble being gone, comfort should remain; but when you depart from me, sorrow abides and happiness takes his leave. You embrace your charge too willingly. I think this is your daughter. Her mother hath many times told me so. Were you in doubt, sir, that you asked her? Signior Benedick, no; for then you were a child. You have it full, Benedick: we may guess by this what you are, being a man. Truly, the lady fathers herself. Be happy, lady, for you are like an honourable father. If Signior Leonato be her father, she would not have his head on her shoulders for all Messina, as like him as she is. I wonder that you will still be talking, Signior Benedick: nobody marks you. What! my dear Lady Disdain, are you yet living? Is it possible Disdain should die while she hath such meet food to feed it as Signior Benedick? Courtesy itself must convert to disdain, if you come in her presence. Then is courtesy a turncoat. But it is certain I am loved of all ladies, only you excepted; and I would I could find in my heart that I had not a hard heart; for, truly, I love none. A dear happiness to women: they would else have been troubled with a pernicious suitor. I thank God and my cold blood, I am of your humour for that: I had rather hear my dog bark at a crow than a man swear he loves me. God keep your ladyship still in that mind; so some gentleman or other shall scape a predestinate scratched face. Scratching could not make it worse, an 'twere such a face as yours were. Well, you are a rare parrot-teacher. A bird of my tongue is better than a beast of yours. I would my horse had the speed of your tongue, and so good a continuer. But keep your way, i' God's name; I have done. You always end with a jade's trick: I know you of old. This is the sum of all, Leonato: Signior Claudio, and Signior Benedick, my dear friend Leonato hath invited you all. I tell him we shall stay here at the least a month, and he heartily prays some occasion may detain us longer: I dare swear he is no hypocrite, but prays from his heart. If you swear, my lord, you shall not be forsworn. Let me bid you welcome, my lord: being reconciled to the prince your brother, I owe you all duty. I thank you: I am not of many words, but I thank you. Please it your Grace lead on? Your hand, Leonato; we will go together. Benedick, didst thou note the daughter of Signior Leonato? I noted her not; but I looked on her. Is she not a modest young lady? Do you question me, as an honest man should do, for my simple true judgment; or would you have me speak after my custom, as being a professed tyrant to their sex? No; I pray thee speak in sober judgment. Why, i' faith, methinks she's too low for a high praise, too brown for a fair praise, and too little for a great praise: only this commendation I can afford her, that were she other than she is, she were unhandsome, and being no other but as she is, I do not like her. Thou thinkest I am in sport: I pray thee tell me truly how thou likest her. Would you buy her, that you inquire after her? Can the world buy such a jewel? Yea, and a case to put it into. But speak you this with a sad brow, or do you play the flouting Jack, to tell us Cupid is a good hare-finder, and Vulcan a rare carpenter? Come, in what key shall a man take you, to go in the song? In mine eye she is the sweetest lady that ever I looked on. I can see yet without spectacles and I see no such matter: there's her cousin an she were not possessed with a fury, exceeds her as much in beauty as the first of May doth the last of December. But I hope you have no intent to turn husband, have you? I would scarce trust myself, though I had sworn to the contrary, if Hero would be my wife. Is't come to this, i' faith? Hath not the world one man but he will wear his cap with suspicion? Shall I never see a bachelor of three-score again? Go to, i' faith; an thou wilt needs thrust thy neck into a yoke, wear the print of it, and sigh away Sundays. Look! Don Pedro is returned to seek you. What secret hath held you here, that you followed not to Leonato's? I would your Grace would constrain me to tell. I charge thee on thy allegiance. You hear, Count Claudio: I can be secret as a dumb man; I would have you think so; but on my allegiance, mark you this, on my allegiance: he is in love. With who? now that is your Grace's part. Mark how short his answer is: with Hero, Leonato's short daughter. If this were so, so were it uttered. Like the old tale, my lord: 'it is not so, nor 'twas not so; but, indeed, God forbid it should be so.' If my passion change not shortly, God forbid it should be otherwise. Amen, if you love her; for the lady is very well worthy. You speak this to fetch me in, my lord. By my troth, I speak my thought. And in faith, my lord, I spoke mine. And by my two faiths and troths, my lord, I spoke mine. That I love her, I feel. That she is worthy, I know. That I neither feel how she should be loved nor know how she should be worthy, is the opinion that fire cannot melt out of me: I will die in it at the stake. Thou wast ever an obstinate heretic in the despite of beauty. And never could maintain his part but in the force of his will. That a woman conceived me, I thank her; that she brought me up, I likewise give her most humble thanks: but that I will have a recheat winded in my forehead, or hang my bugle in an invisible baldrick, all women shall pardon me. Because I will not do them the wrong to mistrust any, I will do myself the right to trust none; and the fine is,—for the which I may go the finer,—I will live a bachelor. I shall see thee, ere I die, look pale with love. With anger, with sickness, or with hunger, my lord; not with love: prove that ever I lose more blood with love than I will get again with drinking, pick out mine eyes with a ballad-maker's pen, and hang me up at the door of a brothel-house for the sign of blind Cupid. Well, if ever thou dost fall from this faith, thou wilt prove a notable argument. If I do, hang me in a bottle like a cat and shoot at me; and he that hits me, let him be clapped on the shoulder, and called Adam. Well, as time shall try: 'In time the savage bull doth bear the yoke.' The savage bull may; but if ever the sensible Benedick bear it, pluck off the bull's horns and set them in my forehead; and let me be vilely painted, and in such great letters as they write, 'Here is good horse to hire,' let them signify under my sign 'Here you may see Benedick the married man.' If this should ever happen, thou wouldst be horn-mad. Nay, if Cupid have not spent all his quiver in Venice, thou wilt quake for this shortly. I look for an earthquake too then. Well, you will temporize with the hours. In the meantime, good Signior Benedick, repair to Leonato's: commend me to him and tell him I will not fail him at supper; for indeed he hath made great preparation. I have almost matter enough in me for such an embassage; and so I commit you— To the tuition of God: from my house, if I had it,— The sixth of July: your loving friend, Benedick. Nay, mock not, mock not. The body of your discourse is sometime guarded with fragments, and the guards are but slightly basted on neither: ere you flout old ends any further, examine your conscience: and so I leave you. My liege, your highness now may do me good. My love is thine to teach: teach it but how, And thou shalt see how apt it is to learn Any hard lesson that may do thee good. Hath Leonato any son, my lord? No child but Hero; she's his only heir. Dost thou affect her, Claudio? O! my lord, When you went onward on this ended action, I looked upon her with a soldier's eye, That lik'd, but had a rougher task in hand Than to drive liking to the name of love; But now I am return'd, and that war-thoughts Have left their places vacant, in their rooms Come thronging soft and delicate desires, All prompting me how fair young Hero is, Saying, I lik'd her ere I went to wars. Thou wilt be like a lover presently, And tire the hearer with a book of words. If thou dost love fair Hero, cherish it, And I will break with her, and with her father, And thou shalt have her. Was't not to this end That thou began'st to twist so fine a story? How sweetly do you minister to love, That know love's grief by his complexion! But lest my liking might too sudden seem, I would have salv'd it with a longer treatise. What need the bridge much broader than the flood? The fairest grant is the necessity. Look, what will serve is fit: 'tis once, thou lov'st, And I will fit thee with the remedy. I know we shall have revelling to-night: I will assume thy part in some disguise, And tell fair Hero I am Claudio; And in her bosom I'll unclasp my heart, And take her hearing prisoner with the force And strong encounter of my amorous tale: Then, after to her father will I break; And the conclusion is, she shall be thine. In practice let us put it presently. How now, brother! Where is my cousin, your son? Hath he provided this music? He is very busy about it. But, brother, I can tell you strange news that you yet dreaint not of. Are they good? As the event stamps them: but they have a good cover; they show well outward. The prince and Count Claudio, walking in a thick-pleached alley in my orchard, were thus much overheard by a man of mine: the prince discovered to Claudio that he loved my niece your daughter, and meant to acknowledge it this night in a dance; and, if he found her accordant, he meant to take the present time by the top and instantly break with you of it. Hath the fellow any wit that told you this? A good sharp fellow: I will send for him; and question him yourself. No, no; we will hold it as a dream till it appear itself: but I will acquaint my daughter withal, that she may be the better prepared for an answer, if peradventure this be true. Go you, and tell her of it. Cousins, you know what you have to do. O! I cry you mercy, friend; go you with me, and I will use your skill. Good cousin, have a care this busy time. What the good-year, my lord! why are you thus out of measure sad? There is no measure in the occasion that breeds; therefore the sadness is without limit. You should hear reason. And when I have heard it, what blessing brings it? It not a present remedy, at least a patient sufferance. I wonder that thou, being,—as thou say'st thou art,—born under Saturn, goest about to apply a moral medicine to a mortifying mischief. I cannot hide what I am: I must be sad when I have cause, and smile at no man's jests; eat when I have stomach, and wait for no man's leisure; sleep when I am drowsy, and tend on no man's business; laugh when I am merry, and claw no man in his humour. Yea; but you must not make the full show of this till you may do it without controlment. You have of late stood out against your brother, and he hath ta'en you newly into his grace; where it is impossible you should take true root but by the fair weather that you make yourself: it is needful that you frame the season for your own harvest. I had rather be a canker in a hedge than a rose in his grace; and it better fits my blood to be disdained of all than to fashion a carriage to rob love from any: in this, though I cannot be said to be a flattering honest man, it must not be denied but I am a plain-dealing villain. I am trusted with a muzzle and enfranchised with a clog; therefore I have decreed not to sing in my cage. If I had my mouth, I would bite; if I had my liberty, I would do my liking: in the meantime, let me be that I am, and seek not to alter me. Can you make no use of your discontent? I make all use of it, for I use it only. Who comes here? What news, Borachio? I came yonder from a great supper: the prince, your brother, is royally entertained by Leonato; and I can give you intelligence of an intended marriage. Will it serve for any model to build mischief on? What is he for a fool that betroths himself to unquietness? Marry, it is your brother's right hand. Who? the most exquisite Claudio? Even he. A proper squire! And who, and who? which way looks he? Marry, on Hero, the daughter and heir of Leonato. A very forward March-chick! How came you to this? Being entertained for a perfumer, as I was smoking a musty room, comes me the prince and Claudio, hand in hand, in sad conference: I whipt me behind the arras, and there heard it agreed upon that the prince should woo Hero for himself, and having obtained her, give her to Count Claudio. Come, come; let us thither: this may prove food to my displeasure. That young start-up hath all the glory of my overthrow: if I can cross him any way, I bless myself every way. You are both sure, and will assist me? To the death, my lord. To the death, my lord. Let us to the great supper: their cheer is the greater that I am subdued. Would the cook were of my mind! Shall we go prove what's to be done? We'll wait upon your lordship. Was not Count John here at supper? I saw him not. How tartly that gentleman looks! I never can see him but I am heart-burned an hour after. He is of a very melancholy disposition. He were an excellent man that were made just in the mid-way between him and Benedick: the one is too like an image, and says nothing; and the other too like my lady's eldest son, evermore tattling. Then half Signior Benedick's tongue in Count John's mouth, and half Count John's melancholy in Signior Benedick's face,— With a good leg and a good foot, uncle, and money enough in his purse, such a man would win any woman in the world, if a' could get her good will. By my troth, niece, thou wilt never get thee a husband, if thou be so shrewd of thy tongue. In faith, she's too curst. Too curst is more than curst: I shall lessen God's sending that way; for it is said, 'God sends a curst cow short horns;' but to a cow too curst he sends none. So, by being too curst, God will send you no horns? Just, if he send me no husband; for the which blessing I am at him upon my knees every morning and evening. Lord! I could not endure a husband with a beard on his face: I had rather lie in the woollen. You may light on a husband that hath no beard. What should I do with him? dress him in my apparel and make him my waiting-gentlewoman? He that hath a beard is more than a youth, and he that hath no beard is less than a man; and he that is more than a youth is not for me; and he that is less than a man, I am not for him: therefore I will even take sixpence in earnest of the bear-ward, and lead his apes into hell. Well then, go you into hell? No; but to the gate; and there will the devil meet me, like an old cuckold, with horns on his head, and say, 'Get you to heaven, Beatrice, get you to heaven; here's no place for you maids:' so deliver I up my apes, and away to Saint Peter for the heavens; he shows me where the bachelors sit, and there live we as merry as the day is long. Well, niece, I trust you will be ruled by your father. Yes, faith; it is my cousin's duty to make curtsy, and say, 'Father, as it please you:'—but yet for all that, cousin, let him be a handsome fellow, or else make another curtsy, and say, 'Father, as it please me.' Well, niece, I hope to see you one day fitted with a husband. Not till God make men of some other metal than earth. Would it not grieve a woman to be over-mastered with a piece of valiant dust? to make an account of her life to a clod of wayward marl? No, uncle, I'll none: Adam's sons are my brethren; and truly, I hold it a sin to match in my kindred. Daughter, remember what I told you: if the prince do solicit you in that kind, you know your answer. The fault will be in the music, cousin, if you be not wooed in good time: if the prince be too important, tell him there is measure in everything, and so dance out the answer. For, hear me, Hero: wooing, wedding, and repenting, is as a Scotch jig, a measure, and a cinque-pace: the first suit is hot and hasty, like a Scotch jig, and full as fantastical; the wedding, mannerly-modest, as a measure, full of state and ancientry; and then comes Repentance, and, with his bad legs, falls into the cinque-pace faster and faster, till he sink into his grave. Cousin, you apprehend passing shrewdly. I have a good eye, uncle: I can see a church by daylight. The revellers are entering, brother: make good room. Lady, will you walk about with your friend? So you walk softly and look sweetly and say nothing, I am yours for the walk; and especially when I walk away. With me in your company? I may say so, when I please. And when please you to say so? When I like your favour; for God defend the lute should be like the case! My visor is Philemon's roof; within the house is Jove. Why, then, your visor should be thatch'd. Speak low, if you speak love. Well, I would you did like me. So would not I, for your own sake; for I have many ill qualities. Which is one? I say my prayers aloud. I love you the better; the hearers may cry Amen. God match me with a good dancer! Amen. And God keep him out of my sight when the dance is done! Answer, clerk. No more words: the clerk is answered. I know you well enough: you are Signior Antonio. At a word, I am not. I know you by the waggling of your head. To tell you true, I counterfeit him. You could never do him so ill-well, unless you were the very man. Here's his dry hand up and down: you are he, you are he. At a word, I am not. Come, come; do you think I do not know you by your excellent wit? Can virtue hide itself? Go to, mum, you are he: graces will appear, and there's an end. Will you not tell me who told you so? No, you shall pardon me. Nor will you not tell me who you are? Not now. That I was disdainful, and that I had my good wit out of the 'Hundred Merry Tales.' Well, this was Signior Benedick that said so. What's he? I am sure you know him well enough. Not I, believe me. Did he never make you laugh? I pray you, what is he? Why, he is the prince's jester: a very dull fool; only his gift is in devising impossible slanders: none but libertines delight in him; and the commendation is not in his wit, but in his villany; for he both pleases men and angers them, and then they laugh at him and beat him. I am sure he is in the fleet: I would he had boarded me! When I know the gentleman, I'll tell him what you say. Do, do: he'll but break a comparison or two on me; which, peradventure not marked or not laughed at, strikes him into melancholy; and then there's a partridge wing saved, for the fool will eat no supper that night. We must follow the leaders. In every good thing. Nay, if they lead to any ill, I will leave them at the next turning. Sure my brother is amorous on Hero, and hath withdrawn her father to break with him about it. The ladies follow her and but one visor remains. And that is Claudio: I know him by his bearing. Are you not Signior Benedick? You know me well; I am he. Signior, you are very near my brother in his love: he is enamoured on Hero; I pray you, dissuade him from her; she is no equal for his birth: you may do the part of an honest man in it. How know you he loves her? I heard him swear his affection. So did I too; and he swore he would marry her to-night. Come, let us to the banquet. Thus answer I in name of Benedick, But hear these ill news with the ears of Claudio. 'Tis certain so; the prince woos for himself. Friendship is constant in all other things Save in the office and affairs of love: Therefore all hearts in love use their own tongues; Let every eye negotiate for itself And trust no agent; for beauty is a witch Against whose charms faith melteth into blood. This is an accident of hourly proof, Which I mistrusted not. Farewell, therefore, Hero! Count Claudio? Yea, the same. Come, will you go with me? Whither? Even to the next willow, about your own business, count. What fashion will you wear the garland of? About your neck, like a usurer's chain? or under your arm, like a lieutenant's scarf? You must wear it one way, for the prince hath got your Hero. I wish him joy of her. Why, that's spoken like an honest drovier: so they sell bullocks. But did you think the prince would have served you thus? I pray you, leave me. Ho! now you strike like the blind man: 'twas the boy that stole your meat, and you'll beat the post. If it will not be, I'll leave you. Alas! poor hurt fowl. Now will he creep into sedges. But, that my lady Beatrice should know me, and not know me! The prince's fool! Ha! it may be I go under that title because I am merry. Yea, but so I am apt to do myself wrong; I am not so reputed: it is the base though bitter disposition of Beatrice that puts the world into her person, and so gives me out. Well, I'll be revenged as I may. Now, signior, where's the count? Did you see him? Troth, my lord, I have played the part of Lady Fame. I found him here as melancholy as a lodge in a warren. I told him, and I think I told him true, that your Grace had got the good will of this young lady; and I offered him my company to a willow tree, either to make him a garland, as being forsaken, or to bind him up a rod, as being worthy to be whipped. To be whipped! What's his fault? The flat transgression of a school-boy, who, being overjoy'd with finding a bird's nest, shows it his companion, and he steals it. Wilt thou make a trust a transgression? The transgression is in the stealer. Yet it had not been amiss the rod had been made, and the garland too; for the garland he might have worn himself, and the rod he might have bestowed on you, who, as I take it, have stolen his bird's nest. I will but teach them to sing, and restore them to the owner. If their singing answer your saying, by my faith, you say honestly. The Lady Beatrice hath a quarrel to you: the gentleman that danced with her told her she is much wronged by you. O! she misused me past the endurance of a block: an oak but with one green leaf on it, would have answered her: my very visor began to assume life and scold with her. She told me, not thinking I had been myself, that I was the prince's jester; that I was duller than a great thaw; huddling jest upon jest with such impossible conveyance upon me, that I stood like a man at a mark, with a whole army shooting at me. She speaks poniards, and every word stabs: if her breath were as terrible as her terminations, there were no living near her; she would infect to the north star. I would not marry her, though she were endowed with all that Adam had left him before he transgressed: she would have made Hercules have turned spit, yea, and have cleft his club to make the fire too. Come, talk not of her; you shall find her the infernal Ate in good apparel. I would to God some scholar would conjure her, for certainly, while she is here, a man may live as quiet in hell as in a sanctuary; and people sin upon purpose because they would go thither; so, indeed, all disquiet, horror and perturbation follow her. Look! here she comes. Will your Grace command me any service to the world's end? I will go on the slightest errand now to the Antipodes that you can devise to send me on; I will fetch you a toothpicker now from the furthest inch of Asia; bring you the length of Prester John's foot; fetch you a hair off the Great Cham's beard; do you any embassage to the Pigmies, rather than hold three words' conference with this harpy. You have no employment for me? None, but to desire your good company. O God, sir, here's a dish I love not: I cannot endure my Lady Tongue. Come, lady, come; you have lost the heart of Signior Benedick. Indeed, my lord, he lent it me awhile; and I gave him use for it, a double heart for a single one: marry, once before he won it of me with false dice, therefore your Grace may well say I have lost it. You have put him down, lady, you have put him down. So I would not he should do me, my lord, lest I should prove the mother of fools. I have brought Count Claudio, whom you sent me to seek. Why, how now, count! wherefore are you sad? Not sad, my lord. How then? Sick? Neither, my lord. The count is neither sad, nor sick, nor merry, nor well; but civil count, civil as an orange, and something of that jealous complexion. I' faith, lady, I think your blazon to be true; though, I'll be sworn, if he be so, his conceit is false. Here, Claudio, I have wooed in thy name, and fair Hero is won; I have broke with her father, and, his good will obtained; name the day of marriage, and God give thee joy! Count, take of me my daughter, and with her my fortunes: his Grace hath made the match, and all grace say Amen to it! Speak, count, 'tis your cue. Silence is the perfectest herald of joy: I were but little happy, if I could say how much. Lady, as you are mine, I am yours: I give away myself for you and dote upon the exchange. Speak, cousin; or, if you cannot, stop his mouth with a kiss, and let not him speak neither. In faith, lady, you have a merry heart. Yea, my lord; I thank it, poor fool, it keeps on the windy side of care. My cousin tells him in his ear that he is in her heart. And so she doth, cousin. Good Lord, for alliance! Thus goes every one to the world but I, and I am sunburnt. I may sit in a corner and cry heigh-ho for a husband! Lady Beatrice, I will get you one. I would rather have one of your father's getting. Hath your Grace ne'er a brother like you? Your father got excellent husbands, if a maid could come by them. Will you have me, lady? No, my lord, unless I might have another for working days: your Grace is too costly to wear every day. But, I beseech your Grace, pardon me; I was born to speak all mirth and no matter. Your silence most offends me, and to be merry best becomes you; for, out of question, you were born in a merry hour. No, sure, my lord, my mother cried; but then there was a star danced, and under that was I born. Cousins, God give you joy! Niece, will you look to those things I told you of? I cry you mercy, uncle. By your Grace's pardon. By my troth, a pleasant-spirited lady. There's little of the melancholy element in her, my lord: she is never sad but when she sleeps; and not ever sad then, for I have heard my daughter say, she hath often dreamed of unhappiness and waked herself with laughing. She cannot endure to hear tell of a husband. O! by no means: she mocks all her wooers out of suit. She were an excellent wife for Benedick. O Lord! my lord, if they were but a week married, they would talk themselves mad. Count Claudio, when mean you to go to church? To-morrow, my lord. Time goes on crutches till love have all his rites. Not till Monday, my dear son, which is hence a just seven-night; and a time too brief too, to have all things answer my mind. Come, you shake the head at so long a breathing; but, I warrant thee, Claudio, the time shall not go dully by us. I will in the interim undertake one of Hercules' labours, which is, to bring Signior Benedick and the Lady Beatrice into a mountain of affection the one with the other. I would fain have it a match; and I doubt not but to fashion it, if you three will but minister such assistance as I shall give you direction. My lord, I am for you, though it cost me ten nights' watchings. And I, my lord. And you too, gentle Hero? I will do any modest office, my lord, to help my cousin to a good husband. And Benedick is not the unhopefullest husband that I know. Thus far can I praise him; he is of a noble strain, of approved valour, and confirmed honesty. I will teach you how to humour your cousin, that she shall fall in love with Benedick; and I, with your two helps, will so practise on Benedick that, in despite of his quick wit and his queasy stomach, he shall fall in love with Beatrice. If we can do this, Cupid is no longer an archer: his glory shall be ours, for we are the only love-gods. Go in with me, and I will tell you my drift. It is so; the Count Claudio shall marry the daughter of Leonato. Yea, my lord; but I can cross it. Any bar, any cross, any impediment will be medicinable to me: I am sick in displeasure to him, and whatsoever comes athwart his affection ranges evenly with mine. How canst thou cross this marriage? Not honestly, my lord; but so covertly that no dishonesty shall appear in me. Show me briefly how. I think I told your lordship, a year since, how much I am in the favour of Margaret, the waiting-gentlewoman to Hero. I remember. I can, at any unseasonable instant of the night, appoint her to look out at her lady's chamber-window. What life is in that, to be the death of this marriage? The poison of that lies in you to temper. Go you to the prince your brother; spare not to tell him, that he hath wronged his honour in marrying the renowned Claudio,—whose estimation do you mightily hold up,—to a contaminated stale, such a one as Hero. What proof shall I make of that? Proof enough to misuse the prince, to vex Claudio, to undo Hero, and kill Leonato. Look you for any other issue? Only to despite them, I will endeavour any thing. Go, then; find me a meet hour to draw Don Pedro and the Count Claudio alone: tell them that you know that Hero loves me; intend a kind of zeal both to the prince and Claudio, as—in love of your brother's honour, who hath made this match, and his friend's reputation, who is thus like to be cozened with the semblance of a maid,—that you have discovered thus. They will scarcely believe this without trial: offer them instances, which shall bear no less likelihood than to see me at her chamber-window, hear me call Margaret Hero; hear Margaret term me Claudio; and bring them to see this the very night before the intended wedding: for in the meantime I will so fashion the matter that Hero shall be absent; and there shall appear such seeming truth of Hero's disloyalty, that jealousy shall be called assurance, and all the preparation overthrown. Grow this to what adverse issue it can, I will put it in practice. Be cunning in the working this, and thy fee is a thousand ducats. Be you constant in the accusation, and my cunning shall not shame me. I will presently go learn their day of marriage. Boy! Signior? In my chamber-window lies a book; bring it hither to me in the orchard. I am here already, sir. I know that; but I would have thee hence, and here again. I do much wonder that one man, seeing how much another man is a fool when he dedicates his behaviours to love, will, after he hath laughed at such shallow follies in others, become the argument of his own scorn by falling in love: and such a man is Claudio. I have known, when there was no music with him but the drum and the fife; and now had he rather hear the tabor and the pipe: I have known, when he would have walked ten mile afoot to see a good armour; and now will he lie ten nights awake, carving the fashion of a new doublet. He was wont to speak plain and to the purpose, like an honest man and a soldier; and now is he turned orthographer; his words are a very fantastical banquet, just so many strange dishes. May I be so converted, and see with these eyes? I cannot tell; I think not: I will not be sworn but love may transform me to an oyster; but I'll take my oath on it, till he have made an oyster of me, he shall never make me such a fool. One woman is fair, yet I am well; another is wise, yet I am well; another virtuous, yet I am well; but till all graces be in one woman, one woman shall not come in my grace. Rich she shall be, that's certain; wise, or I'll none; virtuous, or I'll never cheapen her; fair, or I'll never look on her; mild, or come not near me; noble, or not I for an angel; of good discourse, an excellent musician, and her hair shall be of what colour it please God. Ha! the prince and Monsieur Love! I will hide me in the arbour. Come, shall we hear this music? Yea, my good lord. How still the evening is, As hush'd on purpose to grace harmony! See you where Benedick hath hid himself? O! very well, my lord: the music ended, We'll fit the kid-fox with a penny-worth. Come, Balthazar, we'll hear that song again. O! good my lord, tax not so bad a voice To slander music any more than once. It is the witness still of excellency, To put a strange face on his own perfection. I pray thee, sing, and let me woo no more. Because you talk of wooing, I will sing; Since many a wooer doth commence his suit To her he thinks not worthy; yet he woos; Yet will he swear he loves. Nay, pray thee, come; Or if thou wilt hold longer argument, Do it in notes. Note this before my notes; There's not a note of mine that's worth the noting. Why these are very crotchets that he speaks; Notes, notes, forsooth, and nothing! Now, divine air! now is his soul ravished! Is it not strange that sheeps' guts should hale souls out of men's bodies? Well, a horn for my money, when all's done. Sigh no more, ladies, sigh no more, Men were deceivers ever; One foot in sea, and one on shore, To one thing constant never. Then sigh not so, But let them go, And be you blithe and bonny, Converting all your sounds of woe Into Hey nonny, nonny. Sing no more ditties, sing no mo Of dumps so dull and heavy; The fraud of men was ever so, Since summer first was leavy. Then sigh not so, But let them go, And be you blithe and bonny, Converting all your sounds of woe Into Hey nonny, nonny. By my troth, a good song. And an ill singer, my lord. Ha, no, no, faith; thou singest well enough for a shift. An he had been a dog that should have howled thus, they would have hanged him; and I pray God his bad voice bode no mischief. I had as lief have heard the night-raven, come what plague could have come after it. Yea, marry; dost thou hear, Balthazar? I pray thee, get us some excellent music, for to-morrow night we would have it at the Lady Hero's chamber-window. The best I can, my lord. Do so: farewell. Come hither, Leonato: what was it you told me of to-day, that your niece Beatrice was in love with Signior Benedick? O! ay:— Stalk on, stalk on; the fowl sits. I did never think that lady would have loved any man. No, nor I neither; but most wonderful that she should so dote on Signior Benedick, whom she hath in all outward behaviours seemed ever to abhor. Is't possible? Sits the wind in that corner? By my troth, my lord, I cannot tell what to think of it but that she loves him with an enraged affection: it is past the infinite of thought. May be she doth but counterfeit. Faith, like enough. O God! counterfeit! There was never counterfeit of passion came so near the life of passion as she discovers it. Why, what effects of passion shows she? Bait the hook well: this fish will bite. What effects, my lord? She will sit you; You heard my daughter tell you how. She did, indeed. How, how, I pray you? You amaze me: I would have thought her spirit had been invincible against all assaults of affection. I would have sworn it had, my lord; especially against Benedick. I should think this a gull, but that the white-bearded fellow speaks it: knavery cannot, sure, hide itself in such reverence. He hath ta'en the infection: hold it up. Hath she made her affection known to Benedick? No; and swears she never will: that's her torment. 'Tis true, indeed; so your daughter says: 'Shall I,' says she, 'that have so oft encountered him with scorn, write to him that I love him?' This says she now when she is beginning to write to him; for she'll be up twenty times a night, and there will she sit in her smock till she have writ a sheet of paper: my daughter tells us all. Now you talk of a sheet of paper, I remember a pretty jest your daughter told us of. O! when she had writ it, and was reading it over, she found Benedick and Beatrice between the sheet? That. O! she tore the letter into a thousand halfpence; railed at herself, that she should be so immodest to write to one that she knew would flout her: 'I measure him,' says she, 'by my own spirit; for I should flout him, if he writ to me; yea, though I love him, I should.' Then down upon her knees she falls, weeps, sobs, beats her heart, tears her hair, prays, curses; 'O sweet Benedick! God give me patience!' She doth indeed; my daughter says so; and the ecstasy hath so much overborne her, that my daughter is sometimes afeard she will do a desperate outrage to herself. It is very true. It were good that Benedick knew of it by some other, if she will not discover it. To what end? he would but make a sport of it and torment the poor lady worse. An he should, it were an alms to hang him. She's an excellent sweet lady, and, out of all suspicion, she is virtuous. And she is exceeding wise. In everything but in loving Benedick. O! my lord, wisdom and blood combating in so tender a body, we have ten proofs to one that blood hath the victory. I am sorry for her, as I have just cause, being her uncle and her guardian. I would she had bestowed this dotage on me; I would have daffed all other respects and made her half myself. I pray you, tell Benedick of it, and hear what a' will say. Were it good, think you? Hero thinks surely she will die; for she says she will die if he love her not, and she will die ere she make her love known, and she will die if he woo her, rather than she will bate one breath of her accustomed crossness. She doth well: if she should make tender of her love, 'tis very possible he'll scorn it; for the man,—as you know all,—hath a contemptible spirit. he is a very proper man. He hath indeed a good outward happiness. 'Fore God, and in my mind, very wise. He doth indeed show some sparks that are like wit. And I take him to be valiant. As Hector, I assure you: and in the managing of quarrels you may say he is wise; for either he avoids them with great discretion, or undertakes them with a most Christian-like fear. If he do fear God, a' must necessarily keep peace: if he break the peace, he ought to enter into a quarrel with fear and trembling. And so will he do; for the man doth fear God, howsoever it seems not in him by some large jests he will make. Well, I am sorry for your niece. Shall we go seek Benedick, and tell him of her love? Never tell him, my lord: let her wear it out with good counsel. Nay, that's impossible: she may wear her heart out first. Well, we will hear further of it by your daughter: let it cool the while. I love Benedick well, and I could wish he would modestly examine himself, to see how much he is unworthy to have so good a lady. My lord, will you walk? dinner is ready. If he do not dote on her upon this, I will never trust my expectation. Let there be the same net spread for her; and that must your daughter and her gentlewoman carry. The sport will be, when they hold one an opinion of another's dotage, and no such matter: that's the scene that I would see, which will be merely a dumbshow. Let us send her to call him in to dinner. This can be no trick: the conference was sadly borne. They have the truth of this from Hero. They seem to pity the lady: it seems, her affections have their full bent. Love me! why, it must be requited. I hear how I am censured: they say I will bear myself proudly, if I perceive the love come from her; they say too that she will rather die than give any sign of affection. I did never think to marry: I must not seem proud: happy are they that hear their detractions, and can put them to mending. They say the lady is fair: 'tis a truth, I can bear them witness; and virtuous: 'tis so, I cannot reprove it; and wise, but for loving me: by my troth, it is no addition to her wit, nor no great argument of her folly, for I will be horribly in love with her. I may chance have some odd quirks and remnants of wit broken on me, because I have railed so long against marriage; but doth not the appetite alter? A man loves the meat in his youth that he cannot endure in his age. Shall quips and sentences and these paper bullets of the brain awe a man from the career of his humour? No; the world must be peopled. When I said I would die a bachelor, I did not think I should live till I were married. Here comes Beatrice. By this day! she's a fair lady: I do spy some marks of love in her. Against my will I am sent to bid you come in to dinner. Fair Beatrice, I thank you for your pains. I took no more pains for those thanks than you take pains to thank me: if it had been painful, I would not have come. You take pleasure then in the message? Yea, just so much as you may take upon a knife's point, and choke a daw withal. You have no stomach, signior: fare you well. Ha! 'Against my will I am sent to bid you come in to dinner,' there's a double meaning in that. 'I took no more pains for those thanks than you took pains to thank me,' that's as much as to say, Any pains that I take for you is as easy as thanks. If I do not take pity of her, I am a villain; if I do not love her, I am a Jew. I will go get her picture. Good Margaret, run thee to the parlour; There shalt thou find my cousin Beatrice Proposing with the prince and Claudio: Whisper her ear, and tell her, I and Ursula Walk in the orchard, and our whole discourse Is all of her; say that thou overheard'st us, And bid her steal into the pleached bower, Where honey-suckles, ripen'd by the sun, Forbid the sun to enter; like favourites, Made proud by princes, that advance their pride Against that power that bred it. There will she hide her, To listen our propose. This is thy office; Bear thee well in it and leave us alone. I'll make her come, I warrant you, presently. Now, Ursula, when Beatrice doth come, As we do trace this alley up and down, Our talk must only be of Benedick: When I do name him, let it be thy part To praise him more than ever man did merit. My talk to thee must be how Benedick Is sick in love with Beatrice: of this matter Is little Cupid's crafty arrow made, That only wounds by hearsay. Now begin; For look where Beatrice, like a lapwing, runs Close by the ground, to hear our conference. The pleasant'st angling is to see the fish Cut with her golden oars the silver stream, And greedily devour the treacherous bait: So angle we for Beatrice; who even now Is couched in the woodbine coverture. Fear you not my part of the dialogue. Then go we near her, that her ear lose nothing Of the false sweet bait that we lay for it. No, truly, Ursula, she is too disdainful; I know her spirits are as coy and wild As haggerds of the rock. But are you sure That Benedick loves Beatrice so entirely? So says the prince, and my new-trothed lord. And did they bid you tell her of it, madam? They did entreat me to acquaint her of it; But I persuaded them, if they lov'd Benedick, To wish him wrestle with affection, And never to let Beatrice know of it. Why did you so? Doth not the gentleman Deserve as full as fortunate a bed As ever Beatrice shall couch upon? O god of love! I know he doth deserve As much as may be yielded to a man; But nature never fram'd a woman's heart Of prouder stuff than that of Beatrice; Disdain and scorn ride sparkling in her eyes, Misprising what they look on, and her wit Values itself so highly, that to her All matter else seems weak. She cannot love, Nor take no shape nor project of affection, She is so self-endear'd. Sure, I think so; And therefore certainly it were not good She knew his love, lest she make sport at it. Why, you speak truth. I never yet saw man, How wise, how noble, young, how rarely featur'd, But she would spell him backward: if fair-fac'd, She would swear the gentleman should be her sister; If black, why, Nature, drawing of an antick, Made a foul blot; if tall, a lance ill-headed; If low, an agate very vilely cut; If speaking, why, a vane blown with all winds; If silent, why, a block moved with none. So turns she every man the wrong side out, And never gives to truth and virtue that Which simpleness and merit purchaseth. Sure, sure, such carping is not commendable. No; not to be so odd and from all fashions As Beatrice is, cannot be commendable. But who dare tell her so? If I should speak, She would mock me into air: O! she would laugh me Out of myself, press me to death with wit. Therefore let Benedick, like cover'd fire, Consume away in sighs, waste inwardly: It were a better death than die with mocks, Which is as bad as die with tickling. Yet tell her of it: hear what she will say. No; rather I will go to Benedick, And counsel him to fight against his passion. And, truly, I'll devise some honest slanders To stain my cousin with. One doth not know How much an ill word may empoison liking. O! do not do your cousin such a wrong. She cannot be so much without true judgment,— Having so swift and excellent a wit As she is priz'd to have,—as to refuse So rare a gentleman as Signior Benedick. He is the only man of Italy, Always excepted my dear Claudio. I pray you, be not angry with me, madam, Speaking my fancy: Signior Benedick, For shape, for bearing, argument and valour, Goes foremost in report through Italy. Indeed, he hath an excellent good name. His excellence did earn it, ere he had it. When are you married, madam? Why, every day, to-morrow. Come, go in: I'll show thee some attires, and have thy counsel Which is the best to furnish me to-morrow. She's lim'd, I warrant you: we have caught her, madam. If it prove so, then loving goes by haps: Some Cupid kills with arrows, some with traps. What fire is in mine ears? Can this be true? Stand I condemn'd for pride and scorn so much? Contempt, farewell! and maiden pride, adieu! No glory lives behind the back of such. And, Benedick, love on; I will requite thee, Taming my wild heart to thy loving hand: If thou dost love, my kindness shall incite thee To bind our loves up in a holy band; For others say thou dost deserve, and I Believe it better than reportingly. I do but stay till your marriage be consummate, and then go I toward Arragon. I'll bring you thither, my lord, if you'll vouchsafe me. Nay, that would be as great a soil in the new gloss of your marriage, as to show a child his new coat and forbid him to wear it. I will only be bold with Benedick for his company; for, from the crown of his head to the sole of his foot, he is all mirth: he hath twice or thrice cut Cupid's bow-string, and the little hangman dare not shoot at him. He hath a heart as sound as a bell, and his tongue is the clapper; for what his heart thinks his tongue speaks. Gallants, I am not as I have been. So say I: methinks you are sadder. I hope he be in love. Hang him, truant! there's no true drop of blood in him, to be truly touched with love. If he be sad, he wants money. I have the tooth-ache. Draw it. Hang it. You must hang it first, and draw it afterwards. What! sigh for the tooth-ache? Where is but a humour or a worm? Well, every one can master a grief but he that has it. Yet say I, he is in love. There is no appearance of fancy in him, unless it be a fancy that he hath to strange disguises; as, to be a Dutchman to-day, a Frenchman to-morrow, or in the shape of two countries at once, as a German from the waist downward, all slops, and a Spaniard from the hip upward, no doublet. Unless he have a fancy to this foolery, as it appears he hath, he is no fool for fancy, as you would have it appear he is. If he be not in love with some woman, there is no believing old signs: a' brushes his hat a mornings; what should that bode? Hath any man seen him at the barber's? No, but the barber's man hath been seen with him; and the old ornament of his cheek hath already stuffed tennis-balls. Indeed he looks younger than he did, by the loss of a beard. Nay, a' rubs himself with civet: can you smell him out by that? That's as much as to say the sweet youth's in love. The greatest note of it is his melancholy. And when was he wont to wash his face? Yea, or to paint himself? for the which, I hear what they say of him. Nay, but his jesting spirit; which is now crept into a lute-string, and new-governed by stops. Indeed, that tells a heavy tale for him. Conclude, conclude he is in love. Nay, but I know who loves him. That would I know too: I warrant, one that knows him not. Yes, and his ill conditions; and in despite of all, dies for him. She shall be buried with her face upwards. Yet is this no charm for the tooth-ache. Old signior, walk aside with me: I have studied eight or nine wise words to speak to you, which these hobby-horses must not hear. For my life, to break with him about Beatrice. 'Tis even so. Hero and Margaret have by this played their parts with Beatrice, and then the two bears will not bite one another when they meet. My lord and brother, God save you! Good den, brother. If your leisure served, I would speak with you. In private? If it please you; yet Count Claudio may hear, for what I would speak of concerns him. What's the matter? Means your lordship to be married to-morrow? You know he does. I know not that, when he knows what I know. If there be any impediment, I pray you discover it. You may think I love you not: let that appear hereafter, and aim better at me by that I now will manifest. For my brother, I think he holds you well, and in dearness of heart hath holp to effect your ensuing marriage; surely suit ill-spent, and labour ill bestowed! Why, what's the matter? I came hither to tell you; and circumstances shortened,—for she hath been too long a talking of,—the lady is disloyal. Who, Hero? Even she: Leonato's Hero, your Hero, every man's Hero. Disloyal? The word's too good to paint out her wickedness; I could say, she were worse: think you of a worse title, and I will fit her to it. Wonder not till further warrant: go but with me to-night, you shall see her chamber-window entered, even the night before her wedding-day: if you love her then, to-morrow wed her; but it would better fit your honour to change your mind. May this be so? I will not think it. If you dare not trust that you see, confess not that you know. If you will follow me, I will show you enough; and when you have seen more and heard more, proceed accordingly. If I see any thing to-night why I should not marry her to-morrow, in the congregation, where I should wed, there will I shame her. And, as I wooed for thee to obtain her, I will join with thee to disgrace her. I will disparage her no further till you are my witnesses: bear it coldly but till midnight, and let the issue show itself. O day untowardly turned! O mischief strangely thwarting! O plague right well prevented! So will you say when you have seen the sequel. Are you good men and true? Yea, or else it were pity but they should suffer salvation, body and soul. Nay, that were a punishment too good for them, if they should have any allegiance in them, being chosen for the prince's watch. Well, give them their charge, neighbour Dogberry. First, who think you the most desartless man to be constable? Hugh Oatcake, sir, or George Seacoal; for they can write and read. Come hither, neighbour Seacoal. God hath blessed you with a good name: to be a well-favoured man is the gift of fortune; but to write and read comes by nature. Both which, Master constable,— You have: I knew it would be your answer. Well, for your favour, sir, why, give God thanks, and make no boast of it; and for your writing and reading, let that appear when there is no need of such vanity. You are thought here to be the most senseless and fit man for the constable of the watch; therefore bear you the lanthorn. This is your charge: you shall comprehend all vagrom men; you are to bid any man stand, in the prince's name. How, if a' will not stand? Why, then, take no note of him, but let him go; and presently call the rest of the watch together, and thank God you are rid of a knave. If he will not stand when he is bidden, he is none of the prince's subjects. True, and they are to meddle with none but the prince's subjects. You shall also make no noise in the streets: for, for the watch to babble and to talk is most tolerable and not to be endured. We will rather sleep than talk: we know what belongs to a watch. Why, you speak like an ancient and most quiet watchman, for I cannot see how sleeping should offend; only have a care that your bills be not stolen. Well, you are to call at all the alehouses, and bid those that are drunk get them to bed. How if they will not? Why then, let them alone till they are sober: if they make you not then the better answer, you may say they are not the men you took them for. Well, sir. If you meet a thief, you may suspect him, by virtue of your office, to be no true man; and, for such kind of men, the less you meddle or make with them, why, the more is for your honesty. If we know him to be a thief, shall we not lay hands on him? Truly, by your office, you may; but I think they that touch pitch will be defiled. The most peaceable way for you, if you do take a thief, is, to let him show himself what he is and steal out of your company. You have been always called a merciful man, partner. Truly, I would not hang a dog by my will, much more a man who hath any honesty in him. If you hear a child cry in the night, you must call to the nurse and bid her still it. How if the nurse be asleep and will not hear us? Why, then, depart in peace, and let the child wake her with crying; for the ewe that will not hear her lamb when it baes, will never answer a calf when he bleats. 'Tis very true. This is the end of the charge. You constable, are to present the prince's own person: if you meet the prince in the night, you may stay him. Nay, by 'r lady, that I think, a' cannot. Five shillings to one on't, with any man that knows the statues, he may stay him: marry, not without the prince be willing; for, indeed, the watch ought to offend no man, and it is an offence to stay a man against his will. By 'r lady, I think it be so. Ha, ah, ha! Well, masters, good night: an there be any matter of weight chances, call up me: keep your fellows' counsels and your own, and good night. Come, neighbour. Well, masters, we hear our charge: let us go sit here upon the church-bench till two, and then all go to bed. One word more, honest neighbours. I pray you, watch about Signior Leonato's door; for the wedding being there to-morrow, there is a great coil to-night. Adieu; be vigitant, I beseech you. What, Conrade! Peace! stir not. Conrade, I say! Here, man, I am at thy elbow. Mass, and my elbow itched; I thought there would a scab follow. I will owe thee an answer for that; and now forward with thy tale. Stand thee close then under this penthouse, for it drizzles rain, and I will, like a true drunkard, utter all to thee. Some treason, masters; yet stand close. Therefore know, I have earned of Don John a thousand ducats. Is it possible that any villany should be so dear? Thou shouldst rather ask if it were possible any villany should be so rich; for when rich villains have need of poor ones, poor ones may make what price they will. I wonder at it. That shows thou art unconfirmed. Thou knowest that the fashion of a doublet, or a hat, or a cloak, is nothing to a man. Yes, it is apparel. I mean, the fashion. Yes, the fashion is the fashion. Tush! I may as well say the fool's the fool. But seest thou not what a deformed thief this fashion is? I know that Deformed; a' has been a vile thief this seven years; a' goes up and down like a gentleman: I remember his name. Didst thou not hear somebody? No: 'twas the vane on the house. Seest thou not, I say, what a deformed thief this fashion is? how giddily he turns about all the hot bloods between fourteen and five-and-thirty? sometime fashioning them like Pharaoh's soldiers in the reechy painting; sometime like god Bel's priests in the old church-window; sometime like the shaven Hercules in the smirched worm-eaten tapestry, where his cod-piece seems as massy as his club? All this I see, and I see that the fashion wears out more apparel than the man. But art not thou thyself giddy with the fashion too, that thou hast shifted out of thy tale into telling me of the fashion? Not so, neither; but know, that I have to-night wooed Margaret, the Lady Hero's gentlewoman, by the name of Hero: she leans me out at her mistress' chamber-window, bids me a thousand times good night,—I tell this tale vilely:—I should first tell thee how the prince, Claudio, and my master, planted and placed and possessed by my master Don John, saw afar off in the orchard this amiable encounter. And thought they Margaret was Hero? Two of them did, the prince and Claudio; but the devil my master, knew she was Margaret; and partly by his oaths, which first possessed them, partly by the dark night, which did deceive them, but chiefly by my villany, which did confirm any slander that Don John had made, away went Claudio enraged; swore he would meet her, as he was appointed, next morning at the temple, and there, before the whole congregation, shame her with what he saw o'er night, and send her home again without a husband. We charge you in the prince's name, stand! Call up the right Master constable. We have here recovered the most dangerous piece of lechery that ever was known in the commonwealth. And one Deformed is one of them: I know him, a' wears a lock. Masters, masters! You'll be made bring Deformed forth, I warrant you. Masters,— Never speak: we charge you let us obey you to go with us. We are like to prove a goodly commodity, being taken up of these men's bills. A commodity in question, I warrant you. Come, we'll obey you. Good Ursula, wake my cousin Beatrice, and desire her to rise. I will, lady. And bid her come hither. Well. Troth, I think your other rabato were better. No, pray thee, good Meg, I'll wear this. By my troth's not so good; and I warrant your cousin will say so. My cousin's a fool, and thou art another: I'll wear none but this. I like the new tire within excellently, if the hair were a thought browner; and your gown's a most rare fashion, i' faith. I saw the Duchess of Milan's gown that they praise so. O! that exceeds, they say. By my troth's but a night-gown in respect of yours: cloth o' gold, and cuts, and laced with silver, set with pearls, down sleeves, side sleeves, and skirts round, underborne with a bluish tinsel; but for a fine, quaint, graceful, and excellent fashion, yours is worth ten on't. God give me joy to wear it! for my heart is exceeding heavy. 'Twill be heavier soon by the weight of a man. Fie upon thee! art not ashamed? Of what, lady? of speaking honourably? is not marriage honourable in a beggar? Is not your lord honourable without marriage? I think you would have me say, 'saving your reverence, a husband:' an bad thinking do not wrest true speaking, I'll offend nobody. Is there any harm in 'the heavier for a husband?' None, I think, an it be the right husband and the right wife; otherwise 'tis light, and not heavy: ask my Lady Beatrice else; here she comes. Good morrow, coz. Good morrow, sweet Hero. Why, how now! do you speak in the sick tune? I am out of all other tune, methinks. Clap's into 'Light o' love;' that goes without a burden: do you sing it, and I'll dance it. Ye light o' love with your heels! then, if your husband have stables enough, you'll see he shall lack no barns. O illegitimate construction! I scorn that with my heels. 'Tis almost five o'clock, cousin; 'tis time you were ready. By my troth, I am exceeding ill. Heigh-ho! For a hawk, a horse, or a husband? For the letter that begins them all, H. Well, an you be not turned Turk, there's no more sailing by the star. What means the fool, trow? Nothing I; but God send every one their heart's desire! These gloves the count sent me; they are an excellent perfume. I am stuffed, cousin, I cannot smell. A maid, and stuffed! there's goodly catching of cold. O, God help me! God help me! how long have you professed apprehension? Ever since you left it. Doth not my wit become me rarely! It is not seen enough, you should wear it in your cap. By my troth, I am sick. Get you some of this distilled Carduus Benedictus, and lay it to your heart: it is the only thing for a qualm. There thou prick'st her with a thistle. Benedictus! why Benedictus? you have some moral in this Benedictus. Moral! no, by my troth, I have no moral meaning; I meant, plain holy-thistle. You may think, perchance, that I think you are in love: nay, by'r lady, I am not such a fool to think what I list; nor I list not to think what I can; nor, indeed, I cannot think, if I would think my heart out of thinking, that you are in love, or that you will be in love, or that you can be in love. Yet Benedick was such another, and now is he become a man: he swore he would never marry; and yet now, in despite of his heart, he eats his meat without grudging: and how you may be converted, I know not; but methinks you look with your eyes as other women do. What pace is this that thy tongue keeps? Not a false gallop. Madam, withdraw: the prince, the count, Signior Benedick, Don John, and all the gallants of the town, are come to fetch you to church. Help to dress me, good coz, good Meg, good Ursula. What would you with me, honest neighbour? Marry, sir, I would have some confidence with you, that decerns you nearly. Brief, I pray you; for you see it is a busy time with me. Marry, this it is, sir. Yes, in truth it is, sir. What is it, my good friends? Goodman Verges, sir, speaks a little off the matter: an old man, sir, and his wits are not so blunt, as, God help, I would desire they were; but, in faith, honest as the skin between his brows. Yes, I thank God, I am as honest as any man living, that is an old man and no honester than I. Comparisons are odorous: palabras, neighbour Verges. Neighbours, you are tedious. It pleases your worship to say so, but we are the poor duke's officers; but truly, for mine own part, if I were as tedious as a king, I could find in my heart to bestow it all of your worship. All thy tediousness on me! ha? Yea, an't were a thousand pound more than 'tis; for I hear as good exclamation on your worship, as of any man in the city, and though I be but a poor man, I am glad to hear it. And so am I. I would fain know what you have to say. Marry, sir, our watch to-night, excepting your worship's presence, ha' ta'en a couple of as arrant knaves as any in Messina. A good old man, sir; he will be talking; as they say, 'when the age is in, the wit is out.' God help us! it is a world to see! Well said, i' faith, neighbour Verges: well, God's a good man; an two men ride of a horse, one must ride behind. An honest soul, i' faith, sir; by my troth he is, as ever broke bread: but God is to be worshipped: all men are not alike; alas! good neighbour. Indeed, neighbour, he comes too short of you. Gifts that God gives. I must leave you. One word, sir: our watch, sir, hath indeed comprehended two aspicious persons, and we would have them this morning examined before your worship. Take their examination yourself, and bring it me: I am now in great haste, as may appear unto you. It shall be suffigance. Drink some wine ere you go: fare you well. My lord, they stay for you to give your daughter to her husband. I'll wait upon them: I am ready. Go, good partner, go, get you to Francis Seacoal; bid him bring his pen and inkhorn to the gaol: we are now to examination these men. And we must do it wisely. We will spare for no wit, I warrant you; here's that shall drive some of them to a non-come: only get the learned writer to set down our excommunication, and meet me at the gaol. Come, Friar Francis, be brief: only to the plain form of marriage, and you shall recount their particular duties afterwards. You come hither, my lord, to marry this lady? No. To be married to her, friar; you come to marry her. Lady, you come hither to be married to this count? I do. If either of you know any inward impediment, why you should not be conjoined, I charge you, on your souls, to utter it. Know you any, Hero? None, my lord. Know you any, count? I dare make his answer; none. O! what men dare do! what men may do! what men daily do, not knowing what they do! How now! Interjections? Why then, some be of laughing, as ah! ha! he! Stand thee by, friar. Father, by your leave: Will you with free and unconstrained soul Give me this maid, your daughter? As freely, son, as God did give her me. And what have I to give you back whose worth May counterpoise this rich and precious gift? Nothing, unless you render her again. Sweet prince, you learn me noble thankfulness. There, Leonato, take her back again: Give not this rotten orange to your friend; She's but the sign and semblance of her honour. Behold! how like a maid she blushes here. O! what authority and show of truth Can cunning sin cover itself withal. Comes not that blood as modest evidence To witness simple virtue? Would you not swear, All you that see her, that she were a maid, By these exterior shows? But she is none: She knows the heat of a luxurious bed; Her blush is guiltiness, not modesty. What do you mean, my lord? Not to be married, Not to knit my soul to an approved wanton. Dear my lord, if you, in your own proof, Have vanquish'd the resistance of her youth, And made defeat of her virginity,— I know what you would say: if I have known her, You'll say she did embrace me as a husband, And so extenuate the 'forehand sin: No, Leonato, I never tempted her with word too large; But, as a brother to his sister, show'd Bashful sincerity and comely love. And seem'd I ever otherwise to you? Out on thee! Seeming! I will write against it: You seem to me as Dian in her orb, As chaste as is the bud ere it be blown; But you are more intemperate in your blood Than Venus, or those pamper'd animals That rage in savage sensuality. Is my lord well, that he doth speak so wide? Sweet prince, why speak not you? What should I speak? I stand dishonour'd, that have gone about To link my dear friend to a common stale. Are these things spoken, or do I but dream? Sir, they are spoken, and these things are true. This looks not like a nuptial. True! O God! Leonato, stand I here? Is this the prince? Is this the prince's brother? Is this face Hero's? Are our eyes our own? All this is so; but what of this, my lord? Let me but move one question to your daughter; And by that fatherly and kindly power That you have in her, bid her answer truly. I charge thee do so, as thou art my child. O, God defend me! how am I beset! What kind of catechizing call you this? To make you answer truly to your name. Is it not Hero? Who can blot that name With any just reproach? Marry, that can Hero: Hero itself can blot out Hero's virtue. What man was he talk'd with you yesternight Out at your window, betwixt twelve and one? Now, if you are a maid, answer to this. I talk'd with no man at that hour, my lord. Why, then are you no maiden. Leonato, I am sorry you must hear: upon mine honour, Myself, my brother, and this grieved count, Did see her, hear her, at that hour last night, Talk with a ruffian at her chamber-window; Who hath indeed, most like a liberal villain, Confess'd the vile encounters they have had A thousand times in secret. Fie, fie! they are not to be nam'd, my lord, Not to be spoke of; There is not chastity enough in language Without offence to utter them. Thus, pretty lady, I am sorry for thy much misgovernment. O Hero! what a Hero hadst thou been, If half thy outward graces had been plac'd About thy thoughts and counsels of thy heart! But fare thee well, most foul, most fair! farewell, Thou pure impiety, and impious purity! For thee I'll lock up all the gates of love, And on my eyelids shall conjecture hang, To turn all beauty into thoughts of harm, And never shall it more be gracious. Hath no man's dagger here a point for me? Why, how now, cousin! wherefore sink you down? Come, let us go. These things, come thus to light, Smother her spirits up. How doth the lady? Dead, I think! help, uncle! Hero! why, Hero! Uncle! Signior Benedick! Friar! O Fate! take not away thy heavy hand: Death is the fairest cover for her shame That may be wish'd for. How now, cousin Hero! Have comfort, lady. Dost thou look up? Yea; wherefore should she not? Wherefore! Why, doth not every earthly thing Cry shame upon her? Could she here deny The story that is printed in her blood? Do not live, Hero; do not ope thine eyes; For, did I think thou wouldst not quickly die, Thought I thy spirits were stronger than thy shames, Myself would, on the rearward of reproaches, Strike at thy life. Griev'd I, I had but one? Chid I for that at frugal nature's frame? O! one too much by thee. Why had I one? Why ever wast thou lovely in mine eyes? Why had I not with charitable hand Took up a beggar's issue at my gates, Who smirched thus, and mir'd with infamy, I might have said, 'No part of it is mine; This shame derives itself from unknown loins?' But mine, and mine I lov'd, and mine I prais'd, And mine that I was proud on, mine so much That I myself was to myself not mine, Valuing of her; why, she—O! she is fallen Into a pit of ink, that the wide sea Hath drops too few to wash her clean again, And salt too little which may season give To her foul-tainted flesh. Sir, sir, be patient. For my part, I am so attir'd in wonder, I know not what to say. O! on my soul, my cousin is belied! Lady, were you her bedfellow last night? No, truly, not; although, until last night, I have this twelvemonth been her bedfellow. Confirm'd, confirm'd! O! that is stronger made, Which was before barr'd up with ribs of iron. Would the two princes lie? and Claudio lie, Who lov'd her so, that, speaking of her foulness, Wash'd it with tears? Hence from her! let her die. Hear me a little; For I have only been silent so long, And given way unto this course of fortune, By noting of the lady: I have mark'd A thousand blushing apparitions To start into her face; a thousand innocent shames In angel whiteness bear away those blushes; And in her eye there hath appear'd a fire, To burn the errors that these princess hold Against her maiden truth. Call me a fool; Trust not my reading nor my observations, Which with experimental seal doth warrant The tenour of my book; trust not my age, My reverence, calling, nor divinity, If this sweet lady lie not guiltless here Under some biting error. Friar, it cannot be. Thou seest that all the grace that she hath left Is, that she will not add to her damnation A sin of perjury: she not denies it. Why seek'st thou then to cover with excuse That which appears in proper nakedness? Lady, what man is he you are accus'd of? They know that do accuse me, I know none; If I know more of any man alive Than that which maiden modesty doth warrant, Let all my sins lack mercy! O, my father! Prove you that any man with me convers'd At hours unmeet, or that I yesternight Maintain'd the change of words with any creature, Refuse me, hate me, torture me to death. There is some strange misprision in the princes. Two of them have the very bent of honour; And if their wisdoms be misled in this, The practice of it lives in John the bastard, Whose spirits toil in frame of villanies. I know not. If they speak but truth of her, These hands shall tear her; if they wrong her honour, The proudest of them shall well hear of it. Time hath not yet so dried this blood of mine. Nor age so eat up my invention, Nor fortune made such havoc of my means, Nor my bad life reft me so much of friends, But they shall find, awak'd in such a kind, Both strength of limb and policy of mind, Ability in means and choice of friends, To quit me of them throughly. Pause awhile, And let my counsel sway you in this case. Your daughter here the princes left for dead; Let her awhile be secretly kept in, And publish it that she is dead indeed: Maintain a mourning ostentation; And on your family's old monument Hang mournful epitaphs and do all rites That appertain unto a burial. What shall become of this? What will this do? Marry, this well carried shall on her behalf Change slander to remorse; that is some good: But not for that dream I on this strange course, But on this travail look for greater birth. She dying, as it must be so maintain'd, Upon the instant that she was accus'd, Shall be lamented, pitied and excus'd Of every hearer; for it so falls out That what we have we prize not to the worth Whiles we enjoy it, but being lack'd and lost, Why, then we rack the value, then we find The virtue that possession would not show us Whiles it was ours. So will it fare with Claudio: When he shall hear she died upon his words, The idea of her life shall sweetly creep Into his study of imagination, And every lovely organ of her life Shall come apparell'd in more precious habit, More moving-delicate, and full of life Into the eye and prospect of his soul, Than when she liv'd indeed: then shall he mourn,— If ever love had interest in his liver,— And wish he had not so accused her, No, though he thought his accusation true. Let this be so, and doubt not but success Will fashion the event in better shape Than I can lay it down in likelihood. But if all aim but this be levell'd false, The supposition of the lady's death Will quench the wonder of her infamy: And if it sort not well, you may conceal her,— As best befits her wounded reputation,— In some reclusive and religious life, Out of all eyes, tongues, minds, and injuries. Signior Leonato, let the friar advise you: And though you know my inwardness and love Is very much unto the prince and Claudio, Yet, by mine honour, I will deal in this As secretly and justly as your soul Should with your body. Being that I flow in grief, The smallest twine may lead me. 'Tis well consented: presently away; For to strange sores strangely they strain the cure. Come, lady, die to live: this wedding day Perhaps is but prolong'd: have patience and endure. Lady Beatrice, have you wept all this while? Yea, and I will weep a while longer. I will not desire that. You have no reason; I do it freely. Surely I do believe your fair cousin is wronged. Ah! how much might the man deserve of me that would right her. Is there any way to show such friendship? A very even way, but no such friend. May a man do it? It is a man's office, but not yours. I do love nothing in the world so well as you: is not that strange? As strange as the thing I know not. It were as possible for me to say I loved nothing so well as your, but believe me not, and yet I lie not; I confess nothing, not I deny nothing. I am sorry for my cousin. By my sword, Beatrice, thou lovest me. Do not swear by it, and eat it. I will swear by it that you love me; and I will make him eat it that says I love not you. Will you not eat your word? With no sauce that can be devised to it. I protest I love thee. Why then, God forgive me! What offence, sweet Beatrice? You have stayed me in a happy hour: I was about to protest I loved you. And do it with all thy heart. I love you with so much of my heart that none is left to protest. Come, bid me do anything for thee. Kill Claudio. Ha! not for the wide world. You kill me to deny it. Farewell. Tarry, sweet Beatrice. I am gone, though I am here: there is no love in you: nay, I pray you, let me go. Beatrice,— In faith, I will go. We'll be friends first. You dare easier be friends with me than fight with mine enemy. Is Claudio thine enemy? Is he not approved in the height a villain, that hath slandered, scorned, dishonoured my kinswoman? O! that I were a man. What! bear her in hand until they come to take hands, and then, with public accusation, uncovered slander, unmitigated rancour,—O God, that I were a man! I would eat his heart in the market-place. Hear me, Beatrice,— Talk with a man out at a window! a proper saying! Nay, but Beatrice,— Sweet Hero! she is wronged, she is slandered, she is undone. Beat— Princes and counties! Surely, a princely testimony, a goodly Count Comfect; a sweet gallant, surely! O! that I were a man for his sake, or that I had any friend would be a man for my sake! But manhood is melted into curtsies, valour into compliment, and men are only turned into tongue, and trim ones too: he is now as valiant as Hercules, that only tells a lie and swears it. I cannot be a man with wishing, therefore I will die a woman with grieving. Tarry, good Beatrice. By this hand, I love thee. Use it for my love some other way than swearing by it. Think you in your soul the Count Claudio hath wronged Hero? Yea, as sure as I have a thought or a soul. Enough! I am engaged, I will challenge him. I will kiss your hand, and so leave you. By this hand, Claudio shall render me a dear account. As you hear of me, so think of me. Go, comfort your cousin: I must say she is dead; and so, farewell. Is our whole dissembly appeared? O! a stool and a cushion for the sexton. Which be the malefactors? Marry, that am I and my partner. Nay, that's certain: we have the exhibition to examine. But which are the offenders that are to be examined? let them come before Master constable. Yea, marry, let them come before me. What is your name, friend? Borachio. Pray write down Borachio. Yours, sirrah? I am a gentleman, sir, and my name is Conrade. Write down Master gentleman Conrade. Masters, do you serve God? Yea, sir, we hope. Yea, sir, we hope. Write down that they hope they serve God: and write God first; for God defend but God should go before such villains! Masters, it is proved already that you are little better than false knaves, and it will go near to be thought so shortly. How answer you for yourselves? Marry, sir, we say we are none. A marvellous witty fellow, I assure you; but I will go about with him. Come you hither, sirrah; a word in your ear: sir, I say to you, it is thought you are false knaves. Sir, I say to you we are none. Well, stand aside. 'Fore God, they are both in a tale. Have you writ down, that they are none? Master constable, you go not the way to examine: you must call forth the watch that are their accusers. Yea, marry, that's the eftest way. Let the watch come forth. Masters, I charge you, in the prince's name, accuse these men. This man said, sir, that Don John, the prince's brother, was a villain. Write down Prince John a villain. Why, this is flat perjury, to call a prince's brother villain. Master constable,— Pray thee, fellow, peace: I do not like thy look, I promise thee. What heard you him say else? Marry, that he had received a thousand ducats of Don John for accusing the Lady Hero wrongfully. Flat burglary as ever was committed. Yea, by the mass, that it is. What else, fellow? And that Count Claudio did mean, upon his words, to disgrace Hero before the whole assembly, and not marry her. O villain! thou wilt be condemned into everlasting redemption for this. What else? This is all. And this is more, masters, than you can deny. Prince John is this morning secretly stolen away: Hero was in this manner accused, in this very manner refused, and, upon the grief of this, suddenly died. Master constable, let these men be bound, and brought to Leonato's: I will go before and show him their examination. Come, let them be opinioned. Let them be in the hands— Off, coxcomb! God's my life! where's the sexton? let him write down the prince's officer coxcomb. Come, bind them. Thou naughty varlet! Away! you are an ass; you are an ass. Dost thou not suspect my place? Dost thou not suspect my years? O that he were here to write me down an ass! but, masters, remember that I am an ass; though it be not written down, yet forget not that I am an ass. No, thou villain, thou art full of piety, as shall be proved upon thee by good witness. I am a wise fellow; and, which is more, an officer; and, which is more, a householder; and, which is more, as pretty a piece of flesh as any in Messina; and one that knows the law, go to; and a rich fellow enough, go to; and a fellow that hath had losses; and one that hath two gowns, and everything handsome about him. Bring him away. O that I had been writ down an ass! If you go on thus, you will kill yourself; And 'tis not wisdom thus to second grief Against yourself. I pray thee, cease thy counsel, Which falls into mine ears as profitless As water in a sieve: give not me counsel; Nor let no comforter delight mine ear But such a one whose wrongs do suit with mine: Bring me a father that so lov'd his child, Whose joy of her is overwhelm'd like mine, And bid him speak of patience; Measure his woe the length and breadth of mine, And let it answer every strain for strain, As thus for thus and such a grief for such, In every lineament, branch, shape, and form: If such a one will smile, and stroke his beard; Bid sorrow wag, cry 'hem' when he should groan, Patch grief with proverbs; make misfortune drunk With candle-wasters; bring him yet to me, And I of him will gather patience. But there is no such man; for, brother, men Can counsel and speak comfort to that grief Which they themselves not feel; but, tasting it, Their counsel turns to passion, which before Would give preceptial medicine to rage, Fetter strong madness in a silken thread, Charm ache with air and agony with words. No, no; 'tis all men's office to speak patience To those that wring under the load of sorrow, But no man's virtue nor sufficiency To be so moral when he shall endure The like himself. Therefore give me no counsel: My griefs cry louder than advertisement. Therein do men from children nothing differ. I pray thee, peace! I will be flesh and blood; For there was never yet philosopher That could endure the toothache patiently, However they have writ the style of gods And made a push at chance and sufferance. Yet bend not all the harm upon yourself; Make those that do offend you suffer too. There thou speak'st reason: nay, I will do so. My soul doth tell me Hero is belied; And that shall Claudio know; so shall the prince, And all of them that thus dishonour her. Here come the prince and Claudio hastily. Good den, good den. Good day to both of you. Hear you, my lords,— We have some haste, Leonato. Some haste, my lord! well, fare you well, my lord: Are you so hasty now?—well, all is one. Nay, do not quarrel with us, good old man. If he could right himself with quarrelling, Some of us would lie low. Who wrongs him? Marry, thou dost wrong me; thou dissembler, thou. Nay, never lay thy hand upon thy sword; I fear thee not. Marry, beshrew my hand, If it should give your age such cause of fear. In faith, my hand meant nothing to my sword. Tush, tush, man! never fleer and jest at me: I speak not like a dotard nor a fool, As, under privilege of age, to brag What I have done being young, or what would do, Were I not old. Know, Claudio, to thy head, Thou hast so wrong'd mine innocent child and me That I am forc'd to lay my reverence by, And, with grey hairs and bruise of many days, Do challenge thee to trial of a man. I say thou hast belied mine innocent child: Thy slander hath gone through and through her heart, And she lies buried with her ancestors; O! in a tomb where never scandal slept, Save this of hers, fram'd by thy villany! My villany? Thine, Claudio; thine, I say. You say not right, old man. My lord, my lord, I'll prove it on his body, if he dare, Despite his nice fence and his active practice, His May of youth and bloom of lustihood. Away! I will not have to do with you. Canst thou so daff me? Thou hast kill'd my child; If thou kill'st me, boy, thou shalt kill a man. He shall kill two of us, and men indeed: But that's no matter; let him kill one first: Win me and wear me; let him answer me. Come, follow me, boy; come, sir boy, come, follow me. Sir boy, I'll whip you from your foining fence; Nay, as I am a gentleman, I will. Brother,— Content yourself. God knows I lov'd my niece; And she is dead, slander'd to death by villains, That dare as well answer a man indeed As I dare take a serpent by the tongue. Boys, apes, braggarts, Jacks, milksops! Brother Antony,— Hold you content. What, man! I know them, yea, And what they weigh, even to the utmost scruple, Scrambling, out-facing, fashion-monging boys, That lie and cog and flout, deprave and slander, Go antickly, show outward hideousness, And speak off half a dozen dangerous words, How they might hurt their enemies, if they durst; And this is all! But, brother Antony,— Come, 'tis no matter: Do not you meddle, let me deal in this. Gentlemen both, we will not wake your patience. My heart is sorry for your daughter's death; But, on my honour, she was charg'd with nothing But what was true and very full of proof. My lord, my lord— I will not hear you. No? Come, brother, away. I will be heard.— And shall, or some of us will smart for it. See, see; here comes the man we went to seek. Now, signior, what news? Good day, my lord. Welcome, signior: you are almost come to part almost a fray. We had like to have had our two noses snapped off with two old men without teeth. Leonato and his brother. What thinkest thou? Had we fought, I doubt we should have been too young for them. In a false quarrel there is no true valour. I came to seek you both. We have been up and down to seek thee; for we are high-proof melancholy, and would fain have it beaten away. Wilt thou use thy wit? It is in my scabbard; shall I draw it? Dost thou wear thy wit by thy side? Never any did so, though very many have been beside their wit. I will bid thee draw, as we do the minstrels; draw, to pleasure us. As I am an honest man, he looks pale. Art thou sick, or angry? What, courage, man! What though care killed a cat, thou hast mettle enough in thee to kill care. Sir, I shall meet your wit in the career, an you charge it against me. I pray you choose another subject. Nay then, give him another staff: this last was broke cross. By this light, he changes more and more: I think he be angry indeed. If he be, he knows how to turn his girdle. Shall I speak a word in your ear? God bless me from a challenge! You are a villain; I jest not: I will make it good how you dare, with what you dare, and when you dare. Do me right, or I will protest your cowardice. You have killed a sweet lady, and her death shall fall heavy on you. Let me hear from you. Well I will meet you, so I may have good cheer. What, a feast, a feast? I' faith, I thank him; he hath bid me to a calf's-head and a capon, the which if I do not carve most curiously, say my knife's naught. Shall I not find a woodcock too? Sir, your wit ambles well; it goes easily. I'll tell thee how Beatrice praised thy wit the other day. I said, thou hadst a fine wit. 'True,' says she, 'a fine little one.' 'No,' said I, 'a great wit.' 'Right,' said she, 'a great gross one.' 'Nay,' said I, 'a good wit.' 'Just,' said she, 'it hurts nobody.' 'Nay,' said I, 'the gentleman is wise.' 'Certain,' said she, 'a wise gentleman.' 'Nay,' said I, 'he hath the tongues.' 'That I believe,' said she. 'for he swore a thing to me on Monday night, which he forswore on Tuesday morning: there's a double tongue; there's two tongues.' Thus did she, an hour together, trans-shape thy particular virtues; yet at last she concluded with a sigh, thou wast the properest man in Italy. For the which she wept heartily and said she cared not. Yea, that she did; but yet, for all that, an if she did not hate him deadly, she would love him dearly. The old man's daughter told us all. All, all; and moreover, God saw him when he was hid in the garden. But when shall we set the savage bull's horns on the sensible Benedick's head? Yea, and text underneath, 'Here dwells Benedick the married man!' Fare you well, boy: you know my mind. I will leave you now to your gossip-like humour: you break jests as braggarts do their blades, which, God be thanked, hurt not. My lord, for your many courtesies I thank you: I must discontinue your company. Your brother the bastard is fled from Messina: you have, among you, killed a sweet and innocent lady. For my Lord Lack-beard there, he and I shall meet; and till then, peace be with him. He is in earnest. In most profound earnest; and, I'll warrant you, for the love of Beatrice. And hath challenged thee? Most sincerely. What a pretty thing man is when he goes in his doublet and hose and leaves off his wit! He is then a giant to an ape; but then is an ape a doctor to such a man. But, soft you; let me be: pluck up, my heart, and be sad! Did he not say my brother was fled? Come, you, sir: if justice cannot tame you, she shall ne'er weigh more reasons in her balance. Nay, an you be a cursing hypocrite once, you must be looked to. How now! two of my brother's men bound! Borachio, one! Hearken after their offence, my lord. Officers, what offence have these men done? Marry, sir, they have committed false report; moreover, they have spoken untruths; secondarily, they are slanders; sixth and lastly, they have belied a lady; thirdly, they have verified unjust things; and to conclude, they are lying knaves. First, I ask thee what they have done; thirdly, I ask thee what's their offence; sixth and lastly, why they are committed; and, to conclude, what you lay to their charge? Rightly reasoned, and in his own division; and, by my troth, there's one meaning well suited. Who have you offended, masters, that you are thus bound to your answer? this learned constable is too cunning to be understood. What's your offence? Sweet prince, let me go no further to mine answer: do you hear me, and let this count kill me. I have deceived even your very eyes: what your wisdoms could not discover, these shallow fools have brought to light; who, in the night overheard me confessing to this man how Don John your brother incensed me to slander the Lady Hero; how you were brought into the orchard and saw me court Margaret in Hero's garments; how you disgraced her, when you should marry her. My villany they have upon record; which I had rather seal with my death than repeat over to my shame. The lady is dead upon mine and my master's false accusation; and, briefly, I desire nothing but the reward of a villain. Runs not this speech like iron through your blood? I have drunk poison whiles he utter'd it. But did my brother set thee on to this? Yea; and paid me richly for the practice of it. He is compos'd and fram'd of treachery: And fled he is upon this villany. Sweet Hero! now thy image doth appear In the rare semblance that I lov'd it first. Come, bring away the plaintiffs: by this time our sexton hath reformed Signior Leonato of the matter. And masters, do not forget to specify, when time and place shall serve, that I am an ass. Here, here comes Master Signior Leonato, and the sexton too. Which is the villain? Let me see his eyes, That, when I note another man like him, I may avoid him. Which of these is he? If you would know your wronger, look on me. Art thou the slave that with thy breath hast kill'd Mine innocent child? Yea, even I alone. No, not so, villain; thou beliest thyself: Here stand a pair of honourable men; A third is fled, that had a hand in it. I thank you, princes, for my daughter's death Record it with your high and worthy deeds. 'Twas bravely done, if you bethink you of it. I know not how to pray your patience; Yet I must speak. Choose your revenge yourself; Impose me to what penance your invention Can lay upon my sin: yet sinn'd I not But in mistaking. By my soul, nor I: And yet, to satisfy this good old man, I would bend under any heavy weight That he'll enjoin me to. I cannot bid you bid my daughter live; That were impossible: but, I pray you both, Possess the people in Messina here How innocent she died; and if your love Can labour aught in sad invention, Hang her an epitaph upon her tomb, And sing it to her bones: sing it to-night. To-morrow morning come you to my house, And since you could not be my son-in-law, Be yet my nephew. My brother hath a daughter, Almost the copy of my child that's dead, And she alone is heir to both of us: Give her the right you should have given her cousin, And so dies my revenge. O noble sir, Your over-kindness doth wring tears from me! I do embrace your offer; and dispose For henceforth of poor Claudio. To-morrow then I will expect your coming; To-night I take my leave. This naughty man Shall face to face be brought to Margaret, Who, I believe, was pack'd in all this wrong, Hir'd to it by your brother. No, by my soul she was not; Nor knew not what she did when she spoke to me; But always hath been just and virtuous In anything that I do know by her. Moreover, sir,—which, indeed, is not under white and black,—this plaintiff here, the offender, did call me ass: I beseech you, let it be remembered in his punishment. And also, the watch heard them talk of one Deformed: they say he wears a key in his ear and a lock hanging by it, and borrows money in God's name, the which he hath used so long and never paid, that now men grow hard-hearted, and will lend nothing for God's sake. Pray you, examine him upon that point. I thank thee for thy care and honest pains. Your worship speaks like a most thankful and reverend youth, and I praise God for you. There's for thy pains. God save the foundation! Go, I discharge thee of thy prisoner, and I thank thee. I leave an arrant knave with your worship; which I beseech your worship to corect yourself, for the example of others. God keep your worship! I wish your worship well; God restore you to health! I humbly give you leave to depart, and if a merry meeting may be wished, God prohibit it! Come, neighbour. Until to-morrow morning, lords, farewell. Farewell, my lords: we look for you to-morrow. We will not fail. To-night I'll mourn with Hero. Bring you these fellows on. We'll talk with Margaret, How her acquaintance grew with this lewd fellow. Pray thee, sweet Mistress Margaret, deserve well at my hands by helping me to the speech of Beatrice. Will you then write me a sonnet in praise of my beauty? In so high a style, Margaret, that no man living shall come over it; for, in most comely truth, thou deservest it. To have no man come over me! why, shall I always keep below stairs? Thy wit is as quick as the greyhound's mouth; it catches. And yours as blunt as the fencer's foils, which hit, but hurt not. A most manly wit, Margaret; it will not hurt a woman: and so, I pray thee, call Beatrice. I give thee the bucklers. Give us the swords, we have bucklers of our own. If you use them, Margaret, you must put in the pikes with a vice; and they are dangerous weapons for maids. Well, I will call Beatrice to you, who I think hath legs. And therefore will come. The god of love, That sits above, And knows me, and knows me, How pitiful I deserve,— I mean, in singing; but in loving, Leander the good swimmer, Troilus the first employer of pandars, and a whole book full of these quondam carpet-mongers, whose names yet run smoothly in the even road of a blank verse, why, they were never so truly turned over and over as my poor self, in love. Marry, I cannot show it in rime; I have tried: I can find out no rime to 'lady' but 'baby,' an innocent rime; for 'scorn,' 'horn,' a hard rime; for 'school,' 'fool,' a babbling rime; very ominous endings: no, I was not born under a riming planet, nor I cannot woo in festival terms. Sweet Beatrice, wouldst thou come when I called thee? Yea, signior; and depart when you bid me. O, stay but till then! 'Then' is spoken; fare you well now: and yet, ere I go, let me go with that I came for; which is, with knowing what hath passed between you and Claudio. Only foul words; and thereupon I will kiss thee. Foul words is but foul wind, and foul wind is but foul breath, and foul breath is noisome; therefore I will depart unkissed. Thou hast frighted the word out of his right sense, so forcible is thy wit. But I must tell thee plainly, Claudio undergoes my challenge, and either I must shortly hear from him, or I will subscribe him a coward. And, I pray thee now, tell me, for which of my bad parts didst thou first fall in love with me? For them all together; which maintained so politic a state of evil that they will not admit any good part to intermingle with them. But for which of my good parts did you first suffer love for me? 'Suffer love,' a good epithet! I do suffer love indeed, for I love thee against my will. In spite of your heart, I think. Alas, poor heart! If you spite it for my sake, I will spite it for yours; for I will never love that which my friend hates. Thou and I are too wise to woo peaceably. It appears not in this confession: there's not one wise man among twenty that will praise himself. An old, an old instance, Beatrice, that lived in the time of good neighbours. If a man do not erect in this age his own tomb ere he dies, he shall live no longer in monument than the bell rings and the widow weeps. And how long is that think you? Question: why, an hour in clamour and a quarter in rheum: therefore it is most expedient for the wise,—if Don Worm, his conscience, find no impediment to the contrary,—to be the trumpet of his own virtues, as I am to myself. So much for praising myself, who, I myself will bear witness, is praiseworthy. And now tell me, how doth your cousin? Very ill. And how do you? Very ill too. Serve God, love me, and mend. There will I leave you too, for here comes one in haste. Madam, you must come to your uncle. Yonder's old coil at home: it is proved, my Lady Hero hath been falsely accused, the prince and Claudio mightily abused; and Don John is the author of all, who is fled and gone. Will you come presently? Will you go hear this news, signior? I will live in thy heart, die in thy lap, and be buried in thy eyes; and moreover I will go with thee to thy uncle's. Is this the monument of Leonato? It is, my lord. Done to death by slanderous tongues Was the Hero that here lies: Death, in guerdon of her wrongs, Gives her fame which never dies. So the life that died with shame Lives in doath with glorious fame. Hang thou there upon the tomb, Praising her when I am dumb. Now, music, sound, and sing your solemn hymn. Pardon, goddess of the night, Those that slew thy virgin knight; For the which, with songs of woe, Round about her tomb they go. Midnight, assist our moan; Help us to sigh and groan, Heavily, heavily: Graves, yawn and yield your dead, Till death be uttered, Heavily, heavily. Now, unto thy bones good night! Yearly will I do this rite. Good morrow, masters: put your torches out. The wolves have prey'd; and look, the gentle day, Before the wheels of Phœbus, round about Dapples the drowsy east with spots of grey. Thanks to you all, and leave us: fare you well Good morrow, masters: each his several way. Come, let us hence, and put on other weeds; And then to Leonato's we will go. And Hymen now with luckier issue speed's, Than this for whom we render'd up this woe! Did I not tell you she was innocent? So are the prince and Claudio, who accus'd her Upon the error that you heard debated: But Margaret was in some fault for this, Although against her will, as it appears In the true course of all the question. Well, I am glad that all things sort so well. And so am I, being else by faith enforc'd To call young Claudio to a reckoning for it. Well, daughter, and you gentlewomen all, Withdraw into a chamber by yourselves, And when I send for you, come hither mask'd: The prince and Claudio promis'd by this hour To visit me. You know your office, brother; You must be father to your brother's daughter, And give her to young Claudio. Which I will do with confirm'd countenance. Friar, I must entreat your pains, I think. To do what, signior? To bind me, or undo me; one of them. Signior Leonato, truth it is, good signior, Your niece regards me with an eye of favour. That eye my daughter lent her: 'tis most true. And I do with an eye of love requite her. The sight whereof I think, you had from me, From Claudio, and the prince. But what's your will? Your answer, sir, is enigmatical: But, for my will, my will is your good will May stand with ours, this day to be conjoin'd In the state of honourable marriage: In which, good friar, I shall desire your help. My heart is with your liking. And my help. Here come the prince and Claudio. Good morrow to this fair assembly. Good morrow, prince; good morrow, Claudio: We here attend you. Are you yet determin'd To-day to marry with my brother's daughter? I'll hold my mind, were she an Ethiop. Call her forth, brother: here's the friar ready. Good morrow, Benedick. Why, what's the matter, That you have such a February face, So full of frost, of storm and cloudiness? I think he thinks upon the savage bull. Tush! fear not, man, we'll tip thy horns with gold, And all Europa shall rejoice at thee, As once Europa did at lusty Jove, When he would play the noble beast in love. Bull Jove, sir, had an amiable low: And some such strange bull leap'd your father's cow, And got a calf in that same noble feat, Much like to you, for you have just his bleat. For this I owe you: here come other reckonings. Which is the lady I must seize upon? This same is she, and I do give you her. Why, then she's mine. Sweet, let me see your face. No, that you shall not, till you take her hand Before this friar, and swear to marry her. Give me your hand: before this holy friar, I am your husband, if you like of me. And when I liv'd, I was your other wife: And when you lov'd, you were my other husband. Another Hero! Nothing certainer: One Hero died defil'd, but I do live, And surely as I live, I am a maid. The former Hero! Hero that is dead! She died, my lord, but whiles her slander liv'd. All this amazement can I qualify: When after that the holy rites are ended, I'll tell you largely of fair Hero's death: Meantime, let wonder seem familiar, And to the chapel let us presently. Soft and fair, friar. Which is Beatrice? I answer to that name. What is your will? Do not you love me? Why, no; no more than reason. Why, then, your uncle and the prince and Claudio Have been deceived; for they swore you did. Do not you love me? Troth, no; no more than reason. Why, then, my cousin, Margaret, and Ursula, Are much deceiv'd; for they did swear you did. They swore that you were almost sick for me. They swore that you were well-nigh dead for me. 'Tis no such matter. Then, you do not love me? No, truly, but in friendly recompense. Come, cousin, I am sure you love the gentleman. And I'll be sworn upon 't that he loves her; For here's a paper written in his hand, A halting sonnet of his own pure brain, Fashion'd to Beatrice. And here's another, Writ in my cousin's hand, stolen from her pocket, Containing her affection unto Benedick. A miracle! here's our own hands against our hearts. Come, I will have thee; but, by this light, I take thee for pity. I would not deny you; but, by this good day, I yield upon great persuasion, and partly to save your life, for I was told you were in a consumption. Peace! I will stop your mouth. How dost thou, Benedick, the married man? I'll tell thee what, prince; a college of witcrackers cannot flout me out of my humour. Dost thou think I care for a satire or an epigram? No; if a man will be beaten with brains, a' shall wear nothing handsome about him. In brief, since I do purpose to marry, I will think nothing to any purpose that the world can say against it; and therefore never flout at me for what I have said against it, for man is a giddy thing, and this is my conclusion. For thy part, Claudio, I did think to have beaten thee; but, in that thou art like to be my kinsman, live unbruised, and love my cousin. I had well hoped thou wouldst have denied Beatrice, that I might have cudgelled thee out of thy single life, to make thee a double-dealer; which, out of question, thou wilt be, if my cousin do not look exceeding narrowly to thee. Come, come, we are friends. Let's have a dance ere we are married, that we may lighten our own hearts and our wives' heels. We'll have dancing afterward. First, of my word; therefore play, music! Prince, thou art sad; get thee a wife, get thee a wife: there is no staff more reverend than one tipped with horn. My lord, your brother John is ta'en in flight, And brought with armed men back to Messina. Think not on him till to-morrow: I'll devise thee brave punishments for him. Strike up, pipers!\""
      ]
     },
     "execution_count": 5,
     "metadata": {},
     "output_type": "execute_result"
    }
   ],
   "source": [
    "much_ado_clean"
   ]
  },
  {
   "cell_type": "code",
   "execution_count": 6,
   "metadata": {
    "ExecuteTime": {
     "end_time": "2019-07-26T15:42:44.678560Z",
     "start_time": "2019-07-26T15:42:44.668102Z"
    }
   },
   "outputs": [
    {
     "data": {
      "text/plain": [
       "\"Two households, both alike in dignity, In fair Verona, where we lay our scene, From ancient grudge break to new mutiny, Where civil blood makes civil hands unclean. From forth the fatal loins of these two foes A pair of star-cross'd lovers take their life; Whose misadventur'd piteous overthrows Do with their death bury their parents' strife. The fearful passage of their death-mark'd love, And the continuance of their parents' rage, Which, but their children's end, nought could remove, Is now the two hours' traffick of our stage; The which if you with patient ears attend, What here shall miss, our toil shall strive to mend. Gregory, o' my word, we'll not carry coals. No. for then we should be colliers. I mean, an we be in choler, we'll draw. Ay, while you live, draw your neck out o' the collar. I strike quickly, being moved. But thou art not quickly moved to strike. A dog of the house of Montague moves me. To move is to stir, and to be valiant is to stand; therefore, if thou art moved, thou runnest away. A dog of that house shall move me to stand: I will take the wall of any man or maid of Montague's. That shows thee a weak slave; for the weakest goes to the wall. 'Tis true; and therefore women, being the weaker vessels, are ever thrust to the wall: therefore I will push Montague's men from the wall, and thrust his maids to the wall. The quarrel is between our masters and us their men. 'Tis all one, I will show myself a tyrant: when I have fought with the men, I will be cruel with the maids; I will cut off their heads. The heads of the maids? Ay, the heads of the maids, or their maidenheads; take it in what sense thou wilt. They must take it in sense that feel it. Me they shall feel while I am able to stand; and 'tis known I am a pretty piece of flesh. 'Tis well thou art not fish; if thou hadst, thou hadst been poor John. Draw thy tool; here comes two of the house of the Montagues. My naked weapon is out; quarrel, I will back thee. How! turn thy back and run? Fear me not. No, marry; I fear thee! Let us take the law of our sides; let them begin. I will frown as I pass by, and let them take it as they list. Nay, as they dare. I will bite my thumb at them; which is a disgrace to them, if they bear it. Do you bite your thumb at us, sir? I do bite my thumb, sir. Do you bite your thumb at us, sir? Is the law of our side if I say ay? No. No, sir, I do not bite my thumb at you, sir; but I bite my thumb, sir. Do you quarrel, sir? Quarrel, sir! no, sir. If you do, sir, I am for you: I serve as good a man as you. No better. Well, sir. Say, 'better;' here comes one of my master's kinsmen. Yes, better, sir. You lie. Draw, if you be men. Gregory, remember thy swashing blow. Part, fools! Put up your swords; you know not what you do. What! art thou drawn among these heartless hinds? Turn-thee, Benvolio, look upon thy death. I do but keep the peace: put up thy sword, Or manage it to part these men with me. What! drawn, and talk of peace? I hate the word, As I hate hell, all Montagues, and thee. Have at thee, coward! Clubs, bills, and partisans! strike! beat them down! Down with the Capulets! down with the Montagues! What noise is this? Give me my long sword, ho! A crutch, a crutch! Why call you for a sword? My sword, I say! Old Montague is come, And flourishes his blade in spite of me. Thou villain Capulet! Hold me not; let me go. Thou shalt not stir one foot to seek a foe. Rebellious subjects, enemies to peace, Profaners of this neighbour-stained steel,— Will they not hear? What ho! you men, you beasts, That quench the fire of your pernicious rage With purple fountains issuing from your veins, On pain of torture, from those bloody hands Throw your mis-temper'd weapons to the ground, And hear the sentence of your moved prince. Three civil brawls, bred of an airy word, By thee, old Capulet, and Montague, Have thrice disturb'd the quiet of our streets, And made Verona's ancient citizens Cast by their grave beseeming ornaments, To wield old partisans, in hands as old, Canker'd with peace, to part your canker'd hate. If ever you disturb our streets again Your lives shall pay the forfeit of the peace. For this time, all the rest depart away: You, Capulet, shall go along with me; And, Montague, come you this afternoon To know our further pleasure in this case, To old Free-town, our common judgment-place. Once more, on pain of death, all men depart. Who set this ancient quarrel new a-broach? Speak, nephew, were you by when it began? Here were the servants of your adversary And yours close fighting ere I did approach: I drew to part them; in the instant came The fiery Tybalt, with his sword prepar'd, Which, as he breath'd defiance to my ears, He swung about his head, and cut the winds, Who, nothing hurt withal hiss'd him in scorn. While we were interchanging thrusts and blows, Came more and more, and fought on part and part, Till the prince came, who parted either part. O! where is Romeo? saw you him to-day? Right glad I am he was not at this fray. Madam, an hour before the worshipp'd sun Peer'd forth the golden window of the east, A troubled mind drave me to walk abroad; Where, underneath the grove of sycamore That westward rooteth from the city's side, So early walking did I see your son: Towards him I made; but he was ware of me, And stole into the covert of the wood: I, measuring his affections by my own, That most are busied when they're most alone, Pursu'd my humour not pursuing his, And gladly shunn'd who gladly fled from me. Many a morning hath he there been seen, With tears augmenting the fresh morning's dew, Adding to clouds more clouds with his deep sighs: But all so soon as the all-cheering sun Should in the furthest east begin to draw The shady curtains from Aurora's bed, Away from light steals home my heavy son, And private in his chamber pens himself, Shuts up his windows, locks fair daylight out, And makes himself an artificial night. Black and portentous must this humour prove Unless good-counsel may the cause remove. My noble uncle, do you know the cause? I neither know it nor can learn of him. Have you importun'd him by any means? Both by myself and many other friends: But he, his own affections' counsellor, Is to himself, I will not say how true, But to himself so secret and so close, So far from sounding and discovery, As is the bud bit with an envious worm, Ere he can spread his sweet leaves to the air, Or dedicate his beauty to the sun. Could we but learn from whence his sorrows grow, We would as willingly give cure as know. See where he comes: so please you, step aside; I'll know his grievance, or be much denied. I would thou wert so happy by thy stay, To hear true shrift. Come, madam, let's away. Good morrow, cousin. Is the day so young? But new struck nine. Ay me! sad hours seem long. Was that my father that went hence so fast? It was. What sadness lengthens Romeo's hours? Not having that, which having, makes them short. In love? Out— Of love? Out of her favour, where I am in love. Alas! that love, so gentle in his view, Should be so tyrannous and rough in proof. Alas! that love, whose view is muffled still, Should, without eyes, see pathways to his will. Where shall we dine? O me! What fray was here? Yet tell me not, for I have heard it all. Here's much to do with hate, but more with love: Why then, O brawling love! O loving hate! O any thing! of nothing first create. O heavy lightness! serious vanity! Mis-shapen chaos of well-seeming forms! Feather of lead, bright smoke, cold fire, sick health! Still-waking sleep, that is not what it is! This love feel I, that feel no love in this. Dost thou not laugh? No, coz, I rather weep. Good heart, at what? At thy good heart's oppression. Why, such is love's transgression. Griefs of mine own lie heavy in my breast, Which thou wilt propagate to have it press'd With more of thine: this love that thou hast shown Doth add more grief to too much of mine own. Love is a smoke rais'd with the fume of sighs; Being purg'd, a fire sparkling in lovers' eyes; Being vex'd, a sea nourish'd with lovers' tears: What is it else? a madness most discreet, A choking gall, and a preserving sweet. Farewell, my coz. Soft, I will go along; An if you leave me so, you do me wrong. Tut! I have lost myself; I am not here; This is not Romeo, he's some other where. Tell me in sadness, who is that you love. What! shall I groan and tell thee? Groan! why, no; But sadly tell me who. Bid a sick man in sadness make his will; Ah! word ill urg'd to one that is so ill. In sadness, cousin, I do love a woman. I aim'd so near when I suppos'd you lov'd. A right good mark-man! And she's fair I love. A right fair mark, fair coz, is soonest hit. Well, in that hit you miss: she'll not be hit With Cupid's arrow; she hath Dian's wit; And, in strong proof of chastity well arm'd, From love's weak childish bow she lives unharm'd. She will not stay the siege of loving terms, Nor bide the encounter of assailing eyes, Nor ope her lap to saint-seducing gold: O! she is rich in beauty; only poor That, when she dies, with beauty dies her store. Then she hath sworn that she will still live chaste? She hath, and in that sparing makes huge waste; For beauty, starv'd with her severity, Cuts beauty off from all posterity. She is too fair, too wise, wisely too fair, To merit bliss by making me despair: She hath forsworn to love, and in that vow Do I live dead that live to tell it now. Be rul'd by me; forget to think of her. O! teach me how I should forget to think. By giving liberty unto thine eyes: Examine other beauties. 'Tis the way To call hers exquisite, in question more. These happy masks that kiss fair ladies' brows Being black put us in mind they hide the fair; He, that is strucken blind cannot forget The precious treasure of his eyesight lost: Show me a mistress that is passing fair, What doth her beauty serve but as a note Where I may read who pass'd that passing fair? Farewell: thou canst not teach me to forget. I'll pay that doctrine, or else die in debt. But Montague is bound as well as I, In penalty alike; and 'tis not hard, I think, For men so old as we to keep the peace. Of honourable reckoning are you both; And pity 'tis you liv'd at odds so long. But now, my lord, what say you to my suit? But saying o'er what I have said before: My child is yet a stranger in the world, She hath not seen the change of fourteen years; Let two more summers wither in their pride Ere we may think her ripe to be a bride. Younger than she are happy mothers made. And too soon marr'd are those so early made. Earth hath swallow'd all my hopes but she, She is the hopeful lady of my earth: But woo her, gentle Paris, get her heart, My will to her consent is but a part; An she agree, within her scope of choice Lies my consent and fair according voice. This night I hold an old accustom'd feast, Whereto I have invited many a guest Such as I love; and you, among the store, One more, most welcome, makes my number more. At my poor house look to behold this night Earth-treading stars that make dark heaven light: Such comfort as do lusty young men feel When well-apparel'd April on the heel Of limping winter treads, even such delight Among fresh female buds shall you this night Inherit at my house; hear all, all see, And like her most whose merit most shall be: Which on more view, of many mine being one May stand in number, though in reckoning none. Come, go with me. Go, sirrah, trudge about Through fair Verona; find those persons out Whose names are written there, and to them say, My house and welcome on their pleasure stay. Find them out whose names are written here! It is written that the shoemaker should meddle with his yard, and the tailor with his last, the fisher with his pencil, and the painter with his nets; but I am sent to find those persons, whose names are here writ, and can never find what names the writing person hath here writ. I must to the learned. In good time. Tut! man, one fire burns out another's burning, One pain is lessen'd by another's anguish; Turn giddy, and be holp by backward turning; One desperate grief cures with another's languish: Take thou some new infection to thy eye, And the rank poison of the old will die. Your plantain leaf is excellent for that. For what, I pray thee? For your broken shin. Why, Romeo, art thou mad? Not mad, but bound more than a madman is; Shut up in prison, kept without my food, Whipp'd and tormented, and—Good den, good fellow. God gi' good den. I pray, sir, can you read? Ay, mine own fortune in my misery. Perhaps you have learn'd it without book: but, I pray, can you read any thing you see? Ay, if I know the letters and the language. Ye say honestly; rest you merry! Stay, fellow; I can read. Signior Martino and his wife and daughters; County Anselme and his beauteous sisters; the lady widow of Vitruvio; Signior Placentio, and his lovely nieces; Mercutio and his brother Valentine; mine uncle Capulet, his wife and daughters; my fair niece Rosaline; Livia; Signior Valentio and his cousin Tybalt; Lucio and the lively Helena. A fair assembly: whither should they come? Up. Whither? To supper; to our house. Whose house? My master's. Indeed, I should have asked you that before. Now I'll tell you without asking. My master is the great rich Capulet; and if you be not of the house of Montagues, I pray, come and crush a cup of wine. Rest you merry! At this same ancient feast of Capulet's, Sups the fair Rosaline, whom thou so lov'st, With all the admired beauties of Verona: Go thither; and, with unattainted eye Compare her face with some that I shall show, And I will make thee think thy swan a crow. When the devout religion of mine eye Maintains such falsehood, then turn tears to fires! And these, who often drown'd could never die, Transparent heretics, be burnt for liars! One fairer than my love! the all-seeing sun Ne'er saw her match since first the world begun. Tut! you saw her fair, none else being by, Herself pois'd with herself in either eye; But in that crystal scales let there be weigh'd Your lady's love against some other maid That I will show you shining at this feast, And she shall scant show well that now shows best. I'll go along, no such sight to be shown, But to rejoice in splendour of mine own. Nurse, where's my daughter? call her forth to me. Now, by my maidenhead, at twelve year old,— I bade her come. What, lamb! what, ladybird! God forbid! where's this girl? what, Juliet! How now! who calls? Your mother. Madam, I am here. What is your will? This is the matter. Nurse, give leave awhile. We must talk in secret: nurse, come back again; I have remember'd me, thou's hear our counsel. Thou know'st my daughter's of a pretty age. Faith, I can tell her age unto an hour. She's not fourteen. I'll lay fourteen of my teeth— And yet to my teen be it spoken I have but four— She is not fourteen. How long is it now To Lammas-tide? A fortnight and odd days. Even or odd, of all days in the year, Come Lammas-eve at night shall she be fourteen. Susan and she—God rest all Christian souls!— Were of an age. Well, Susan is with God; She was too good for me. But, as I said, On Lammas-eve at night shall she be fourteen; That shall she, marry; I remember it well. 'Tis since the earthquake now eleven years; And she was wean'd, I never shall forget it, Of all the days of the year, upon that day; For I had then laid wormwood to my dug, Sitting in the sun under the dove-house wall; My lord and you were then at Mantua. Nay, I do bear a brain:—but, as I said, When it did taste the wormwood on the nipple Of my dug and felt it bitter, pretty fool! To see it tetchy and fall out with the dug. 'Shake,' quoth the dove-house: 'twas no need, I trow, To bid me trudge: And since that time it is eleven years; For then she could stand high lone; nay, by the rood, She could have run and waddled all about; For even the day before she broke her brow: And then my husband—God be with his soul! A' was a merry man—took up the child: 'Yea,' quoth he, 'dost thou fall upon thy face? Thou wilt fall backward when thou hast more wit; Wilt thou not, Jule?' and, by my halidom, The pretty wretch left crying, and said 'Ay.' To see now how a jest shall come about! I warrant, an I should live a thousand years, I never should forget it: 'Wilt thou not, Jule?' quoth he; And, pretty fool, it stinted and said 'Ay.' Enough of this; I pray thee, hold thy peace. Yes, madam. Yet I cannot choose but laugh, To think it should leave crying, and say 'Ay.' And yet, I warrant, it had upon its brow A bump as big as a young cockerel's stone; A parlous knock; and it cried bitterly: 'Yea,' quoth my husband, 'fall'st upon thy face? Thou wilt fall backward when thou com'st to age; Wilt thou not, Jule?' it stinted and said 'Ay.' And stint thou too, I pray thee, nurse, say I. Peace, I have done. God mark thee to his grace! Thou wast the prettiest babe that e'er I nursed: An I might live to see thee married once, I have my wish. Marry, that 'marry' is the very theme I came to talk of. Tell me, daughter Juliet, How stands your disposition to be married? It is an honour that I dream not of. An honour! were not I thine only nurse, I would say thou hadst suck'd wisdom from thy teat. Well, think of marriage now; younger than you, Here in Verona, ladies of esteem, Are made already mothers: by my count, I was your mother much upon these years That you are now a maid. Thus then in brief, The valiant Paris seeks you for his love. A man, young lady! lady, such a man As all the world—why, he's a man of wax. Verona's summer hath not such a flower. Nay, he's a flower; in faith, a very flower. What say you? can you love the gentleman? This night you shall behold him at our feast; Read o'er the volume of young Paris' face And find delight writ there with beauty's pen; Examine every married lineament, And see how one another lends content; And what obscur'd in this fair volume lies Find written in the margent of his eyes. This precious book of love, this unbound lover, To beautify him, only lacks a cover: The fish lives in the sea, and 'tis much pride For fair without the fair within to hide: That book in many eyes doth share the glory, That in gold clasps locks in the golden story: So shall you share all that he doth possess, By having him making yourself no less. No less! nay, bigger; women grow by men. Speak briefly, can you like of Paris' love? I'll look to like, if looking liking move; But no more deep will I endart mine eye Than your consent gives strength to make it fly. Madam, the guests are come, supper served up, you called, my young lady asked for, the nurse cursed in the pantry, and everything in extremity. I must hence to wait; I beseech you, follow straight. We follow thee. Juliet, the county stays. Go, girl, seek happy nights to happy days. What! shall this speech be spoke for our excuse, Or shall we on without apology? The date is out of such prolixity: We'll have no Cupid hood-wink'd with a scarf, Bearing a Tartar's painted bow of lath, Scaring the ladies like a crow-keeper; Nor no without-book prologue, faintly spoke After the prompter, for our entrance: But, let them measure us by what they will, We'll measure them a measure, and be gone. Give me a torch: I am not for this ambling; Being but heavy, I will bear the light. Nay, gentle Romeo, we must have you dance. Not I, believe me: you have dancing shoes With nimble soles; I have a soul of lead So stakes me to the ground I cannot move. You are a lover; borrow Cupid's wings, And soar with them above a common bound. I am too sore enpierced with his shaft To soar with his light feathers; and so bound I cannot bound a pitch above dull woe: Under love's heavy burden do I sink. And, to sink in it, should you burden love; Too great oppression for a tender thing. Is love a tender thing? it is too rough, Too rude, too boisterous; and it pricks like thorn. If love be rough with you, be rough with love; Prick love for pricking, and you beat love down. Give me a case to put my visage in: A visor for a visor! what care I, What curious eye doth quote deformities? Here are the beetle brows shall blush for me. Come, knock and enter; and no sooner in, But every man betake him to his legs. A torch for me; let wantons, light of heart, Tickle the senseless rushes with their heels, For I am proverb'd with a grandsire phrase; I'll be a candle holder, and look on. The game was ne'er so fair, and I am done. Tut! dun's the mouse, the constable's own word. If thou art Dun, we'll draw thee from the mire, Of—save your reverence—love, wherein thou stick'st Up to the ears. Come, we burn daylight, ho! Nay, that's not so. I mean, sir, in delay We waste our lights in vain, like lamps by day. Take our good meaning, for our judgment sits Five times in that ere once in our five wits. And we mean well in going to this masque; But 'tis no wit to go. Why, may one ask? I dream'd a dream to-night. And so did I. Well, what was yours? That dreamers often lie. In bed asleep, while they do dream things true. O! then, I see, Queen Mab hath been with you. Queen Mab! What's she? She is the fairies' midwife, and she comes In shape no bigger than an agate-stone On the fore-finger of an alderman, Drawn with a team of little atomies Athwart men's noses as they lie asleep: Her waggon-spokes made of long spinners' legs; The cover, of the wings of grasshoppers; The traces, of the smallest spider's web; The collars, of the moonshine's watery beams; Her whip, of cricket's bone; the lash, of film; Her waggoner, a small grey-coated gnat, Not half so big as a round little worm Prick'd from the lazy finger of a maid; Her chariot is an empty hazel-nut, Made by the joiner squirrel or old grub, Time out o' mind the fairies' coach-makers. And in this state she gallops night by night Through lovers' brains, and then they dream of love; O'er courtiers' knees, that dream on curtsies straight; O'er lawyers' fingers, who straight dream on fees; O'er ladies' lips, who straight on kisses dream; Which oft the angry Mab with blisters plagues, Because their breaths with sweetmeats tainted are. Sometimes she gallops o'er a courtier's nose, And then dreams he of smelling out a suit; And sometimes comes she with a tithe pig's tail, Tickling a parson's nose as a' lies asleep, Then dreams he of another benefice; Sometime she driveth o'er a soldier's neck, And then dreams he of cutting foreign throats, Of breaches, ambuscadoes, Spanish bladed, Of healths five fathom deep; and then anon Drums in his ear, at which he starts and wakes; And, being thus frighted, swears a prayer or two, And sleeps again. This is that very Mab That plats the manes of horses in the night; And bakes the elf-locks in foul sluttish hairs, Which once untangled much misfortune bodes; This is the hag, when maids lie on their backs, That presses them and learns them first to bear, Making them women of good carriage: This is she— Peace, peace! Mercutio, peace! Thou talk'st of nothing. True, I talk of dreams, Which are the children of an idle brain, Begot of nothing but vain fantasy; Which is as thin of substance as the air, And more inconstant than the wind, who woos Even now the frozen bosom of the north, And, being anger'd, puffs away from thence, Turning his face to the dew-dropping south. This wind you talk of blows us from ourselves; Supper is done, and we shall come too late. I fear too early; for my mind misgives Some consequence yet hanging in the stars Shall bitterly begin his fearful date With this night's revels, and expire the term Of a despised life clos'd in my breast By some vile forfeit of untimely death. But he, that hath the steerage of my course, Direct my sail!, On, lusty gentlemen. Strike, drum. Where's Potpan, that he helps not to take away? he shift a trencher! he scrape a trencher! When good manners shall lie all in one or two men's hands, and they unwashed too, 'tis a foul thing. Away with the joint-stools, remove the court-cupboard, look to the plate. Good thou, save me a piece of marchpane; and, as thou lovest me, let the porter let in Susan Grindstone and Nell. Antony! and Potpan! Ay, boy; ready. You are looked for and called for, asked for and sought for in the great chamber. We cannot be here and there too. Cheerly, boys; be brisk awhile, and the longer liver take all. Welcome, gentlemen! ladies that have their toes Unplagu'd with corns will walk a bout with you. Ah ha! my mistresses, which of you all Will now deny to dance? she that makes dainty, she, I'll swear, hath corns; am I come near ye now? Welcome, gentlemen! I have seen the day That I have worn a visor, and could tell A whispering tale in a fair lady's ear Such as would please; 'tis gone, 'tis gone, 'tis gone. You are welcome, gentlemen! Come, musicians, play. A hall! a hall! give room, and foot it, girls. More light, ye knaves! and turn the tables up, And quench the fire, the room has grown too hot. Ah! sirrah, this unlook'd-for sport comes well. Nay, sit, nay, sit, good cousin Capulet, For you and I are past our dancing days; How long is 't now since last yourself and I Were in a mask? By'r Lady, thirty years. What, man! 'tis not so much, 'tis not so much: 'Tis since the nuptial of Lucentio, Come Pentecost as quickly as it will, Some five and twenty years; and then we mask'd. 'Tis more, 'tis more; his son is older, sir. His son is thirty. Will you tell me that? His son was but a ward two years ago. What lady is that which doth enrich the hand Of yonder knight? I know not, sir. O! she doth teach the torches to burn bright. It seems she hangs upon the cheek of night Like a rich jewel in an Ethiop's ear; Beauty too rich for use, for earth too dear! So shows a snowy dove trooping with crows, As yonder lady o'er her fellows shows. The measure done, I'll watch her place of stand, And, touching hers, make blessed my rude hand. Did my heart love till now? forswear it, sight! For I ne'er saw true beauty till this night. This, by his voice, should be a Montague. Fetch me my rapier, boy. What! dares the slave Come hither, cover'd with an antick face, To fleer and scorn at our solemnity? Now, by the stock and honour of my kin, To strike him dead I hold it not a sin. Why, how now, kinsman! wherefore storm you so? Uncle, this is a Montague, our foe; A villain that is hither come in spite, To scorn at our solemnity this night. Young Romeo, is it? 'Tis he, that villain Romeo. Content thee, gentle coz, let him alone: He bears him like a portly gentleman; And, to say truth, Verona brags of him To be a virtuous and well-govern'd youth. I would not for the wealth of all this town Here in my house do him disparagement; Therefore be patient, take no note of him: It is my will; the which if thou respect, Show a fair presence and put off these frowns, An ill-beseeming semblance for a feast. It fits, when such a villain is a guest: I'll not endure him. He shall be endur'd: What! goodman boy; I say, he shall, go to; Am I the master here, or you? go to. You'll not endure him! God shall mend my soul! You'll make a mutiny among my guests! You will set cock-a-hoop! you'll be the man! Why, uncle, 'tis a shame. Go to, go to; You are a saucy boy—is't so indeed?— This trick may chance to scathe you.—I know what: You must contrary me! marry, 'tis time. Well said, my hearts! You are a princox; go: Be quiet, or—More light, more light!—For shame! I'll make you quiet. What! cheerly, my hearts! Patience perforce with wilful choler meeting Makes my flesh tremble in their different greeting. I will withdraw; but this intrusion shall Now seeming sweet convert to bitter gall. If I profane with my unworthiest hand This holy shrine, the gentle sin is this; My lips, two blushing pilgrims, ready stand To smooth that rough touch with a tenderkiss. Good pilgrim, you do wrong your hand too much, Which mannerly devotion shows in this; For saints have hands that pilgrims' hands do touch, And palm to palm is holy palmers' kiss. Have not saints lips, and holy palmers too? Ay, pilgrim, lips that they must use in prayer. O! then, dear saint, let lips do what hands do; They pray, grant thou, lest faith turn to despair. Saints do not move, though grant for prayers' sake. Then move not, while my prayers' effect I take. Thus from my lips, by thine, my sin is purg'd. Then have my lips the sin that they have took. Sin from my lips? O trespass sweetly urg'd! Give me my sin again. You kiss by the book. Madam, your mother craves a word with you. What is her mother? Marry, bachelor, Her mother is the lady of the house, And a good lady, and a wise, and virtuous: I nurs'd her daughter, that you talk'd withal; I tell you he that can lay hold of her Shall have the chinks. Is she a Capulet? O dear account! my life is my foe's debt. Away, be gone; the sport is at the best. Ay, so I fear; the more is my unrest. Nay, gentlemen, prepare not to be gone; We have a trifling foolish banquet towards. Is it e'en so? Why then, I thank you all; I thank you, honest gentlemen; good-night. More torches here! Come on then, let's to bed. Ah! sirrah, by my fay, it waxes late; I'll to my rest. Come hither, nurse. What is yond gentleman? The son and heir of old Tiberio. What's he that now is going out of door? Marry, that, I think, be young Petruchio. What's he, that follows there, that would not dance? I know not. Go, ask his name.—If he be married, My grave is like to be my wedding bed. His name is Romeo, and a Montague; The only son of your great enemy. My only love sprung from my only hate! Too early seen unknown, and known too late! Prodigious birth of love it is to me, That I must love a loathed enemy. What's this, what's this? A rime I learn'd even now Of one I danc'd withal. Anon, anon!— Come, let's away; the strangers are all gone. Now old desire doth in his death-bed lie, And young affection gapes to be his heir; That fair for which love groan'd for and would die, With tender Juliet match'd, is now not fair. Now Romeo is belov'd and loves again, Alike bewitched by the charm of looks, But to his foe suppos'd he must complain, And she steal love's sweet bait from fearful hooks: Being held a foe, he may not have access To breathe such vows as lovers us'd to swear; And she as much in love, her means much less To meet her new-beloved any where: But passion lends them power, time means, to meet, Tempering extremity with extreme sweet. Can I go forward when my heart is here? Turn back, dull earth, and find thy centre out. Romeo! my cousin Romeo! He is wise; And, on my life, hath stol'n him home to bed. He ran this way, and leap'd this orchard wall: Call, good Mercutio. Nay, I'll conjure too. Romeo! humours! madman! passion! lover! Appear thou in the likeness of a sigh: Speak but one rime and I am satisfied; Cry but 'Ay me!' couple but 'love' and 'dove;' Speak to my gossip Venus one fair word. One nickname for her purblind son and heir, Young Adam Cupid, he that shot so trim When King Cophetua lov'd the beggar-maid. He heareth not, he stirreth not, he moveth not; The ape is dead, and I must conjure him. I conjure thee by Rosaline's bright eyes, By her high forehead, and her scarlet lip, By her fine foot, straight leg, and quivering thigh, And the demesnes that there adjacent lie, That in thy likeness thou appear to us. An if he hear thee, thou wilt anger him. This cannot anger him: 'twould anger him To raise a spirit in his mistress' circle Of some strange nature, letting it there stand Till she had laid it, and conjur'd it down; That were some spite: my invocation Is fair and honest, and in his mistress' name I conjure only but to raise up him. Come, he hath hid himself among these trees, To be consorted with the humorous night: Blind is his love and best befits the dark. If love be blind, love cannot hit the mark. Now will he sit under a medlar tree, And wish his mistress were that kind of fruit As maids call medlars, when they laugh alone. O Romeo! that she were, O! that she were An open et cætera, thou a poperin pear. Romeo, good night: I'll to my truckle-bed; This field-bed is too cold for me to sleep: Come, shall we go? Go, then; for 'tis in vain To seek him here that means not to be found. He jests at scars, that never felt a wound. But, soft! what light through yonder window breaks? It is the east, and Juliet is the sun! Arise, fair sun, and kill the envious moon, Who is already sick and pale with grief, That thou her maid art far more fair than she: Be not her maid, since she is envious; Her vestal livery is but sick and green, And none but fools do wear it; cast it off. It is my lady; O! it is my love: O! that she knew she were. She speaks, yet she says nothing: what of that? Her eye discourses; I will answer it. I am too bold, 'tis not to me she speaks: Two of the fairest stars in all the heaven, Having some business, do entreat her eyes To twinkle in their spheres till they return. What if her eyes were there, they in her head? The brightness of her cheek would shame those stars As daylight doth a lamp; her eyes in heaven Would through the airy region stream so bright That birds would sing and think it were not night. See! how she leans her cheek upon her hand: O! that I were a glove upon that hand, That I might touch that cheek. Ay me! She speaks: O! speak again, bright angel; for thou art As glorious to this night, being o'er my head, As is a winged messenger of heaven Unto the white-upturned wond'ring eyes Of mortals, that fall back to gaze on him When he bestrides the lazy-pacing clouds, And sails upon the bosom of the air. O Romeo, Romeo! wherefore art thou Romeo? Deny thy father, and refuse thy name; Or, if thou wilt not, be but sworn my love, And I'll no longer be a Capulet. Shall I hear more, or shall I speak at this? 'Tis but thy name that is my enemy; Thou art thyself though, not a Montague. What's Montague? it is nor hand, nor foot, Nor arm, nor face, nor any other part Belonging to a man. O! be some other name: What's in a name? that which we call a rose By any other name would smell as sweet; So Romeo would, were he not Romeo call'd, Retain that dear perfection which he owes Without that title. Romeo, doff thy name; And for that name, which is no part of thee, Take all myself. I take thee at thy word. Call me but love, and I'll be new baptiz'd; Henceforth I never will be Romeo. What man art thou, that, thus bescreen'd in night, So stumblest on my counsel? By a name I know not how to tall thee who I am: My name, dear saint, is hateful to myself, Because it is an enemy to thee: Had I it written, I would tear the word. My ears have not yet drunk a hundred words Of that tongue's uttering, yet I know the sound: Art thou not Romeo, and a Montague? Neither, fair maid, if either thee dislike. How cam'st thou hither, tell me, and wherefore? The orchard walls are high and hard to climb, And the place death, considering who thou art, If any of my kinsmen find thee here. With love's light wings did I o'erperch these walls; For stony limits cannot hold love out, And what love can do that dares love attempt; Therefore thy kinsmen are no stop to me. If they do see thee they will murder thee. Alack! there lies more peril in thine eye Than twenty of their swords: look thou but sweet, And I am proof against their enmity. I would not for the world they saw thee here. I have night's cloak to hide me from their eyes; And but thou love me, let them find me here; My life were better ended by their hate, Than death prorogued, wanting of thy love. By whose direction found'st thou out this place? By Love, that first did prompt me to inquire; He lent me counsel, and I lent him eyes. I am no pilot; yet, wert thou as far As that vast shore wash'd with the furthest sea, I would adventure for such merchandise. Thou know'st the mask of night is on my face, Else would a maiden blush bepaint my cheek For that which thou hast heard me speak to-night. Fain would I dwell on form, fain, fain deny What I have spoke: but farewell compliment! Dost thou love me? I know thou wilt say 'Ay;' And I will take thy word; yet, if thou swear'st, Thou mayst prove false; at lovers' perjuries, They say, Jove laughs. O gentle Romeo! If thou dost love, pronounce it faithfully: Or if thou think'st I am too quickly won, I'll frown and be perverse and say thee nay, So thou wilt woo; but else, not for the world. In truth, fair Montague, I am too fond, And therefore thou mayst think my haviour light: But trust me, gentleman, I'll prove more true Than those that have more cunning to be strange. I should have been more strange, I must confess, But that thou over-heard'st, ere I was 'ware, My true love's passion: therefore pardon me, And not impute this yielding to light love, Which the dark night hath so discovered. Lady, by yonder blessed moon I swear That tips with silver all these fruit-tree tops,— O! swear not by the moon, the inconstant moon, That monthly changes in her circled orb, Lest that thy love prove likewise variable. What shall I swear by? Do not swear at all; Or, if thou wilt, swear by thy gracious self, Which is the god of my idolatry, And I'll believe thee. If my heart's dear love— Well, do not swear. Although I joy in thee, I have no joy of this contract to-night: It is too rash, too unadvis'd, too sudden; Too like the lightning, which doth cease to be Ere one can say it lightens. Sweet, good-night! This bud of love, by summer's ripening breath, May prove a beauteous flower when next we meet. Good-night, good-night! as sweet repose and rest Come to thy heart as that within my breast! O! wilt thou leave me so unsatisfied? What satisfaction canst thou have to-night? The exchange of thy love's faithful vow for mine. I gave thee mine before thou didst request it; And yet I would it were to give again. Wouldst thou withdraw it? for what purpose, love? But to be frank, and give it thee again. And yet I wish but for the thing I have: My bounty is as boundless as the sea, My love as deep; the more I give to thee, The more I have, for both are infinite. I hear some noise within; dear love, adieu! Anon, good nurse! Sweet Montague, be true. Stay but a little, I will come again. O blessed, blessed night! I am afeard, Being in night, all this is but a dream, Too flattering-sweet to be substantial. Three words, dear Romeo, and good-night indeed. If that thy bent of love be honourable, Thy purpose marriage, send me word to-morrow, By one that I'll procure to come to thee, Where, and what time, thou wilt perform the rite; And all my fortunes at thy foot I'll lay, And follow thee my lord throughout the world. Madam! I come, anon.—But if thou mean'st not well, I do beseech thee,— Madam! By and by; I come:— To cease thy suit, and leave me to my grief: To-morrow will I send. So thrive my soul,— A thousand times good-night! A thousand times the worse, to want thy light. Love goes toward love, as schoolboys from their books; But love from love, toward school with heavy looks. Hist! Romeo, hist! O! for a falconer's voice, To lure this tassel-gentle back again. Bondage is hoarse, and may not speak aloud, Else would I tear the cave where Echo lies, And make her airy tongue more hoarse than mine, With repetition of my Romeo's name. It is my soul that calls upon my name: How silver-sweet sound lovers' tongues by night, Like softest music to attending ears! Romeo! My dear! At what o'clock to-morrow Shall I send to thee? At the hour of nine. I will not fail; 'tis twenty years till then. I have forgot why I did call thee back. Let me stand here till thou remember it. I shall forget, to have thee still stand there, Remembering how I love thy company. And I'll still stay, to have thee still forget, Forgetting any other home but this. 'Tis almost morning; I would have thee gone; And yet no further than a wanton's bird, Who lets it hop a little from her hand, Like a poor prisoner in his twisted gyves, And with a silk thread plucks it back again, So loving-jealous of his liberty. I would I were thy bird. Sweet, so would I: Yet I should kill thee with much cherishing. Good-night, good-night! parting is such sweet sorrow That I shall say good-night till it be morrow. Sleep dwell upon thine eyes, peace in thy breast! Would I were sleep and peace, so sweet to rest! Hence will I to my ghostly father's cell, His help to crave, and my dear hap to tell. The grey-ey'd morn smiles on the frowning night, Chequering the eastern clouds with streaks of light, And flecked darkness like a drunkard reels From forth day's path and Titan's fiery wheels: Now, ere the sun advance his burning eye The day to cheer and night's dank dew to dry, I must up-fill this osier cage of ours With baleful weeds and precious-juiced flowers. The earth that's nature's mother is her tomb; What is her burying grave that is her womb, And from her womb children of divers kind We sucking on her natural bosom find, Many for many virtues excellent, None but for some, and yet all different. O! mickle is the powerful grace that lies In herbs, plants, stones, and their true qualities: For nought so vile that on the earth doth live But to the earth some special good doth give, Nor aught so good but strain'd from that fair use Revolts from true birth, stumbling on abuse: Virtue itself turns vice, being misapplied, And vice sometime's by action dignified. Within the infant rind of this weak flower Poison hath residence and medicine power: For this, being smelt, with that part cheers each part; Being tasted, slays all senses with the heart. Two such opposed foes encamp them still In man as well as herbs, grace and rude will; And where the worser is predominant, Full soon the canker death eats up that plant. Good morrow, father! Benedicite! What early tongue so sweet saluteth me? Young son, it argues a distemper'd head So soon to bid good morrow to thy bed: Care keeps his watch in every old man's eye, And where care lodges, sleep will never lie; But where unbruised youth with unstuff'd brain Doth couch his limbs, there golden sleep doth reign: Therefore thy earliness doth me assure Thou art up-rous'd by some distemperature; Or if not so, then here I hit it right, Our Romeo hath not been in bed to-night. That last is true; the sweeter rest was mine. God pardon sin! wast thou with Rosaline? With Rosaline, my ghostly father? no; I have forgot that name, and that name's woe. That's my good son: but where hast thou been, then? I'll tell thee, ere thou ask it me again. I have been feasting with mine enemy, Where on a sudden one hath wounded me, That's by me wounded: both our remedies Within thy help and holy physic lies: I bear no hatred, blessed man; for, lo! My intercession likewise steads my foe. Be plain, good son, and homely in thy drift; Riddling confession finds but riddling shrift. Then plainly know my heart's dear love is set On the fair daughter of rich Capulet: As mine on hers, so hers is set on mine; And all combin'd, save what thou must combine By holy marriage: when and where and how We met we woo'd and made exchange of vow, I'll tell thee as we pass; but this I pray, That thou consent to marry us to-day. Holy Saint Francis! what a change is here; Is Rosaline, whom thou didst love so dear, So soon forsaken? young men's love then lies Not truly in their hearts, but in their eyes. Jesu Maria! what a deal of brine Hath wash'd thy sallow cheeks for Rosaline; How much salt water thrown away in waste, To season love, that of it doth not taste! The sun not yet thy sighs from heaven clears, Thy old groans ring yet in my ancient ears; Lo! here upon thy cheek the stain doth sit Of an old tear that is not wash'd off yet. If e'er thou wast thyself and these woes thine, Thou and these woes were all for Rosaline: And art thou chang'd? pronounce this sentence then: Women may fall, when there's no strength in men. Thou chidd'st me oft for loving Rosaline. For doting, not for loving, pupil mine. And bad'st me bury love. Not in a grave, To lay one in, another out to have. I pray thee, chide not; she, whom I love now Doth grace for grace and love for love allow; The other did not so. O! she knew well Thy love did read by rote and could not spell. But come, young waverer, come, go with me, In one respect I'll thy assistant be; For this alliance may so happy prove, To turn your households' rancour to pure love. O! let us hence; I stand on sudden haste. Wisely and slow; they stumble that run fast. Where the devil should this Romeo be? Came he not home to-night? Not to his father's; I spoke with his man. Why that same pale hard-hearted wench, that Rosaline, Torments him so, that he will sure run mad. Tybalt, the kinsman of old Capulet, Hath sent a letter to his father's house. A challenge, on my life. Romeo will answer it. Any man that can write may answer a letter. Nay, he will answer the letter's master, how he dares, being dared. Alas! poor Romeo, he is already dead; stabbed with a white wench's black eye; shot through the ear with a love-song; the very pin of his heart cleft with the blind bow-boy's butt-shaft; and is he a man to encounter Tybalt? Why, what is Tybalt? More than prince of cats, I can tell you. O! he is the courageous captain of compliments. He fights as you sing prick-song, keeps time, distance, and proportion; rests me his minim rest, one, two, and the third in your bosom; the very butcher of a silk button, a duellist, a duellist; a gentleman of the very first house, of the first and second cause. Ah! the immortal passado! the punto reverso! the hay! The what? The pox of such antick, lisping, affecting fantasticoes, these new tuners of accents!—'By Jesu, a very good blade!—a very tall man! a very good whore.'—Why, is not this a lamentable thing, grandsire, that we should be thus afflicted with these strange flies, these fashion-mongers, these pardonnez-mois, who stand so much on the new form that they cannot sit at ease on the old bench? O, their bons, their bons! Here comes Romeo, here comes Romeo. Without his roe, like a dried herring. O flesh, flesh, how art thou fishified! Now is he for the numbers that Petrarch flowed in: Laura to his lady was but a kitchen-wench; marry, she had a better love to be-rime her; Dido a dowdy; Cleopatra a gipsy; Helen and Hero hildings and harlots; Thisbe, a grey eye or so, but not to the purpose. Signior Romeo, bon jour! there's a French salutation to your French slop. You gave us the counterfeit fairly last night. Good morrow to you both. What counterfeit did I give you? The slip, sir, the slip; can you not conceive? Pardon, good Mercutio, my business was great; and in such a case as mine a man may strain courtesy. That's as much as to say, such a case as yours constrains a man to bow in the hams. Meaning—to curtsy. Thou hast most kindly hit it. A most courteous exposition. Nay, I am the very pink of courtesy. Pink for flower. Right. Why, then, is my pump well flowered. Well said; follow me this jest now till thou hast worn out the pump, that, when the single sole of it is worn, the jest may remain after the wearing sole singular. O single-soled jest! solely singular for the singleness. Come between us, good Benvolio; my wit faints. Switch and spurs, switch and spurs; or I'll cry a match. Nay, if thy wits run the wild-goose chase, I have done, for thou hast more of the wild-goose in one of thy wits than, I am sure, I have in my whole five. Was I with you there for the goose? Thou wast never with me for anything when thou wast not here for the goose. I will bite thee by the ear for that jest. Nay, good goose, bite not. Thy wit is a very bitter sweeting; it is a most sharp sauce. And is it not then well served in to a sweet goose? O! here's a wit of cheveril, that stretches from an inch narrow to an ell broad. I stretch it out for that word 'broad;' which added to the goose, proves thee far and wide a broad goose. Why, is not this better now than groaning for love? now art thou sociable, now art thou Romeo; now art thou what thou art, by art as well as by nature: for this drivelling love is like a great natural, that runs lolling up and down to hide his bauble in a hole. Stop there, stop there. Thou desirest me to stop in my tale against the hair. Thou wouldst else have made thy tale large. O! thou art deceived; I would have made it short; for I was come to the whole depth of my tale, and meant indeed to occupy the argument no longer. Here's goodly gear! A sail, a sail! Two, two; a shirt and a smock. Peter! Anon! My fan, Peter. Good Peter, to hide her face; for her fan's the fairer face. God ye good morrow, gentlemen. God ye good den, fair gentlewoman. Is it good den? 'Tis no less, I tell you; for the bawdy hand of the dial is now upon the prick of noon. Out upon you! what a man are you! One, gentlewoman, that God hath made for himself to mar. By my troth, it is well said; 'for himself to mar,' quoth a'?—Gentlemen, can any of you tell me where I may find the young Romeo? I can tell you; but young Romeo will be older when you have found him than he was when you sought him: I am the youngest of that name, for fault of a worse. You say well. Yea! is the worst well? very well took, i' faith; wisely, wisely. If you be he, sir, I desire some confidence with you. She will indite him to some supper. A bawd, a bawd, a bawd! So ho! What hast thou found? No hare, sir; unless a hare, sir, in a lenten pie, that is something stale and hoar ere it be spent. An old hare hoar, and an old hare hoar, Is very good meat in Lent: But a hare that is hoar, is too much for a score, When it hoars ere it be spent. Romeo, will you come to your father's? we'll to dinner thither. I will follow you. Farewell, ancient lady; farewell, Lady, lady, lady. Marry, farewell! I pray you, sir, what saucy merchant was this, that was so full of his ropery? A gentleman, nurse, that loves to hear himself talk, and will speak more in a minute than he will stand to in a month. An a' speak anything against me, I'll take him down, an a' were lustier than he is, and twenty such Jacks; and if I cannot, I'll find those that shall. Scurvy knave! I am none of his flirt-gills; I am none of his skeins-mates. And thou must stand by too, and suffer every knave to use me at his pleasure! I saw no man use you at his pleasure; if I had, my weapon should quickly have been out, I warrant you. I dare draw as soon as another man, if I see occasion in a good quarrel, and the law on my side. Now, afore God, I am so vexed, that every part about me quivers. Scurvy knave! Pray you, sir, a word; and as I told you, my young lady bade me inquire you out; what she bid me say I will keep to myself; but first let me tell ye, if ye should lead her into a fool's paradise, as they say, it were a very gross kind of behaviour, as they say: for the gentlewoman is young; and, therefore, if you should deal double with her, truly it were an ill thing to be offered to any gentlewoman, and very weak dealing. Nurse, commend me to thy lady and mistress. I protest unto thee,— Good heart! and i' faith, I will tell her as much. Lord, Lord! she will be a joyful woman. What wilt thou tell her, nurse? thou dost not mark me. I will tell her, sir, that you do protest; which, as I take it, is a gentlemanlike offer. Bid her devise Some means to come to shrift this afternoon; And there she shall at Friar Laurence' cell, Be shriv'd and married. Here is for thy pains. No, truly, sir; not a penny. Go to; I say, you shall. This afternoon, sir? well, she shall be there. And stay, good nurse; behind the abbey wall: Within this hour my man shall be with thee, And bring thee cords made like a tackled stair; Which to the high top-gallant of my joy Must be my convoy in the secret night. Farewell! Be trusty, and I'll quit thy pains. Farewell! Commend me to thy mistress. Now God in heaven bless thee! Hark you, sir. What sayst thou, my dear nurse? Is your man secret? Did you ne'er hear say, Two may keep counsel, putting one away? I warrant thee my man's as true as steel. Well, sir; my mistress is the sweetest lady—Lord, Lord!—when 'twas a little prating thing,—O! there's a nobleman in town, one Paris, that would fain lay knife aboard; but she, good soul, had as lief see a toad, a very toad, as see him. I anger her sometimes and tell her that Paris is the properer man; but, I'll warrant you, when I say so, she looks as pale as any clout in the versal world. Doth not rosemary and Romeo begin both with a letter? Ay, nurse: what of that? both with an R. Ah! mocker; that's the dog's name. R is for the—No; I know it begins with some other letter: and she had the prettiest sententious of it, of you and rosemary, that it would do you good to hear it. Commend me to thy lady. Ay, a thousand times. Peter! Anon! Before, and apace. The clock struck nine when I did send the nurse; In half an hour she promis'd to return. Perchance she cannot meet him: that's not so. O! she is lame: love's heralds should be thoughts, Which ten times faster glide than the sun's beams, Driving back shadows over lowering hills: Therefore do nimble-pinion'd doves draw Love, And therefore hath the wind-swift Cupid wings. Now is the sun upon the highmost hill Of this day's journey, and from nine till twelve Is three long hours, yet she is not come. Had she affections, and warm youthful blood, She'd be as swift in motion as a ball; My words would bandy her to my sweet love, And his to me: But old folks, many feign as they were dead; Unwieldy, slow, heavy and pale as lead. O God! she comes. O honey nurse! what news? Hast thou met with him? Send thy man away. Peter, stay at the gate. Now, good sweet nurse; O Lord! why look'st thou sad? Though news be sad, yet tell them merrily; If good, thou sham'st the music of sweet news By playing it to me with so sour a face. I am aweary, give me leave awhile: Fie, how my bones ache! What a jaunce have I had! I would thou hadst my bones, and I thy news. Nay, come, I pray thee, speak; good, good nurse, speak. Jesu! what haste? can you not stay awhile? Do you not see that I am out of breath? How art thou out of breath when thou hast breath To say to me that thou art out of breath? The excuse that thou dost make in this delay Is longer than the tale thou dost excuse. Is thy news good, or bad? answer to that; Say either, and I'll stay the circumstance: Let me be satisfied, is 't good or bad? Well, you have made a simple choice; you know not how to choose a man: Romeo! no, not he; though his face be better than any man's, yet his leg excels all men's; and for a hand, and a foot, and a body, though they be not to be talked on, yet they are past compare. He is not the flower of courtesy, but, I'll warrant him, as gentle as a lamb. Go thy ways, wench; serve God. What! have you dined at home? No, no: but all this did I know before. What says he of our marriage? what of that? Lord! how my head aches; what a head have I! It beats as it would fall in twenty pieces. My back o' t'other side; O! my back, my back! Beshrew your heart for sending me about, To catch my death with jauncing up and down. I' faith, I am sorry that thou art not well. Sweet, sweet, sweet nurse, tell me, what says my love? Your love says, like an honest gentleman, and a courteous, and a kind, and a handsome, and, I warrant, a virtuous,—Where is your mother? Where is my mother! why, she is within; Where should she be? How oddly thou repliest: 'Your love says, like an honest gentleman, Where is your mother?' O! God's lady dear, Are you so hot? Marry, come up, I trow; Is this the poultice for my aching bones? Henceforward do your messages yourself. Here's such a coil! come, what says Romeo? Have you got leave to go to shrift to-day? I have. Then hie you hence to Friar Laurence' cell, There stays a husband to make you a wife: Now comes the wanton blood up in your cheeks, They'll be in scarlet straight at any news. Hie you to church; I must another way, To fetch a ladder, by the which your love Must climb a bird's nest soon when it is dark; I am the drudge and toil in your delight, But you shall bear the burden soon at night. Go; I'll to dinner: hie you to the cell. Hie to high fortune! Honest nurse, farewell. So smile the heaven upon this holy act, That after hours with sorrow chide us not! Amen, amen! but come what sorrow can, It cannot countervail the exchange of joy That one short minute gives me in her sight: Do thou but close our hands with holy words, Then love-devouring death do what he dare; It is enough I may but call her mine. These violent delights have violent ends, And in their triumph die, like fire and powder, Which, as they kiss consume: the sweetest honey Is loathsome in his own deliciousness And in the taste confounds the appetite: Therefore love moderately; long love doth so; Too swift arrives as tardy as too slow. Here comes the lady: O! so light a foot Will ne'er wear out the everlasting flint: A lover may bestride the gossamer That idles in the wanton summer air, And yet not fall; so light is vanity. Good even to my ghostly confessor. Romeo shall thank thee, daughter, for us both. As much to him, else are his thanks too much. Ah! Juliet, if the measure of thy joy Be heap'd like mine, and that thy skill be more To blazon it, then sweeten with thy breath This neighbour air, and let rich music's tongue Unfold the imagin'd happiness that both Receive in either by this dear encounter. Conceit, more rich in matter than in words, Brags of his substance, not of ornament: They are but beggars that can count their worth; But my true love is grown to such excess I cannot sum up half my sum of wealth. Come, come with me, and we will make short work; For, by your leaves, you shall not stay alone Till holy church incorporate two in one. I pray thee, good Mercutio, let's retire: The day is hot, the Capulets abroad, And, if we meet, we shall not 'scape a brawl; For now, these hot days, is the mad blood stirring. Thou art like one of those fellows that when he enters the confines of a tavern claps me his sword upon the table and says, 'God send me no need of thee!' and by the operation of the second cup draws him on the drawer, when, indeed, there is no need. Am I like such a fellow? Come, come, thou art as hot a Jack in thy mood as any in Italy; and as soon moved to be moody, and as soon moody to be moved. And what to? Nay, an there were two such, we should have none shortly, for one would kill the other. Thou! why, thou wilt quarrel with a man that hath a hair more or a hair less in his beard than thou hast. Thou wilt quarrel with a man for cracking nuts, having no other reason but because thou hast hazel eyes. What eye, but such an eye, would spy out such a quarrel? Thy head is as full of quarrels as an egg is full of meat, and yet thy head hath been beaten as addle as an egg for quarrelling. Thou hast quarrelled with a man for coughing in the street, because he hath wakened thy dog that hath lain asleep in the sun. Didst thou not fall out with a tailor for wearing his new doublet before Easter? with another, for tying his new shoes with old riband? and yet thou wilt tutor me from quarrelling! An I were so apt to quarrel as thou art, any man should buy the fee-simple of my life for an hour and a quarter. The fee-simple! O simple! By my head, here come the Capulets. By my heel, I care not. Follow me close, for I will speak to them. Gentlemen, good den! a word with one of you. And but one word with one of us? Couple it with something; make it a word and a blow. You shall find me apt enough to that, sir, an you will give me occasion. Could you not take some occasion without giving? Mercutio, thou consort'st with Romeo,— Consort! What! dost thou make us minstrels? an thou make minstrels of us, look to hear nothing but discords: here's my fiddlestick; here's that shall make you dance. 'Zounds! consort! We talk here in the public haunt of men: Either withdraw unto some private place, Or reason coldly of your grievances, Or else depart; here all eyes gaze on us. Men's eyes were made to look, and let them gaze; I will not budge for no man's pleasure, I. Well, peace be with you, sir. Here comes my man. But I'll be hang'd, sir, if he wear your livery: Marry, go before to field, he'll be your follower; Your worship in that sense may call him 'man.' Romeo, the hate I bear thee can afford No better term than this,—thou art a villain. Tybalt, the reason that I have to love thee Doth much excuse the appertaining rage To such a greeting; villain am I none, Therefore farewell; I see thou know'st me not. Boy, this shall not excuse the injuries That thou hast done me; therefore turn and draw. I do protest I never injur'd thee, But love thee better than thou canst devise, Till thou shalt know the reason of my love: And so, good Capulet, which name I tender As dearly as my own, be satisfied. O calm, dishonourable, vile submission! Alla stoccata carries it away. Tybalt, you rat-catcher, will you walk? What wouldst thou have with me? Good king of cats, nothing but one of your nine lives, that I mean to make bold withal, and, as you shall use me hereafter, dry-beat the rest of the eight. Will you pluck your sword out of his pilcher by the ears? make haste, lest mine be about your ears ere it be out. I am for you. Gentle Mercutio, put thy rapier up. Come, sir, your passado. Draw, Benvolio; beat down their weapons. Gentlemen, for shame, forbear this outrage! Tybalt, Mercutio, the prince expressly hath Forbidden bandying in Verona streets. Hold, Tybalt! good Mercutio! I am hurt. A plague o' both your houses! I am sped. Is he gone, and hath nothing? What! art thou hurt? Ay, ay, a scratch, a scratch; marry, 'tis enough. Where is my page? Go, villain, fetch a surgeon. Courage, man; the hurt cannot be much. No, 'tis not so deep as a well, nor so wide as a church door; but 'tis enough, 'twill serve: ask for me to-morrow, and you shall find me a grave man. I am peppered, I warrant, for this world. A plague o' both your houses! 'Zounds, a dog, a rat, a mouse, a cat, to scratch a man to death! a braggart, a rogue, a villain, that fights by the book of arithmetic! Why the devil came you between us? I was hurt under your arm. I thought all for the best. Help me into some house, Benvolio, Or I shall faint. A plague o' both your houses! They have made worms' meat of me: I have it, And soundly too:—your houses! This gentleman, the prince's near ally, My very friend, hath got his mortal hurt In my behalf; my reputation stain'd With Tybalt's slander, Tybalt, that an hour Hath been my kinsman. O sweet Juliet! Thy beauty hath made me effeminate, And in my temper soften'd valour's steel! O Romeo, Romeo! brave Mercutio's dead; That gallant spirit hath aspir'd the clouds, Which too untimely here did scorn the earth. This day's black fate on more days doth depend; This but begins the woe others must end. Here comes the furious Tybalt back again. Alive! in triumph! and Mercutio slain! Away to heaven, respective lenity, And fire-ey'd fury be my conduct now! Now, Tybalt, take the villain back again That late thou gav'st me; for Mercutio's soul Is but a little way above our heads, Staying for thine to keep him company: Either thou, or I, or both, must go with him. Thou wretched boy, that didst consort him here, Shalt with him hence. This shall determine that. Romeo, away! be gone! The citizens are up, and Tybalt slain. Stand not amaz'd: the prince will doom thee death If thou art taken: hence! be gone! away! O! I am Fortune's fool. Why dost thou stay? Which way ran he that kill'd Mercutio? Tybalt, that murderer, which way ran he? There lies that Tybalt. Up, sir, go with me. I charge thee in the prince's name, obey. Where are the vile beginners of this fray? O noble prince! I can discover all The unlucky manage of this fatal brawl: There lies the man, slain by young Romeo, That slew thy kinsman, brave Mercutio. Tybalt, my cousin! O my brother's child! O prince! O cousin! husband! O! the blood is spill'd Of my dear kinsman. Prince, as thou art true, For blood of ours shed blood of Montague. O cousin, cousin! Benvolio, who began this bloody fray? Tybalt, here slain, whom Romeo's hand did slay: Romeo, that spoke him fair, bade him bethink How nice the quarrel was, and urg'd withal Your high displeasure: all this, uttered With gentle breath, calm look, knees humbly bow'd, Could not take truce with the unruly spleen Of Tybalt deaf to peace, but that he tilts With piercing steel at bold Mercutio's breast, Who, all as hot, turns deadly point to point, And, with a martial scorn, with one hand beats Cold death aside, and with the other sends It back to Tybalt, whose dexterity Retorts it: Romeo he cries aloud, 'Hold, friends! friends, part!' and, swifter than his tongue, His agile arm beats down their fatal points, And 'twixt them rushes; underneath whose arm An envious thrust from Tybalt hit the life Of stout Mercutio, and then Tybalt fled; But by and by comes back to Romeo, Who had but newly entertain'd revenge, And to 't they go like lightning, for, ere I. Could draw to part them, was stout Tybalt slain, And, as he fell, did Romeo turn and fly. This is the truth, or let Benvolio die. He is a kinsman to the Montague; Affection makes him false, he speaks not true: Some twenty of them fought in this black strife And all those twenty could but kill one life. I beg for justice, which thou, prince, must give; Romeo slew Tybalt, Romeo must not live. Romeo slew him, he slew Mercutio; Who now the price of his dear blood doth owe? Not Romeo, prince, he was Mercutio's friend, His fault concludes but what the law should end, The life of Tybalt. And for that offence Immediately we do exile him hence: I have an interest in your hate's proceeding, My blood for your rude brawls doth lie a-bleeding; But I'll amerce you with so strong a fine That you shall all repent the loss of mine. I will be deaf to pleading and excuses; Nor tears nor prayers shall purchase out abuses; Therefore use none; let Romeo hence in haste, Else, when he's found, that hour is his last. Bear hence this body and attend our will: Mercy but murders, pardoning those that kill. Gallop apace, you fiery-footed steeds, Towards Phœbus' lodging; such a waggoner As Phæthon would whip you to the west, And bring in cloudy night immediately. Spread thy close curtain, love-performing night! That runaway's eyes may wink, and Romeo Leap to these arms, untalk'd of and unseen! Lovers can see to do their amorous rites By their own beauties; or, if love be blind, It best agrees with night. Come, civil night, Thou sober-suited matron, all in black, And learn me how to lose a winning match, Play'd for a pair of stainless maidenhoods: Hood my unmann'd blood, bating in my cheeks, With thy black mantle; till strange love, grown bold, Think true love acted simple modesty. Come, night! come, Romeo! come, thou day in night! For thou wilt lie upon the wings of night, Whiter than new snow on a raven's back. Come, gentle night; come, loving, black-brow'd night, Give me my Romeo: and, when he shall die, Take him and cut him out in little stars, And he will make the face of heaven so fine That all the world will be in love with night, And pay no worship to the garish sun. O! I have bought the mansion of a love, But not possess'd it, and, though I am sold, Not yet enjoy'd. So tedious is this day As is the night before some festival To an impatient child that hath new robes And may not wear them. O! here comes my nurse, And she brings news; and every tongue that speaks But Romeo's name speaks heavenly eloquence. Now nurse, what news? What hast thou there? the cords That Romeo bade thee fetch? Ay, ay, the cords. Ah me! what news? why dost thou wring thy hands? Ah well-a-day! he's dead, he's dead, he's dead! We are undone, lady, we are undone! Alack the day! he's gone, he's killed, he's dead! Can heaven be so envious? Romeo can, Though heaven cannot. O! Romeo, Romeo; Who ever would have thought it? Romeo! What devil art thou that dost torment me thus? This torture should be roar'd in dismal hell. Hath Romeo slain himself? say thou but 'I,' And that bare vowel, 'I,' shall poison more Than the death-darting eye of cockatrice: I am not I, if there be such an 'I;' Or those eyes shut that make thee answer 'I.' If he be slain, say 'I;' or if not 'no:' Brief sounds determine of my weal or woe. I saw the wound, I saw it with mine eyes, God save the mark! here on his manly breast: A piteous corse, a bloody piteous corse; Pale, pale as ashes, all bedaub'd in blood, All in gore blood; I swounded at the sight. O break, my heart!—poor bankrupt, break at once! To prison, eyes, ne'er look on liberty! Vile earth, to earth resign; end motion here; And thou and Romeo press one heavy bier! O Tybalt, Tybalt! the best friend I had: O courteous Tybalt! honest gentleman! That ever I should live to see thee dead! What storm is this that blows so contrary? Is Romeo slaughter'd, and is Tybalt dead? My dearest cousin, and my dearer lord? Then, dreadful trumpet, sound the general doom! For who is living if those two are gone? Tybalt is gone, and Romeo banished; Romeo, that kill'd him, he is banished. O God! did Romeo's hand shed Tybalt's blood? It did, it did; alas the day! it did. O serpent heart, hid with a flowering face! Did ever dragon keep so fair a cave? Beautiful tyrant! fiend angelical! Dove-feather'd raven! wolvish-ravening lamb! Despised substance of divinest show! Just opposite to what thou justly seem'st; A damned saint, an honourable villain! O, nature! what hadst thou to do in hell When thou didst bower the spirit of a fiend In mortal paradise of such sweet flesh? Was ever book containing such vile matter So fairly bound? O! that deceit should dwell In such a gorgeous palace. There's no trust, No faith, no honesty in men; all naught, All perjur'd, all dissemblers, all forsworn. Ah! where's my man? give me some aqua vitæ: These griefs, these woes, these sorrows make me old. Shame come to Romeo! Blister'd be thy tongue For such a wish! he was not born to shame: Upon his brow shame is asham'd to sit; For 'tis a throne where honour may be crown'd Sole monarch of the universal earth. O! what a beast was I to chide at him. Will you speak well of him that kill'd your cousin? Shall I speak ill of him that is my husband? Ah! poor my lord, what tongue shall smooth thy name, When I, thy three-hours wife, have mangled it? But, wherefore, villain, didst thou kill my cousin? That villain cousin would have kill'd my husband: Back, foolish tears, back to your native spring; Your tributary drops belong to woe, Which you, mistaking, offer up to joy. My husband lives, that Tybalt would have slain; And Tybalt's dead, that would have slain my husband: All this is comfort; wherefore weep I then? Some word there was, worser than Tybalt's death, That murder'd me: I would forget it fain; But O! it presses to my memory, Like damned guilty deeds to sinners' minds. 'Tybalt is dead, and Romeo banished!' That 'banished,' that one word 'banished,' Hath slain ten thousand Tybalts. Tybalt's death Was woe enough, if it had ended there: Or, if sour woe delights in fellowship, And needly will be rank'd with other griefs, Why follow'd not, when she said 'Tybalt's dead,' Thy father, or thy mother, nay, or both, Which modern lamentation might have mov'd? But with a rearward following Tybalt's death, 'Romeo is banished!' to speak that word Is father, mother, Tybalt, Romeo, Juliet, All slain, all dead: 'Romeo is banished!' There is no end, no limit, measure, bound In that word's death; no words can that woe sound.— Where is my father and my mother, nurse? Weeping and wailing over Tybalt's corse: Will you go to them? I will bring you thither. Wash they his wounds with tears: mine shall be spent, When theirs are dry, for Romeo's banishment. Take up those cords. Poor ropes, you are beguil'd, Both you and I, for Romeo is exil'd: He made you for a highway to my bed, But I, a maid, die maiden-widowed. Come, cords; come, nurse; I'll to my wedding bed; And death, not Romeo, take my maidenhead! Hie to your chamber; I'll find Romeo To comfort you: I wot well where he is. Hark ye, your Romeo will be here to-night: I'll to him; he is hid at Laurence' cell. O! find him; give this ring to my true knight, And bid him come to take his last farewell. Romeo, come forth; come forth, thou fearful man: Affliction is enamour'd of thy parts, And thou art wedded to calamity. Father, what news? what is the prince's doom? What sorrow craves acquaintance at my hand, That I yet know not? Too familiar Is my dear son with such sour company: I bring thee tidings of the prince's doom. What less than doomsday is the prince's doom? A gentler judgment vanish'd from his lips, Not body's death, but body's banishment. Ha! banishment! be merciful, say 'death;' For exile hath more terror in his look, Much more than death: do not say 'banishment.' Hence from Verona art thou banished. Be patient, for the world is broad and wide. There is no world without Verona walls, But purgatory, torture, hell itself. Hence banished is banish'd from the world, And world's exile is death; then 'banished,' Is death mis-term'd. Calling death 'banished,' Thou cutt'st my head off with a golden axe, And smil'st upon the stroke that murders me. O deadly sin! O rude unthankfulness! Thy fault our law calls death; but the kind prince, Taking thy part, hath rush'd aside the law, And turn'd that black word death to banishment: This is dear mercy, and thou seest it not. 'Tis torture, and not mercy: heaven is here, Where Juliet lives; and every cat and dog And little mouse, every unworthy thing, Live here in heaven and may look on her; But Romeo may not: more validity, More honourable state, more courtship lives In carrion flies than Romeo: they may seize On the white wonder of dear Juliet's hand, And steal immortal blessing from her lips, Who, even in pure and vestal modesty, Still blush, as thinking their own kisses sin; Flies may do this, but I from this must fly: They are free men, but I am banished. And sayst thou yet that exile is not death? Hadst thou no poison mix'd, no sharp-ground knife, No sudden mean of death, though ne'er so mean, But 'banished' to kill me? 'Banished!' O friar! the damned use that word in hell; Howlings attend it: how hast thou the heart, Being a divine, a ghostly confessor, A sin-absolver, and my friend profess'd, To mangle me with that word 'banished?' Thou fond mad man, hear me but speak a word. O! thou wilt speak again of banishment. I'll give thee armour to keep off that word; Adversity's sweet milk, philosophy, To comfort thee, though thou art banished. Yet 'banished!' Hang up philosophy! Unless philosophy can make a Juliet, Displant a town, reverse a prince's doom, It helps not, it prevails not: talk no more. O! then I see that madmen have no ears. How should they, when that wise men have no eyes? Let me dispute with thee of thy estate. Thou canst not speak of that thou dost not feel: Wert thou as young as I, Juliet thy love, An hour but married, Tybalt murdered, Doting like me, and like me banished, Then mightst thou speak, then mightst thou tear thy hair, And fall upon the ground, as I do now, Taking the measure of an unmade grave. Arise; one knocks: good Romeo, hide thyself. Not I; unless the breath of heart-sick groans, Mist-like, infold me from the search of eyes. Hark! how they knock. Who's there? Romeo arise; Thou wilt be taken. Stay awhile! Stand up; Run to my study. By and by! God's will! What wilfulness is this! I come, I come! Who knocks so hard? whence come you? what's your will? Let me come in, and you shall know my errand: I come from Lady Juliet. Welcome, then. O holy friar! O! tell me, holy friar, Where is my lady's lord? where's Romeo? There on the ground, with his own tears made drunk. O! he is even in my mistress' case, Just in her case! O woeful sympathy! Piteous predicament! Even so lies she, Blubbering and weeping, weeping and blubbering. Stand up, stand up; stand, an you be a man: For Juliet's sake, for her sake, rise and stand; Why should you fall into so deep an O? Nurse! Ah, sir! ah, sir! Well, death's the end of all. Spak'st thou of Juliet? how is it with her? Doth she not think me an old murderer, Now I have stain'd the childhood of our joy. With blood remov'd but little from her own? Where is she? and how doth she? and what says My conceal'd lady to our cancell'd love? O! she says nothing, sir, but weeps and weeps; And now falls on her bed; and then starts up, And Tybalt calls, and then on Romeo cries, And then down falls again. As if that name, Shot from the deadly level of a gun, Did murder her; as that name's cursed hand Murder'd her kinsman. O! tell me, friar, tell me, In what vile part of this anatomy Doth my name lodge? tell me, that I may sack The hateful mansion. Hold thy desperate hand: Art thou a man? thy form cries out thou art: Thy tears are womanish; thy wild acts denote The unreasonable fury of a beast: Unseemly woman in a seeming man; Or ill-beseeming beast in seeming both! Thou hast amaz'd me: by my holy order, I thought thy disposition better temper'd. Hast thou slain Tybalt? wilt thou slay thyself? And slay thy lady that in thy life lives, By doing damned hate upon thyself? Why rail'st thou on thy birth, the heaven, and earth? Since birth, and heaven, and earth, all three do meet In thes at once, which thou at once wouldst lose. Fie, fie! thou sham'st thy shape, thy love, thy wit, Which, like a usurer, abound'st in all, And usest none in that true use indeed Which should bedeck thy shape, thy love, thy wit. Thy noble shape is but a form of wax, Digressing from the valour of a man; Thy dear love, sworn, but hollow perjury, Killing that love which thou hast vow'd to cherish; Thy wit, that ornament to shape and love, Misshapen in the conduct of them both, Like powder in a skilless soldier's flask, To set a-fire by thine own ignorance, And thou dismember'd with thine own defence. What! rouse thee, man; thy Juliet is alive, For whose dear sake thou wast but lately dead; There art thou happy: Tybalt would kill thee, But thou slew'st Tybalt; there art thou happy too: The law that threaten'd death becomes thy friend, And turns it to exile; there art thou happy: A pack of blessings light upon thy back; Happiness courts thee in her best array; But, like a misbehav'd and sullen wench, Thou pout'st upon thy fortune and thy love. Take heed, take heed, for such die miserable. Go, get thee to thy love, as was decreed, Ascend her chamber, hence and comfort her; But look thou stay not till the watch be set, For then thou canst not pass to Mantua; Where thou shalt live, till we can find a time To blaze your marriage, reconcile your friends, Beg pardon of the prince, and call thee back With twenty hundred thousand times more joy Than thou went'st forth in lamentation. Go before, nurse: commend me to thy lady; And bid her hasten all the house to bed, Which heavy sorrow makes them apt unto: Romeo is coming. O Lord! I could have stay'd here all the night To hear good counsel: O! what learning is. My lord, I'll tell my lady you will come. Do so, and bid my sweet prepare to chide. Here, sir, a ring she bid me give you, sir. Hie you, make haste, for it grows very late. How well my comfort is reviv'd by this! Go hence; good-night; and here stands all your state: Either be gone before the watch be set, Or by the break of day disguis'd from hence: Sojourn in Mantua; I'll find out your man, And he shall signify from time to time Every good hap to you that chances here. Give me thy hand; 'tis late: farewell; goodnight. But that a joy past joy calls out on me, It were a grief so brief to part with thee: Farewell. Things have fall'n out, sir, so unluckily, That we have had no time to move our daughter: Look you, she lov'd her kinsman Tybalt dearly, And so did I: well, we were born to die. 'Tis very late, she'll not come down to night: I promise you, but for your company, I would have been a-bed an hour ago. These times of woe afford no time to woo. Madam, good-night: commend me to your daughter. I will, and know her mind early to-morrow; To-night she's mew'd up to her heaviness. Sir Paris, I will make a desperate tender Of my child's love: I think she will be rul'd In all respects by me; nay, more, I doubt it not. Wife go you to her ere you go to bed; Acquaint her here of my son Paris' love; And bid her, mark you me, on Wednesday next— But, soft! what day is this? Monday, my lord. Monday! ha, ha! Well, Wednesday is too soon; O' Thursday let it be: o' Thursday, tell her, She shall be married to this noble earl. Will you be ready? do you like this haste? We'll keep no great ado; a friend or two; For, hark you, Tybalt being slain so late, It may be thought we held him carelessly, Being our kinsman, if we revel much. Therefore we'll have some half a dozen friends, And there an end. But what say you to Thursday? My lord, I would that Thursday were to-morrow. Well, get you gone: o' Thursday be it then. Go you to Juliet ere you go to bed, Prepare her, wife, against this wedding-day. Farewell, my lord. Light to my chamber, ho! Afore me! it is so very very late, That we may call it early by and by. Good-night. Wilt thou be gone? it is not yet near day: It was the nightingale, and not the lark, That pierc'd the fearful hollow of thine ear; Nightly she sings on you pomegranate tree: Believe me, love, it was the nightingale. It was the lark, the herald of the morn, No nightingale: look, love, what envious streaks Do lace the severing clouds in yonder east: Night's candles are burnt out, and jocund day Stands tiptoe on the misty mountain tops: I must be gone and live, or stay and die. Yon light is not daylight, I know it, I: It is some meteor that the sun exhales, To be to thee this night a torch-bearer, And light thee on thy way to Mantua: Therefore stay yet; thou need'st not to be gone. Let me be ta'en, let me be put to death; I am content, so thou wilt have it so. I'll say yon grey is not the morning's eye, 'Tis but the pale reflex of Cynthia's brow; Nor that is not the lark, whose notes do beat The vaulty heaven so high above our heads: I have more care to stay than will to go: Come, death, and welcome! Juliet wills it so. How is't, my soul? let's talk; it is not day. It is, it is; hie hence, be gone, away! It is the lark that sings so out of tune, Straining harsh discords and unpleasing sharps. Some say the lark makes sweet division; This doth not so, for she divideth us: Some say the lark and loathed toad change eyes; O! now I would they had chang'd voices too, Since arm from arm that voice doth us affray, Hunting thee hence with hunts-up to the day. O! now be gone; more light and light it grows. More light and light; more dark and dark our woes. Madam! Nurse! Your lady mother is coming to your chamber: The day is broke; be wary, look about. Then, window, let day in, and let life out. Farewell, farewell! one kiss, and I'll descend. Art thou gone so? my lord, my love, my friend! I must hear from thee every day in the hour, For in a minute there are many days: O! by this count I shall be much in years Ere I again behold my Romeo. Farewell! I will omit no opportunity That may convey my greetings, love, to thee. O! think'st thou we shall ever meet again? I doubt it not; and all these woes shall serve For sweet discourses in our time to come. O God! I have an ill-divining soul: Methinks I see thee, now thou art so low, As one dead in the bottom of a tomb: Either my eyesight fails, or thou look'st pale. And trust me, love, in my eye so do you: Dry sorrow drinks our blood. Adieu! adieu! O fortune, fortune! all men call thee fickle: If thou art fickle, what dost thou with him That is renown'd for faith? Be fickle, fortune; For then, I hope, thou wilt not keep him long, But send him back. Ho, daughter! are you up? Who is't that calls? is it my lady mother? Is she not down so late, or up so early? What unaccustom'd cause procures her hither? Why, how now, Juliet! Madam, I am not well. Evermore weeping for your cousin's death? What! wilt thou wash him from his grave with tears? And if thou couldst, thou couldst not make him live; Therefore, have done: some grief shows much of love; But much of grief shows still some want of wit. Yet let me weep for such a feeling loss. So shall you feel the loss, but not the friend Which you weep for. Feeling so the loss, I cannot choose but ever weep the friend. Well, girl, thou weep'st not so much for his death, As that the villain lives which slaughter'd him. What villain, madam? That same villain, Romeo. Villain and he be many miles asunder. God pardon him! I do, with all my heart; And yet no man like he doth grieve my heart. That is because the traitor murderer lives. Ay, madam, from the reach of these my hands. Would none but I might venge my cousin's death! We will have vengeance for it, fear thou not: Then weep no more. I'll send to one in Mantua, Where that same banish'd runsgate doth live; Shall give him such an unaccustom'd dram That he shall soon keep Tybalt company: And then, I hope, thou wilt be satisfied. Indeed, I never shall be satisfied With Romeo, till I behold him—dead— Is my poor heart so for a kinsman vex'd: Madam, if you could find out but a man To bear a poison, I would temper it, That Romeo should, upon receipt thereof, Soon sleep in quiet. O! how my heart abhors To hear him nam'd, and cannot come to him, To wreak the love I bore my cousin Tybalt Upon his body that hath slaughter'd him. Find thou the means, and I'll find such a man. But now I'll tell thee joyful tidings, girl. And joy comes well in such a needy time: What are they, I beseech your ladyship? Well, well, thou hast a careful father, child; One who, to put thee from thy heaviness, Hath sorted out a sudden day of joy That thou expect'st not, nor I look'd not for. Madam, in happy time, what day is that? Marry, my child, early next Thursday morn The gallant, young, and noble gentleman, The County Paris, at Saint Peter's church, Shall happily make thee there a joyful bride. Now, by Saint Peter's church, and Peter too, He shall not make me there a joyful bride. I wonder at this haste; that I must wed Ere he that should be husband comes to woo. I pray you, tell my lord and father, madam, I will not marry yet; and, when I do, I swear, It shall be Romeo, whom you know I hate, Rather than Paris. These are news indeed! Here comes your father; tell him so yourself, And see how he will take it at your hands. When the sun sets, the air doth drizzle dew; But for the sunset of my brother's son It rains downright. How now! a conduit, girl? what! still in tears? Evermore showering? In one little body Thou counterfeit'st a bark, a sea, a wind; For still thy eyes, which I may call the sea, Do ebb and flow with tears; the bark thy body is, Sailing in this salt flood; the winds, thy sighs; Who, raging with thy tears, and they with them, Without a sudden calm, will overset Thy tempest-tossed body. How now, wife! Have you deliver'd to her our decree? Ay, sir; but she will none, she gives you thanks. I would the fool were married to her grave! Soft! take me with you, take me with you, wife. How! will she none? doth she not give us thanks? Is she not proud? doth she not count her bless'd, Unworthy as she is, that we have wrought So worthy a gentleman to be her bridegroom? Not proud, you have; but thankful, that you have: Proud can I never be of what I hate; But thankful even for hate, that is meant love. How now! how now, chop-logic! What is this? 'Proud,' and 'I thank you,' and 'I thank you not;' And yet 'not proud;' mistress minion, you, Thank me no thankings, nor proud me no prouds, But fettle your fine joints 'gainst Thursday next, To go with Paris to Saint Peter's church, Or I will drag thee on a hurdle thither. Out, you green-sickness carrion! out, you baggage! You tallow face! Fie, fie! what, are you mad? Good father, I beseech you on my knees, Hear me with patience but to speak a word. Hang thee, young baggage! disobedient wretch! I tell thee what, get thee to church o' Thursday, Or never after look me in the face. Speak not, reply not, do not answer me; My fingers itch.—Wife, we scarce thought us bless'd That God had lent us but this only child; But now I see this one is one too much, And that we have a curse in having her. Out on her, hilding! God in heaven bless her! You are to blame, my lord, to rate her so. And why, my lady wisdom? hold your tongue, Good prudence; smatter with your gossips, go. I speak no treason. O! God ye good den. May not one speak? Peace, you mumbling fool; Utter your gravity o'er a gossip's bowl; For here we need it not. You are too hot. God's bread! it makes me mad. Day, night, hour, tide, time, work, play, Alone, in company, still my care hath been To have her match'd; and having now provided A gentleman of noble parentage, Of fair demesnes, youthful, and nobly train'd, Stuff'd, as they say, with honourable parts, Proportion'd as one's thought would wish a man; And then to have a wretched puling fool, A whining mammet, in her fortune's tender, To answer 'I'll not wed,' 'I cannot love,' 'I am too young,' 'I pray you, pardon me;' But, an you will not wed, I'll pardon you: Graze where you will, you shall not house with me: Look to't, think on't, I do not use to jest. Thursday is near; lay hand on heart, advise. An you be mine, I'll give you to my friend; An you be not, hang, beg, starve, die in the streets, For, by my soul, I'll ne'er acknowledge thee, Nor what is mine shall never do thee good. Trust to't, bethink you; I'll not be forsworn. Is there no pity sitting in the clouds, That sees into the bottom of my grief? O! sweet my mother, cast me not away: Delay this marriage for a month, a week; Or, if you do not, make the bridal bed In that dim monument where Tybalt lies. Talk not to me, for I'll not speak a word. Do as thou wilt, for I have done with thee. O God! O nurse! how shall this be prevented? My husband is on earth, my faith in heaven; How shall that faith return again to earth, Unless that husband send it me from heaven By leaving earth? comfort me, counsel me. Alack, alack! that heaven should practise stratagems Upon so soft a subject as myself! What sayst thou? hast thou not a word of joy? Some comfort, nurse? Faith, here it is. Romeo Is banished; and all the world to nothing That he dares ne'er come back to challenge you; Or, if he do, it needs must be by stealth. Then, since the case so stands as now it doth, I think it best you married with the county. O! he's a lovely gentleman; Romeo's a dishclout to him: an eagle, madam, Hath not so green, so quick, so fair an eye As Paris hath. Beshrew my very heart, I think you are happy in this second match, For it excels your first: or if it did not, Your first is dead; or 'twere as good he were, As living here and you no use of him. Speakest thou from thy heart? And from my soul too; Or else beshrew them both. Amen! What! Well, thou hast comforted me marvellous much. Go in; and tell my lady I am gone, Having displeas'd my father, to Laurence' cell, To make confession and to be absolv'd. Marry, I will; and this is wisely done. Ancient damnation! O most wicked fiend! Is it more sin to wish me thus forsworn, Or to dispraise my lord with that same tongue Which she hath prais'd him with above compare So many thousand times? Go, counsellor; Thou and my bosom henceforth shall be twain. I'll to the friar, to know his remedy: If all else fail, myself have power to die. On Thursday, sir? the time is very short. My father Capulet will have it so; And I am nothing slow to slack his haste. You say you do not know the lady's mind: Uneven is the course, I like it not. Immoderately she weeps for Tybalt's death, And therefore have I little talk'd of love; For Venus smiles not in a house of tears. Now, sir, her father counts it dangerous That she doth give her sorrow so much sway, And in his wisdom hastes our marriage To stop the inundation of her tears; Which, too much minded by herself alone, May be put from her by society. Now do you know the reason of this haste. I would I knew not why it should be slow'd. Look, sir, here comes the lady towards my cell. Happily met, my lady and my wife! That may be, sir, when I may be a wife. That may be must be, love, on Thursday next. What must be shall be. That's a certain text. Come you to make confession to this father? To answer that, I should confess to you. Do not deny to him that you love me. I will confess to you that I love him. So will ye, I am sure, that you love me. If I do so, it will be of more price, Being spoke behind your back, than to your face. Poor soul, thy face is much abus'd with tears. The tears have got small victory by that; For it was bad enough before their spite. Thou wrong'st it, more than tears, with that report. That is no slander, sir, which is a truth; And what I spake, I spake it to my face. Thy face is mine, and thou hast slander'd it. It may be so, for it is not mine own. Are you at leisure, holy father, now; Or shall I come to you at evening mass? My leisure serves me, pensive daughter, now: My lord, we must entreat the time alone. God shield, I should disturb devotion! Juliet, on Thursday early will I rouse you: Till then, adieu; and keep this holy kiss. O! shut the door! and when thou hast done so, Come weep with me; past hope, past cure, past help! Ah! Juliet, I already know thy grief; It strains me past the compass of my wits: I hear thou must, and nothing may prorogue it, On Thursday next be married to this county. Tell me not, friar, that thou hear'st of this, Unless thou tell me how I may prevent it: If, in thy wisdom, thou canst give no help, Do thou but call my resolution wise, And with this knife I'll help it presently, God join'd my heart and Romeo's, thou our hands; And ere this hand, by thee to Romeo seal'd, Shall be the label to another deed, Or my true heart with treacherous revolt Turn to another, this shall slay them both. Therefore, out of thy long-experienc'd time, Give me some present counsel; or behold, 'Twixt my extremes and me this bloody knife Shall play the umpire, arbitrating that Which the commission of thy years and art Could to no issue of true honour bring. Be not so long to speak; I long to die, If what thou speak'st speak not of remedy. Hold, daughter; I do spy a kind of hope, Which craves as desperate an execution As that is desperate which we would prevent. If, rather than to marry County Paris, Thou hast the strength of will to slay thyself, Then is it likely thou wilt undertake A thing like death to chide away this shame, That cop'st with death himself to 'scape from it; And, if thou dar'st, I'll give thee remedy. O! bid me leap, rather than marry Paris, From off the battlements of yonder tower; Or walk in thievish ways; or bid me lurk Where serpents are; chain me with roaring bears; Or shut me nightly in a charnel-house, O'er-cover'd quite with dead men's rattling bones, With reeky shanks, and yellow chapless skulls; Or bid me go into a new-made grave And hide me with a dead man in his shroud; Things that, to hear them told, have made me tremble; And I will do it without fear or doubt, To live an unstain'd wife to my sweet love. Hold, then; go home, be merry, give consent To marry Paris: Wednesday is to-morrow! To-morrow night look that thou lie alone, Let not thy nurse lie with thee in thy chamber: Take thou this vial, being then in bed, And this distilled liquor drink thou off; When presently through all thy veins shall run A cold and drowsy humour, for no pulse Shall keep his native progress, but surcease; No warmth, no breath, shall testify thou liv'st; The roses in thy lips and cheeks shall fade To paly ashes; thy eyes' windows fall, Like death, when he shuts up the day of life; Each part, depriv'd of supple government, Shall, stiff and stark and cold, appear like death; And in this borrow'd likeness of shrunk death Thou shalt continue two-and-forty hours, And then awake as from a pleasant sleep. Now, when the bridegroom in the morning comes To rouse thee from thy bed, there art thou dead: Then—as the manner of our country is— In thy best robes uncover'd on the bier, Thou shalt be borne to that same ancient vault Where all the kindred of the Capulets lie. In the mean time, against thou shalt awake, Shall Romeo by my letters know our drift, And hither shall he come; and he and I Will watch thy waking, and that very night Shall Romeo bear thee hence to Mantua. And this shall free thee from this present shame; If no unconstant toy, nor womanish fear, Abate thy valour in the acting it. Give me, give me! O! tell me not of fear! Hold; get you gone, be strong and prosperous In this resolve. I'll send a friar with speed To Mantua, with my letters to thy lord. Love, give me strength! and strength shall help afford. Farewell, dear father! So many guests invite as here are writ. Sirrah, go hire me twenty cunning cooks. You shall have none ill, sir; for I'll try if they can lick their fingers. How canst thou try them so? Marry, sir, 'tis an ill cook that cannot lick his own fingers: therefore he that cannot lick his fingers goes not with me. Go, be gone. We shall be much unfurnish'd for this time. What! is my daughter gone to Friar Laurence? Ay, forsooth. Well, he may chance to do some good on her: A peevish self-will'd harlotry it is. See where she comes from shrift with merry look. How now, my headstrong! where have you been gadding? Where I have learn'd me to repent the sin Of disobedient opposition To you and your behests; and am enjoin'd By holy Laurence to fall prostrate here, And beg your pardon. Pardon, I beseech you! Henceforward I am ever rul'd by you. Send for the county; go tell him of this: I'll have this knot knit up to-morrow morning. I met the youthful lord at Laurence' cell; And gave him what becomed love I might, Not stepping o'er the bounds of modesty. Why, I'm glad on't; this is well: stand up: This is as't should be. Let me see the county; Ay, marry, go, I say, and fetch him hither. Now, afore God! this reverend holy friar, All our whole city is much bound to him. Nurse, will you go with me into my closet, To help me sort such needful ornaments As you think fit to furnish me to-morrow? No, not till Thursday; there is time enough. Go, nurse, go with her. We'll to church to-morrow. We shall be short in our provision: 'Tis now near night. Tush! I will stir about, And all things shall be well, I warrant thee, wife: Go thou to Juliet, help to deck up her; I'll not to bed to-night; let me alone; I'll play the housewife for this once. What, ho! They are all forth: well, I will walk myself To County Paris; to prepare him up Against to-morrow. My heart is wondrous light, Since this same wayward girl is so reclaim'd. Ay, those attires are best; but, gentle nurse, I pray thee, leave me to myself to-night; For I have need of many orisons To move the heavens to smile upon my state, Which, well thou know'st, is cross and full of sin. What! are you busy, ho? need you my help? No, madam; we have cull'd such necessaries As are behoveful for our state to-morrow: So please you, let me now be left alone, And let the nurse this night sit up with you; For, I am sure, you have your hands full all In this so sudden business. Good-night: Get thee to bed, and rest; for thou hast need. Farewell! God knows when we shall meet again. I have a faint cold fear thrills through my veins, That almost freezes up the heat of life: I'll call them back again to comfort me: Nurse! What should she do here? My dismal scene I needs must act alone. Come, vial. What if this mixture do not work at all? Shall I be married then to-morrow morning? No, no; this shall forbid it: lie thou there. What if it be a poison, which the friar Subtly hath minister'd to have me dead, Lest in this marriage he should be dishonour'd Because he married me before to Romeo? I fear it is: and yet, methinks, it should not, For he hath still been tried a holy man. I will not entertain so bad a thought. How if, when I am laid into the tomb, I wake before the time that Romeo Come to redeem me? there's a fearful point! Shall I not then be stifled in the vault, To whose foul mouth no healthsome air breathes in, And there die strangled ere my Romeo comes? Or, if I live, is it not very like, The horrible conceit of death and night, Together with the terror of the place, As in a vault, an ancient receptacle, Where, for these many hundred years, the bones Of all my buried ancestors are pack'd; Where bloody Tybalt, yet but green in earth, Lies festering in his shroud; where, as they say, At some hours in the night spirits resort: Alack, alack! is it not like that I, So early waking, what with loathsome smells, And shrieks like mandrakes' torn out of the earth, That living mortals, hearing them, run mad: O! if I wake, shall I not be distraught, Environed with all these hideous fears, And madly play with my forefathers' joints, And pluck the mangled Tybalt from his shroud? And, in this rage, with some great kinsman's bone, As with a club, dash out my desperate brains? O, look! methinks I see my cousin's ghost Seeking out Romeo, that did spit his body Upon a rapier's point. Stay, Tybalt, stay! Romeo, I come! this do I drink to thee. Hold, take these keys, and fetch more spices, nurse. They call for dates and quinces in the pastry. Come, stir, stir, stir! the second cock hath crow'd, The curfew bell hath rung, 'tis three o'clock: Look to the bak'd meats, good Angelica: Spare not for cost. Go, go, you cot-quean, go; Get you to bed; faith, you'll be sick to-morrow For this night's watching. No, not a whit; what! I have watch'd ere now All night for lesser cause, and ne'er been sick. Ay, you have been a mouse-hunt in your time; But I will watch you from such watching now. A jealous-hood, a jealous-hood! Now, fellow, What's there? Things for the cook, sir; but I know not what. Make haste, make haste. Sirrah, fetch drier logs: Call Peter, he will show thee where they are. I have a head, sir, that will find out logs, And never trouble Peter for the matter. Mass, and well said; a merry whoreson, ha! Thou shalt be logger-head. Good faith! 'tis day: The county will be here with music straight, For so he said he would. I hear him near. Nurse! Wife! what, ho! What, nurse, I say! Go waken Juliet, go and trim her up; I'll go and chat with Paris. Hie, make haste, Make haste; the bridegroom he is come already: Make haste, I say. Mistress! what, mistress! Juliet! fast, I warrant her, she: Why, lamb! why, lady! fie, you slug-a-bed! Why, love, I say! madam! sweet-heart! why, bride! What! not a word? you take your pennyworths now: Sleep for a week; for the next night, I warrant, The County Paris hath set up his rest, That you shall rest but little. God forgive me, Marry, and amen, how sound is she asleep! I needs must wake her. Madam, madam, madam! Ay, let the county take you in your bed; He'll fright you up, i' faith. Will it not be? What, dress'd! and in your clothes! and down again! I must needs wake you. Lady! lady! lady! Alas! alas! Help! help! my lady's dead! O! well-a-day, that ever I was born. Some aqua-vitæ, ho! My lord! my lady! What noise is here? O lamentable day! What is the matter? Look, look! O heavy day! O me, O me! my child, my only life, Revive, look up, or I will die with thee! Help, help! Call help. For shame! bring Juliet forth; her lord is come. She's dead, deceas'd, she's dead; alack the day! Alack the day! she's dead, she's dead! she's dead! Ha! let me see her. Out, alas! she's cold; Her blood is settled, and her joints are stiff; Life and these lips have long been separated: Death lies on her like an untimely frost Upon the sweetest flower of all the field. O lamentable day! O woeful time! Death, that hath ta'en her hence to make me wail, Ties up my tongue, and will not let me speak. Come, is the bride ready to go to church? Ready to go, but never to return. O son! the night before thy wedding-day Hath Death lain with thy wife. There she lies, Flower as she was, deflowered by him. Death is my son-in-law, Death is my heir; My daughter he hath wedded: I will die, And leave him all; life, living, all is Death's! Have I thought long to see this morning's face, And doth it give me such a sight as this? Accurs'd, unhappy, wretched, hateful-day! Most miserable hour, that e'er time saw In lasting labour of his pilgrimage! But one, poor one, one poor and loving child, But one thing to rejoice and solace in, And cruel death hath catch'd it from my sight! O woe! O woeful, woeful, woeful day! Most lamentable day, most woeful day, That ever, ever, I did yet behold! O day! O day! O day! O hateful day! Never was seen so black a day as this: O woeful day, O woeful day! Beguil'd, divorced, wronged, spited, slain! Most detestable death, by thee beguil'd, By cruel cruel thee quite overthrown! O love! O life! not life, but love in death! Despis'd, distressed, hated, martyr'd, kill'd! Uncomfortable time, why cam'st thou now To murder, murder our solemnity? O child! O child! my soul, and not my child! Dead art thou! dead! alack, my child is dead; And with my child my joys are buried! Peace, ho! for shame! confusion's cure lives not In these confusions. Heaven and yourself Had part in this fair maid; now heaven hath all, And all the better is it for the maid: Your part in her you could not keep from death, But heaven keeps his part in eternal life. The most you sought was her promotion, For 'twas your heaven she should be advanc'd; And weep ye now, seeing she is advanc'd Above the clouds, as high as heaven itself? O! in this love, you love your child so ill, That you run mad, seeing that she is well: She's not well married that lives married long; But she's best married that dies married young. Dry up your tears, and stick your rosemary On this fair corse; and, as the custom is, In all her best array bear her to church; For though fond nature bids us all lament, Yet nature's tears are reason's merriment. All things that we ordained festival, Turn from their office to black funeral; Our instruments to melancholy bells, Our wedding cheer to a sad burial feast, Our solemn hymns to sullen dirges change, Our bridal flowers serve for a buried corse, And all things change them to the contrary. Sir, go you in; and, madam, go with him; And go, Sir Paris; every one prepare To follow this fair corse unto her grave. The heavens do lower upon you for some ill; Move them no more by crossing their high will. Faith, we may put up our pipes, and be gone. Honest good fellows, ah! put up, put up, for, well you know, this is a pitiful case. Ay, by my troth, the case may be amended. Musicians! O! musicians, 'Heart's ease, Heart's ease:' O! an ye will have me live, play 'Heart's ease.' Why 'Heart's ease?' O! musicians, because my heart itself plays 'My heart is full of woe;' O! play me some merry dump, to comfort me. Not a dump we; 'tis no time to play now. You will not then? No. I will then give it you soundly. What will you give us? No money, on my faith! but the gleek; I will give you the minstrel. Then will I give you the serving-creature. Then will I lay the serving-creature's dagger on your pate, I will carry no crotchets: I'll re you, I'll fa you. Do you note me? An you re us, and fa us, you note us. Pray you, put up your dagger, and put out your wit. Then have at you with my wit! I will dry-beat you with an iron wit, and put up my iron dagger. Answer me like men: When griping grief the heart doth wound, And doleful dumps the mind oppress, Then music with her silver sound— Why 'silver sound?' why 'music with her silver sound?' What say you, Simon Catling? Marry, sir, because silver hath a sweet sound. Pretty! What say you, Hugh Rebeck? I say 'silver sound,' because musicians sound for silver. Pretty too! What say you, James Soundpost? Faith, I know not what to say. O! I cry you mercy; you are the singer; I will say for you. It is, 'music with her silver sound,' because musicians have no gold for sounding: Then music with her silver sound With speedy help doth lend redress. What a pestilent knave is this same! Hang him, Jack! Come, we'll in here; tarry for the mourners, and stay dinner. If I may trust the flattering truth of sleep, My dreams presage some joyful news at hand: My bosom's lord sits lightly in his throne; And all this day an unaccustom'd spirit Lifts me above the ground with cheerful thoughts. I dreamt my lady came and found me dead;— Strange dream, that gives a dead man leave to think,— And breath'd such life with kisses in my lips, That I reviv'd, and was an emperor. Ah me! how sweet is love itself possess'd, When but love's shadows are so rich in joy! News from Verona! How now, Balthasar? Dost thou not bring me letters from the friar? How doth my lady? Is my father well? How fares my Juliet? That I ask again; For nothing can be ill if she be well. Then she is well, and nothing can be ill; Her body sleeps in Capel's monument, And her immortal part with angels lives. I saw her laid low in her kindred's vault, And presently took post to tell it you. O! pardon me for bringing these ill news, Since you did leave it for my office, sir. Is it even so? then I defy you, stars! Thou know'st my lodging: get me ink and paper, And hire post-horses; I will hence to-night. I do beseech you, sir, have patience: Your looks are pale and wild, and do import Some misadventure. Tush, thou art deceiv'd; Leave me, and do the thing I bid thee do. Hast thou no letters to me from the friar? No, my good lord. No matter; get thee gone, And hire those horses: I'll be with thee straight. Well, Juliet, I will he with thee to-night. Let's see for means: O mischief! thou art swift To enter in the thoughts of desperate men. I do remember an apothecary, And hereabouts he dwells, which late I noted In tatter'd weeds, with overwhelming brows, Culling of simples; meagre were his looks, Sharp misery had worn him to the bones: And in his needy shop a tortoise hung, An alligator stuff'd, and other skins Of ill-shap'd fishes; and about his shelves A beggarly account of empty boxes, Green earthen pots, bladders, and musty seeds, Remnants of packthread, and old cakes of roses, Were thinly scatter'd, to make up a show. Noting this penury, to myself I said An if a man did need a poison now, Whose sale is present death in Mantua, Here lives a caitiff wretch would sell it him. O! this same thought did but fore-run my need, And this same needy man must sell it me. As I remember, this should be the house: Being holiday, the beggar's shop is shut. What, ho! apothecary! Who calls so loud? Come hither, man. I see that thou art poor; Hold, there is forty ducats; let me have A dram of poison, such soon-speeding gear As will disperse itself through all the veins That the life-weary taker may fall dead, And that the trunk may be discharg'd of breath As violently as hasty powder fir'd Doth hurry from the fatal cannon's womb. Such mortal drugs I have; but Mantua's law Is death to any he that utters them. Art thou so bare, and full of wretchedness, And fear'st to die? famine is in thy cheeks, Need and oppression starveth in thine eyes, Contempt and beggary hang upon thy back; The world is not thy friend nor the world's law: The world affords no law to make thee rich; Then be not poor, but break it, and take this. My poverty, but not my will, consents. I pay thy poverty, and not thy will. Put this in any liquid thing you will, And drink it off; and, if you had the strength Of twenty men, it would dispatch you straight. There is thy gold, worse poison to men's souls, Doing more murders in this loathsome world Than these poor compounds that thou mayst not sell: I sell thee poison, thou hast sold me none. Farewell; buy food, and get thyself in flesh. Come, cordial and not poison, go with me To Juliet's grave, for there must I use thee. Holy Franciscan friar! brother, ho! This same should be the voice of Friar John. Welcome from Mantua: what says Romeo? Or, if his mind be writ, give me his letter. Going to find a bare-foot brother out, One of our order, to associate me, Here in this city visiting the sick, And finding him, the searchers of the town, Suspecting that we both were in a house Where the infectious pestilence did reign, Seal'd up the doors, and would not let us forth; So that my speed to Mantua there was stay'd. Who bare my letter then to Romeo? I could not send it, here it is again, Nor get a messenger to bring it thee, So fearful were they of infection. Unhappy fortune! by my brotherhood, The letter was not nice, but full of charge Of dear import; and the neglecting it May do much danger. Friar John, go hence; Get me an iron crow, and bring it straight Unto my cell. Brother, I'll go and bring it thee. Now must I to the monument alone; Within these three hours will fair Juliet wake: She will beshrew me much that Romeo Hath had no notice of these accidents; But I will write again to Mantus, And keep her at my cell till Romeo come: Poor living corse, clos'd in a dead man's tomb! Give me thy torch, boy: hence, and stand aloof; Yet put it out, for I would not be seen. Under yond yew-trees lay thee all along, Holding thine ear close to the hollow ground: So shall no foot upon the churchyard tread, Being loose, unfirm with digging up of graves, But thou shalt hear it: whistle then to me, As signal that thou hear'st something approach. Give me those flowers. Do as I bid thee; go. I am almost afraid to stand alone Here in the churchyard; yet I will adventure. Sweet flower, with flowers thy bridal bed I strew, O woe! thy canopy is dust and stones; Which with sweet water nightly I will dew, Or, wanting that, with tears distill'd by moans: The obsequies that I for thee will keep Nightly shall be to strew thy grave and weep. The boy gives warning something doth approach. What cursed foot wanders this way to-night, To cross my obsequies and true love's rite? What! with a torch?—muffle me, night, awhile. Give me that mattock, and the wrenching iron. Hold, take this letter; early in the morning See thou deliver it to my lord and father. Give me the light: upon thy life I charge thee, Whate'er thou hear'st or seest, stand all aloof, And do not interrupt me in my course. Why I descend into this bed of death, Is partly, to behold my lady's face; But chiefly to take thence from her dead finger A precious ring, a ring that I must use In dear employment: therefore hence, be gone: But, if thou, jealous, dost return to pry In what I further shall intend to do, By heaven, I will tear thee joint by joint, And strew this hungry churchyard with thy limbs. The time and my intents are savage-wild, More fierce and more inexorable far Than empty tigers or the roaring sea. I will be gone, sir, and not trouble you. So shalt thou show me friendship. Take thou that: Live, and be prosperous; and farewell, good fellow. For all this same, I'll hide me here about: His looks I fear, and his intents I doubt. Thou detestable maw, thou womb of death, Gorg'd with the dearest morsel of the earth, Thus I enforce thy rotten jaws to open, And, in despite, I'll cram thee with more food! This is that banish'd haughty Montague, That murder'd my love's cousin, with which grief It is supposed the fair creature died; And here is come to do some villanous shame To the dead bodies: I will apprehend him.— Stop thy unhallow'd toil, vile Montague, Can vengeance be pursu'd further than death? Condemned villain, I do apprehend thee: Obey, and go with me; for thou must die. I must, indeed; and therefore came I hither. Good gentle youth, tempt not a desperate man; Fly hence and leave me: think upon these gone; Let them affright thee. I beseech thee, youth, Put not another sin upon my head By urging me to fury: O! be gone: By heaven, I love thee better than myself. For I come hither arm'd against myself: Stay not, be gone; live, and hereafter say A madman's mercy bade thee run away. I do defy thy conjurations, And apprehend thee for a felon here. Wilt thou provoke me? then have at thee, boy! O Lord! they fight: I will go call the watch. O, I am slain!—If thou be merciful, Open the tomb, lay me with Juliet. In faith, I will. Let me peruse this face: Mercutio's kinsman, noble County Paris! What said my man when my betossed soul Did not attend him as we rode? I think He told me Paris should have married Juliet: Said he not so? or did I dream it so? Or am I mad, hearing him talk of Juliet, To think it was so? O! give me thy hand, One writ with me in sour misfortune's book: I'll bury thee in a triumphant grave; A grave? O, no! a lanthorn, slaughter'd youth, For here lies Juliet, and her beauty makes This vault a feasting presence full of light. Death, lie thou there, by a dead man interr'd, How oft when men are at the point of death Have they been merry! which their keepers call A lightning before death: O! how may I Call this a lightning? O my love! my wife! Death, that hath suck'd the honey of thy breath, Hath had no power yet upon thy beauty: Thou art not conquer'd; beauty's ensign yet Is crimson in thy lips and in thy cheeks, And death's pale flag is not advanced there. Tybalt, liest thou there in thy bloody sheet? O! what more favour can I do to thee, Than with that hand that cut thy youth in twain To sunder his that was thine enemy? Forgive me, cousin! Ah! dear Juliet, Why art thou yet so fair? Shall I believe That unsubstantial Death is amorous, And that the lean abhorred monster keeps Thee here in dark to be his paramour? For fear of that I still will stay with thee, And never from this palace of dim night Depart again: here, here will I remain With worms that are thy chambermaids; O! here Will I set up my everlasting rest, And shake the yoke of inauspicious stars From this world-wearied flesh. Eyes, look your last! Arms, take your last embrace! and, lips, O you The doors of breath, seal with a righteous kiss A dateless bargain to engrossing death! Come, bitter conduct, come, unsavoury guide! Thou desperate pilot, now at once run on The dashing rocks thy sea-sick weary bark! Here's to my love! O true apothecary! Thy drugs are quick. Thus with a kiss I die. Saint Francis be my speed! how oft to-night Have my old feet stumbled at graves! Who's there? Here's one, a friend, and one that knows you well. Bliss be upon you! Tell me, good my friend, What torch is yond, that vainly lends his light To grubs and eyeless skulls? as I discern, It burneth in the Capel's monument. It doth so, holy sir; and there's my master, One that you love. Who is it? Romeo. How long hath he been there? Full half an hour. Go with me to the vault. I dare not, sir. My master knows not but I am gone hence; And fearfully did menace me with death If I did stay to look on his intents. Stay then, I'll go alone. Fear comes upon me; O! much I fear some ill unlucky thing. As I did sleep under this yew-tree here, I dreamt my master and another fought, And that my master slew him. Romeo! Alack, alack! what blood is this which stains The stony entrance of this sepulchre? What mean these masterless and gory swords To lie discolour'd by this place of peace? Romeo! O, pale! Who else? what! Paris too? And steep'd in blood? Ah! what an unkind hour Is guilty of this lamentable chance. The lady stirs. O, comfortable friar! where is my lord? I do remember well where I should be, And there I am. Where is my Romeo? I hear some noise. Lady, come from that nest Of death, contagion, and unnatural sleep: A greater power than we can contradict Hath thwarted our intents: come, come away. Thy husband in thy bosom there lies dead; And Paris too: come, I'll dispose of thee Among a sisterhood of holy nuns. Stay not to question, for the watch is coming; Come, go, good Juliet.— I dare no longer stay. Go, get thee hence, for I will not away. What's here? a cup, clos'd in my true love's hand? Poison, I see, hath been his timeless end. O churl! drunk all, and left no friendly drop To help me after! I will kiss thy lips; Haply, some poison yet doth hang on them, To make me die with a restorative. Thy lips are warm! Lead, boy: which way? Yea, noise? then I'll be brief. O happy dagger! This is thy sheath; there rest, and let me die. This is the place; there where the torch doth burn. The ground is bloody; search about the churchyard. Go, some of you; whoe'er you find, attach. Pitiful sight! here lies the county slain, And Juliet bleeding, warm, and newly dead, Who here hath lain these two days buried. Go, tell the prince, run to the Capulets, Raise up the Montagues, some others search: We see the ground whereon these woes do lie; But the true ground of all these piteous woes We cannot without circumstance descry. Here's Romeo's man; we found him in the churchyard. Hold him in safety, till the prince come hither. Here is a friar, that trembles, sighs, and weeps; We took this mattock and this spade from him, As he was coming from this churchyard side. A great suspicion: stay the friar too. What misadventure is so early up, That calls our person from our morning's rest? What should it be, that they so shriek abroad? The people in the street cry Romeo, Some Juliet, and some Paris; and all run With open outcry toward our monument. What fear is this which startles in our ears? Sovereign, here lies the County Paris slain; And Romeo dead; and Juliet, dead before, Warm and new kill'd. Search, seek, and know how this foul murder comes. Here is a friar, and slaughter'd Romeo's man; With instruments upon them, fit to open These dead men's tombs. O, heaven!—O wife! look how our daughter bleeds! This dagger hath mista'en!—for, lo, his house Is empty on the back of Montague— And is mis-sheathed in my daughter's bosom. O me! this sight of death is as a bell, That warns my old age to a sepulchre. Come, Montague: for thou art early up, To see thy son and heir more early down. Alas! my liege, my wife is dead to-night; Grief of my son's exile hath stopp'd her breath. What further woe conspires against mine age? Look, and thou shalt see. O thou untaught! what manners is in this, To press before thy father to a grave? Seal up the mouth of outrage for a while, Till we can clear these ambiguities, And know their spring, their head, their true descent; And then will I be general of your woes, And lead you even to death: meantime forbear, And let mischance be slave to patience. Bring forth the parties of suspicion. I am the greatest, able to do least, Yet most suspected, as the time and place Doth make against me, of this direful murder; And here I stand, both to impeach and purge Myself condemned and myself excus'd. Then say at once what thou dost know in this. I will be brief, for my short date of breath Is not so long as is a tedious tale. Romeo, there dead, was husband to that Juliet; And she, there dead, that Romeo's faithful wife: I married them; and their stolen marriage-day Was Tybalt's doomsday, whose untimely death Banish'd the new-made bridegroom from this city; For whom, and not for Tybalt, Juliet pin'd. You, to remove that siege of grief from her, Betroth'd, and would have married her perforce, To County Paris: then comes she to me, And, with wild looks bid me devise some mean To rid her from this second marriage, Or in my cell there would she kill herself. Then gave I her,—so tutor'd by my art,— A sleeping potion; which so took effect As I intended, for it wrought on her The form of death: meantime I writ to Romeo That he should hither come as this dire night, To help to take her from her borrow'd grave, Being the time the potion's force should cease. But he which bore my letter, Friar John, Was stay'd by accident, and yesternight Return'd my letter back. Then, all alone, At the prefixed hour of her waking, Came I to take her from her kindred's vault, Meaning to keep her closely at my cell, Till I conveniently could send to Romeo: But, when I came,—some minute ere the time Of her awakening,—here untimely lay The noble Paris and true Romeo dead. She wakes; and I entreated her come forth, And bear this work of heaven with patience; But then a noise did scare me from the tomb, And she, too desperate, would not go with me, But, as it seems, did violence on herself. All this I know; and to the marriage Her nurse is privy: and, if aught in this Miscarried by my fault, let my old life Be sacrific'd, some hour before his time, Unto the rigour of severest law. We still have known thee for a holy man. Where's Romeo's man? what can he say in this? I brought my master news of Juliet's death; And then in post he came from Mantua To this same place, to this same monument. This letter he early bid me give his father, And threaten'd me with death, going in the vault, If I departed not and left him there. Give me the letter; I will look on it. Where is the county's page that rais'd the watch? Sirrah, what made your master in this place? He came with flowers to strew his lady's grave, And bid me stand aloof, and so I did; Anon, comes one with light to ope the tomb; And by and by my master drew on him; And then I ran away to call the watch. This letter doth make good the friar's words, Their course of love, the tidings of her death: And here he writes that he did buy a poison Of a poor 'pothecary, and therewithal Came to this vault to die, and lie with Juliet. Where be these enemies?—Capulet! Montague! See what a scourge is laid upon your hate, That heaven finds means to kill your joys with love; And I, for winking at your discords too, Have lost a brace of kinsmen: all are punish'd. O brother Montague! give me thy hand: This is my daughter's jointure, for no more Can I demand. But I can give thee more; For I will raise her statue in pure gold; That while Verona by that name is known. There shall no figure at such rate be set As that of true and faithful Juliet. As rich shall Romeo by his lady lie; Poor sacrifices of our enmity! A glooming peace this morning with it brings; The sun, for sorrow, will not show his head: Go hence, to have more talk of these sad things: Some shall be pardon'd, and some punished: For never was a story of more woe Than this of Juliet and her Romeo.\""
      ]
     },
     "execution_count": 6,
     "metadata": {},
     "output_type": "execute_result"
    }
   ],
   "source": [
    "romeo_clean"
   ]
  },
  {
   "cell_type": "code",
   "execution_count": 7,
   "metadata": {
    "ExecuteTime": {
     "end_time": "2019-07-26T15:42:57.300162Z",
     "start_time": "2019-07-26T15:42:44.684956Z"
    }
   },
   "outputs": [],
   "source": [
    "# Parse the data. This can take some time.\n",
    "nlp = spacy.load('en')\n",
    "much_ado_doc = nlp(much_ado_clean)\n",
    "romeo_doc = nlp(romeo_clean)"
   ]
  },
  {
   "cell_type": "code",
   "execution_count": 8,
   "metadata": {
    "ExecuteTime": {
     "end_time": "2019-07-26T15:42:57.353629Z",
     "start_time": "2019-07-26T15:42:57.308560Z"
    }
   },
   "outputs": [
    {
     "data": {
      "text/html": [
       "<div>\n",
       "<style scoped>\n",
       "    .dataframe tbody tr th:only-of-type {\n",
       "        vertical-align: middle;\n",
       "    }\n",
       "\n",
       "    .dataframe tbody tr th {\n",
       "        vertical-align: top;\n",
       "    }\n",
       "\n",
       "    .dataframe thead th {\n",
       "        text-align: right;\n",
       "    }\n",
       "</style>\n",
       "<table border=\"1\" class=\"dataframe\">\n",
       "  <thead>\n",
       "    <tr style=\"text-align: right;\">\n",
       "      <th></th>\n",
       "      <th>0</th>\n",
       "      <th>1</th>\n",
       "    </tr>\n",
       "  </thead>\n",
       "  <tbody>\n",
       "    <tr>\n",
       "      <th>0</th>\n",
       "      <td>(I, learn, in, this, letter, that, Don, Pedro,...</td>\n",
       "      <td>Much Ado</td>\n",
       "    </tr>\n",
       "    <tr>\n",
       "      <th>1</th>\n",
       "      <td>(He, is, very, near, by, this, :, he, was, not...</td>\n",
       "      <td>Much Ado</td>\n",
       "    </tr>\n",
       "    <tr>\n",
       "      <th>2</th>\n",
       "      <td>(How, many, gentlemen, have, you, lost, in, th...</td>\n",
       "      <td>Much Ado</td>\n",
       "    </tr>\n",
       "    <tr>\n",
       "      <th>3</th>\n",
       "      <td>(But, few, of, any, sort, ,, and, none, of, na...</td>\n",
       "      <td>Much Ado</td>\n",
       "    </tr>\n",
       "    <tr>\n",
       "      <th>4</th>\n",
       "      <td>(A, victory, is, twice, itself, when, the, ach...</td>\n",
       "      <td>Much Ado</td>\n",
       "    </tr>\n",
       "  </tbody>\n",
       "</table>\n",
       "</div>"
      ],
      "text/plain": [
       "                                                   0         1\n",
       "0  (I, learn, in, this, letter, that, Don, Pedro,...  Much Ado\n",
       "1  (He, is, very, near, by, this, :, he, was, not...  Much Ado\n",
       "2  (How, many, gentlemen, have, you, lost, in, th...  Much Ado\n",
       "3  (But, few, of, any, sort, ,, and, none, of, na...  Much Ado\n",
       "4  (A, victory, is, twice, itself, when, the, ach...  Much Ado"
      ]
     },
     "execution_count": 8,
     "metadata": {},
     "output_type": "execute_result"
    }
   ],
   "source": [
    "# Group into sentences.\n",
    "much_ado_sents = [[sent, \"Much Ado\"] for sent in much_ado_doc.sents]\n",
    "romeo_sents = [[sent, \"Romeo\"] for sent in romeo_doc.sents]\n",
    "\n",
    "# Combine the sentences from the two plays into one data frame.\n",
    "sentences = pd.DataFrame(much_ado_sents + romeo_sents)\n",
    "sentences.head()"
   ]
  },
  {
   "cell_type": "code",
   "execution_count": 9,
   "metadata": {
    "ExecuteTime": {
     "end_time": "2019-07-26T15:42:57.375527Z",
     "start_time": "2019-07-26T15:42:57.356382Z"
    }
   },
   "outputs": [],
   "source": [
    "# Set up bag of words function for each text.\n",
    "def bag_of_words(text):\n",
    "    \"\"\"Counts the total number of instances of each word in a doc.\"\"\"\n",
    "    allwords = [token.lemma_\n",
    "                for token in text\n",
    "                if not token.is_punct\n",
    "                and not token.is_stop]\n",
    "    return [item[0] for item in Counter(allwords).most_common(500)]\n",
    "\n",
    "\n",
    "def bow_features(sentences, common_words):\n",
    "    \"\"\"The 'sentences' variable is a data frame; common_words is a set.\"\"\"\n",
    "    df = pd.DataFrame(columns=common_words)\n",
    "    df['text_sentence'] = sentences[0]\n",
    "    df['text_source'] = sentences[1]\n",
    "    df.loc[:, common_words] = 0\n",
    "\n",
    "    for i, sentence in enumerate(df['text_sentence']):\n",
    "        words = [token.lemma_\n",
    "                 for token in sentence\n",
    "                 if (\n",
    "                     not token.is_punct\n",
    "                     and not token.is_stop\n",
    "                     and token.lemma_ in common_words\n",
    "                 )]\n",
    "        for word in words:\n",
    "            df.loc[i, word] += 1\n",
    "        if i % 100 == 0:\n",
    "            print('Processing row {}'.format(i))\n",
    "    return df"
   ]
  },
  {
   "cell_type": "code",
   "execution_count": 10,
   "metadata": {
    "ExecuteTime": {
     "end_time": "2019-07-26T15:42:57.460008Z",
     "start_time": "2019-07-26T15:42:57.378869Z"
    }
   },
   "outputs": [],
   "source": [
    "# Set up bags for each play.\n",
    "much_ado_words = bag_of_words(much_ado_doc)\n",
    "romeo_words = bag_of_words(romeo_doc)\n",
    "\n",
    "# Make bag of common words.\n",
    "common_words = set(much_ado_words + romeo_words)"
   ]
  },
  {
   "cell_type": "code",
   "execution_count": 11,
   "metadata": {
    "ExecuteTime": {
     "end_time": "2019-07-26T16:06:38.615315Z",
     "start_time": "2019-07-26T15:42:57.464622Z"
    }
   },
   "outputs": [
    {
     "name": "stdout",
     "output_type": "stream",
     "text": [
      "Processing row 0\n",
      "Processing row 100\n",
      "Processing row 200\n",
      "Processing row 300\n",
      "Processing row 400\n",
      "Processing row 500\n",
      "Processing row 600\n",
      "Processing row 700\n",
      "Processing row 800\n",
      "Processing row 900\n",
      "Processing row 1000\n",
      "Processing row 1100\n",
      "Processing row 1200\n",
      "Processing row 1300\n",
      "Processing row 1400\n",
      "Processing row 1500\n",
      "Processing row 1600\n",
      "Processing row 1700\n",
      "Processing row 1800\n",
      "Processing row 1900\n",
      "Processing row 2000\n",
      "Processing row 2100\n",
      "Processing row 2200\n",
      "Processing row 2300\n",
      "Processing row 2400\n",
      "Processing row 2500\n",
      "Processing row 2600\n",
      "Processing row 2700\n",
      "Processing row 2800\n",
      "Processing row 2900\n",
      "Processing row 3000\n",
      "Processing row 3100\n",
      "Processing row 3200\n",
      "Processing row 3300\n",
      "Processing row 3400\n",
      "Processing row 3500\n",
      "Processing row 3600\n",
      "Processing row 3700\n",
      "Processing row 3800\n",
      "Processing row 3900\n"
     ]
    },
    {
     "data": {
      "text/html": [
       "<div>\n",
       "<style scoped>\n",
       "    .dataframe tbody tr th:only-of-type {\n",
       "        vertical-align: middle;\n",
       "    }\n",
       "\n",
       "    .dataframe tbody tr th {\n",
       "        vertical-align: top;\n",
       "    }\n",
       "\n",
       "    .dataframe thead th {\n",
       "        text-align: right;\n",
       "    }\n",
       "</style>\n",
       "<table border=\"1\" class=\"dataframe\">\n",
       "  <thead>\n",
       "    <tr style=\"text-align: right;\">\n",
       "      <th></th>\n",
       "      <th>earth</th>\n",
       "      <th>bring</th>\n",
       "      <th>now</th>\n",
       "      <th>this</th>\n",
       "      <th>sweet</th>\n",
       "      <th>church</th>\n",
       "      <th>consent</th>\n",
       "      <th>rime</th>\n",
       "      <th>give</th>\n",
       "      <th>guest</th>\n",
       "      <th>...</th>\n",
       "      <th>forth</th>\n",
       "      <th>in</th>\n",
       "      <th>ring</th>\n",
       "      <th>long</th>\n",
       "      <th>from</th>\n",
       "      <th>monument</th>\n",
       "      <th>ursula</th>\n",
       "      <th>heaven</th>\n",
       "      <th>text_sentence</th>\n",
       "      <th>text_source</th>\n",
       "    </tr>\n",
       "  </thead>\n",
       "  <tbody>\n",
       "    <tr>\n",
       "      <th>0</th>\n",
       "      <td>0</td>\n",
       "      <td>0</td>\n",
       "      <td>0</td>\n",
       "      <td>0</td>\n",
       "      <td>0</td>\n",
       "      <td>0</td>\n",
       "      <td>0</td>\n",
       "      <td>0</td>\n",
       "      <td>0</td>\n",
       "      <td>0</td>\n",
       "      <td>...</td>\n",
       "      <td>0</td>\n",
       "      <td>0</td>\n",
       "      <td>0</td>\n",
       "      <td>0</td>\n",
       "      <td>0</td>\n",
       "      <td>0</td>\n",
       "      <td>0</td>\n",
       "      <td>0</td>\n",
       "      <td>(I, learn, in, this, letter, that, Don, Pedro,...</td>\n",
       "      <td>Much Ado</td>\n",
       "    </tr>\n",
       "    <tr>\n",
       "      <th>1</th>\n",
       "      <td>0</td>\n",
       "      <td>0</td>\n",
       "      <td>0</td>\n",
       "      <td>0</td>\n",
       "      <td>0</td>\n",
       "      <td>0</td>\n",
       "      <td>0</td>\n",
       "      <td>0</td>\n",
       "      <td>0</td>\n",
       "      <td>0</td>\n",
       "      <td>...</td>\n",
       "      <td>0</td>\n",
       "      <td>0</td>\n",
       "      <td>0</td>\n",
       "      <td>0</td>\n",
       "      <td>0</td>\n",
       "      <td>0</td>\n",
       "      <td>0</td>\n",
       "      <td>0</td>\n",
       "      <td>(He, is, very, near, by, this, :, he, was, not...</td>\n",
       "      <td>Much Ado</td>\n",
       "    </tr>\n",
       "    <tr>\n",
       "      <th>2</th>\n",
       "      <td>0</td>\n",
       "      <td>0</td>\n",
       "      <td>0</td>\n",
       "      <td>0</td>\n",
       "      <td>0</td>\n",
       "      <td>0</td>\n",
       "      <td>0</td>\n",
       "      <td>0</td>\n",
       "      <td>0</td>\n",
       "      <td>0</td>\n",
       "      <td>...</td>\n",
       "      <td>0</td>\n",
       "      <td>0</td>\n",
       "      <td>0</td>\n",
       "      <td>0</td>\n",
       "      <td>0</td>\n",
       "      <td>0</td>\n",
       "      <td>0</td>\n",
       "      <td>0</td>\n",
       "      <td>(How, many, gentlemen, have, you, lost, in, th...</td>\n",
       "      <td>Much Ado</td>\n",
       "    </tr>\n",
       "    <tr>\n",
       "      <th>3</th>\n",
       "      <td>0</td>\n",
       "      <td>0</td>\n",
       "      <td>0</td>\n",
       "      <td>0</td>\n",
       "      <td>0</td>\n",
       "      <td>0</td>\n",
       "      <td>0</td>\n",
       "      <td>0</td>\n",
       "      <td>0</td>\n",
       "      <td>0</td>\n",
       "      <td>...</td>\n",
       "      <td>0</td>\n",
       "      <td>0</td>\n",
       "      <td>0</td>\n",
       "      <td>0</td>\n",
       "      <td>0</td>\n",
       "      <td>0</td>\n",
       "      <td>0</td>\n",
       "      <td>0</td>\n",
       "      <td>(But, few, of, any, sort, ,, and, none, of, na...</td>\n",
       "      <td>Much Ado</td>\n",
       "    </tr>\n",
       "    <tr>\n",
       "      <th>4</th>\n",
       "      <td>0</td>\n",
       "      <td>1</td>\n",
       "      <td>0</td>\n",
       "      <td>0</td>\n",
       "      <td>0</td>\n",
       "      <td>0</td>\n",
       "      <td>0</td>\n",
       "      <td>0</td>\n",
       "      <td>0</td>\n",
       "      <td>0</td>\n",
       "      <td>...</td>\n",
       "      <td>0</td>\n",
       "      <td>0</td>\n",
       "      <td>0</td>\n",
       "      <td>0</td>\n",
       "      <td>0</td>\n",
       "      <td>0</td>\n",
       "      <td>0</td>\n",
       "      <td>0</td>\n",
       "      <td>(A, victory, is, twice, itself, when, the, ach...</td>\n",
       "      <td>Much Ado</td>\n",
       "    </tr>\n",
       "  </tbody>\n",
       "</table>\n",
       "<p>5 rows × 697 columns</p>\n",
       "</div>"
      ],
      "text/plain": [
       "  earth bring now this sweet church consent rime give guest  ... forth in  \\\n",
       "0     0     0   0    0     0      0       0    0    0     0  ...     0  0   \n",
       "1     0     0   0    0     0      0       0    0    0     0  ...     0  0   \n",
       "2     0     0   0    0     0      0       0    0    0     0  ...     0  0   \n",
       "3     0     0   0    0     0      0       0    0    0     0  ...     0  0   \n",
       "4     0     1   0    0     0      0       0    0    0     0  ...     0  0   \n",
       "\n",
       "  ring long from monument ursula heaven  \\\n",
       "0    0    0    0        0      0      0   \n",
       "1    0    0    0        0      0      0   \n",
       "2    0    0    0        0      0      0   \n",
       "3    0    0    0        0      0      0   \n",
       "4    0    0    0        0      0      0   \n",
       "\n",
       "                                       text_sentence text_source  \n",
       "0  (I, learn, in, this, letter, that, Don, Pedro,...    Much Ado  \n",
       "1  (He, is, very, near, by, this, :, he, was, not...    Much Ado  \n",
       "2  (How, many, gentlemen, have, you, lost, in, th...    Much Ado  \n",
       "3  (But, few, of, any, sort, ,, and, none, of, na...    Much Ado  \n",
       "4  (A, victory, is, twice, itself, when, the, ach...    Much Ado  \n",
       "\n",
       "[5 rows x 697 columns]"
      ]
     },
     "execution_count": 11,
     "metadata": {},
     "output_type": "execute_result"
    }
   ],
   "source": [
    "word_counts = bow_features(sentences, common_words)\n",
    "word_counts.head()"
   ]
  },
  {
   "cell_type": "code",
   "execution_count": 12,
   "metadata": {
    "ExecuteTime": {
     "end_time": "2019-07-26T16:06:39.262577Z",
     "start_time": "2019-07-26T16:06:38.617506Z"
    }
   },
   "outputs": [
    {
     "name": "stderr",
     "output_type": "stream",
     "text": [
      "/Users/danmchenry/miniconda3/lib/python3.7/site-packages/sklearn/ensemble/forest.py:246: FutureWarning: The default value of n_estimators will change from 10 in version 0.20 to 100 in 0.22.\n",
      "  \"10 in version 0.20 to 100 in 0.22.\", FutureWarning)\n"
     ]
    },
    {
     "name": "stdout",
     "output_type": "stream",
     "text": [
      "Training set score:  0.9501915708812261\n",
      "\n",
      "Test set score: 0.6768837803320562\n"
     ]
    }
   ],
   "source": [
    "from sklearn import ensemble\n",
    "\n",
    "rfc = ensemble.RandomForestClassifier()\n",
    "Y = word_counts['text_source']\n",
    "X = np.array(word_counts.drop(['text_sentence', 'text_source'], 1))\n",
    "\n",
    "X_train, X_test, y_train, y_test = train_test_split(X,\n",
    "                                                    Y,\n",
    "                                                    test_size=0.4,\n",
    "                                                    random_state=15\n",
    "                                                   )\n",
    "train = rfc.fit(X_train, y_train)\n",
    "\n",
    "print('Training set score: ', rfc.score(X_train, y_train))\n",
    "print('\\nTest set score:', rfc.score(X_test, y_test))"
   ]
  },
  {
   "cell_type": "code",
   "execution_count": 13,
   "metadata": {
    "ExecuteTime": {
     "end_time": "2019-07-26T16:06:39.433568Z",
     "start_time": "2019-07-26T16:06:39.267181Z"
    }
   },
   "outputs": [
    {
     "name": "stdout",
     "output_type": "stream",
     "text": [
      "(2349, 695) (2349,)\n",
      "Training set score: 0.8437633035334184\n",
      "\n",
      "Test set score: 0.7273307790549169\n"
     ]
    },
    {
     "name": "stderr",
     "output_type": "stream",
     "text": [
      "/Users/danmchenry/miniconda3/lib/python3.7/site-packages/sklearn/linear_model/logistic.py:433: FutureWarning: Default solver will be changed to 'lbfgs' in 0.22. Specify a solver to silence this warning.\n",
      "  FutureWarning)\n"
     ]
    }
   ],
   "source": [
    "from sklearn.linear_model import LogisticRegression\n",
    "\n",
    "lr = LogisticRegression()\n",
    "train = lr.fit(X_train, y_train)\n",
    "print(X_train.shape, y_train.shape)\n",
    "print('Training set score:', lr.score(X_train, y_train))\n",
    "print('\\nTest set score:', lr.score(X_test, y_test))"
   ]
  },
  {
   "cell_type": "code",
   "execution_count": 14,
   "metadata": {
    "ExecuteTime": {
     "end_time": "2019-07-26T16:06:43.927854Z",
     "start_time": "2019-07-26T16:06:39.439221Z"
    }
   },
   "outputs": [
    {
     "name": "stdout",
     "output_type": "stream",
     "text": [
      "Training set score: 0.7454235845040442\n",
      "\n",
      "Test set score: 0.6717752234993615\n"
     ]
    }
   ],
   "source": [
    "clf = ensemble.GradientBoostingClassifier()\n",
    "train = clf.fit(X_train, y_train)\n",
    "\n",
    "print('Training set score:', clf.score(X_train, y_train))\n",
    "print('\\nTest set score:', clf.score(X_test, y_test))"
   ]
  },
  {
   "cell_type": "code",
   "execution_count": 15,
   "metadata": {
    "ExecuteTime": {
     "end_time": "2019-07-26T16:06:44.128066Z",
     "start_time": "2019-07-26T16:06:43.930104Z"
    }
   },
   "outputs": [
    {
     "name": "stdout",
     "output_type": "stream",
     "text": [
      "LinearSVC(C=1.0, class_weight=None, dual=True, fit_intercept=True,\n",
      "     intercept_scaling=1, loss='squared_hinge', max_iter=1000,\n",
      "     multi_class='ovr', penalty='l2', random_state=None, tol=0.0001,\n",
      "     verbose=0)\n",
      "Training set score: 0.8671775223499362\n",
      "\n",
      "Test set score: 0.7171136653895275\n"
     ]
    }
   ],
   "source": [
    "# SVM model, import packages.\n",
    "from sklearn.svm import LinearSVC\n",
    "\n",
    "svc = LinearSVC()\n",
    "svc.fit(X_train, y_train)\n",
    "print(svc)\n",
    "print('Training set score:', svc.score(X_train, y_train))\n",
    "print('\\nTest set score:', svc.score(X_test, y_test))"
   ]
  },
  {
   "cell_type": "code",
   "execution_count": 16,
   "metadata": {
    "ExecuteTime": {
     "end_time": "2019-07-26T16:06:44.200673Z",
     "start_time": "2019-07-26T16:06:44.131828Z"
    }
   },
   "outputs": [
    {
     "name": "stdout",
     "output_type": "stream",
     "text": [
      "Much Ado: [('I', 712), (\"'s\", 170), ('And', 116), ('man', 111), ('love', 90), ('good', 78), ('thou', 74), ('thee', 74), ('shall', 72), ('hath', 67), ('lord', 66), ('God', 63), ('Hero', 63), ('Claudio', 57), ('know', 56), ('Benedick', 56), ('But', 51), ('let', 51), ('prince', 51), ('like', 50), ('thy', 50), ('If', 49), ('lady', 48), (\"'ll\", 48), ('O', 46), ('come', 45), ('think', 45), ('What', 43), ('You', 43), ('Beatrice', 40), ('tell', 39), ('hear', 38), ('brother', 37), ('The', 37), ('To', 37), ('night', 35), ('No', 35), ('Signior', 33), ('cousin', 33), ('heart', 33), ('Come', 33), ('That', 33), ('Why', 32), ('sir', 31), ('Leonato', 30), ('daughter', 30), ('wit', 29), ('Well', 28), ('speak', 28), ('men', 28), ('In', 27), ('pray', 27), ('How', 25), ('Yea', 25), ('My', 23), ('Is', 23), ('answer', 23), ('true', 22), ('doth', 22), ('For', 22), ('morrow', 22), ('He', 21), ('A', 21), ('faith', 21), ('till', 21), ('hand', 21), ('Nay', 21), ('As', 21), ('She', 21), ('fashion', 20), ('old', 20), ('husband', 20), ('By', 19), ('day', 19), ('Lady', 18), ('bid', 18), ('said', 18), ('marry', 18), ('fool', 17), ('Margaret', 17), ('There', 16), ('Good', 16), ('die', 16), ('fair', 16), ('matter', 16), ('Count', 16), ('look', 16), ('We', 16), ('John', 16), ('So', 16), ('Don', 15), ('great', 15), ('It', 15), ('gentleman', 15), ('leave', 15), ('thank', 15), ('way', 15), ('wear', 15), ('death', 15), ('life', 15)]\n"
     ]
    }
   ],
   "source": [
    "# Calculate word frequencies.\n",
    "def word_frequencies(text, include_stop=True):\n",
    "    \"\"\"A data frame that will keep track of word usage.\"\"\"\n",
    "    # Build a list of words.\n",
    "    # Strip out punctuation and stop words.\n",
    "    words = []\n",
    "    for token in text:\n",
    "        if not token.is_punct and (not token.is_stop or include_stop):\n",
    "            words.append(token.text)\n",
    "            \n",
    "    # Build and return a Counter object containing word counts.\n",
    "    return Counter(words)\n",
    "\n",
    "# The most frequent words:\n",
    "much_ado_freq = word_frequencies(\n",
    "    much_ado_doc, include_stop=False).most_common(100)\n",
    "print('Much Ado:', much_ado_freq)\n",
    "romeo_freq = word_frequencies(romeo_doc, include_stop=False).most_common(100)"
   ]
  },
  {
   "cell_type": "code",
   "execution_count": 17,
   "metadata": {
    "ExecuteTime": {
     "end_time": "2019-07-26T16:06:44.215245Z",
     "start_time": "2019-07-26T16:06:44.206708Z"
    }
   },
   "outputs": [
    {
     "name": "stdout",
     "output_type": "stream",
     "text": [
      "Unique to Much Ado: {'great', 'pray', 'She', 'Don', 'thank', 'Lady', 'brother', 'wit', 'Beatrice', 'husband', 'Yea', 'Nay', 'think', 'answer', 'cousin', 'bid', 'Claudio', 'leave', 'John', 'Well', 'way', 'marry', 'fool', 'till', 'matter', 'Signior', 'Benedick', 'Hero', 'Count', 'Good', 'prince', 'fashion', 'gentleman', 'faith', 'He', 'There', 'daughter', 'Margaret', 'wear', 'said', 'Leonato'}\n",
      "Unique to Romeo: {'dead', 'sweet', 'hast', 'bed', 'eyes', 'Where', 'Romeo', 'Ay', 'Here', 'With', 'Which', 'father', 'Tybalt', 'Juliet', 'Thou', 'stay', 'light', 'nurse', 'lie', 'Of', 'tears', 'find', 'word', 'Or', 'This', 'Now', 'art', 'time', 'comes', 'gone', 'Go', 'Then', 'house', 'dear', 'stand', 'Montague', 'Paris', 'tis', 'heaven', 'face', 'wilt'}\n"
     ]
    }
   ],
   "source": [
    "# Pull out just the text from our frequency lists.\n",
    "much_ado_common = [pair[0] for pair in much_ado_freq]\n",
    "romeo_common = [pair[0] for pair in romeo_freq]\n",
    "\n",
    "# Use sets to find the unique values in each top 100.\n",
    "print('Unique to Much Ado:', set(much_ado_common) - set(romeo_common))\n",
    "print('Unique to Romeo:', set(romeo_common) - set(much_ado_common))"
   ]
  },
  {
   "cell_type": "code",
   "execution_count": 18,
   "metadata": {
    "ExecuteTime": {
     "end_time": "2019-07-26T16:06:44.298198Z",
     "start_time": "2019-07-26T16:06:44.219507Z"
    }
   },
   "outputs": [
    {
     "name": "stdout",
     "output_type": "stream",
     "text": [
      "\n",
      "Much Ado: [('-PRON-', 877), ('man', 140), ('and', 116), ('love', 113), (\"'s\", 107), ('good', 105), ('be', 104), ('come', 99), ('thou', 86), ('know', 84), ('shall', 82), ('hath', 76), ('thee', 74), ('lord', 73), ('lady', 69), ('god', 68), ('let', 65), ('hero', 63), ('will', 61), ('think', 61), ('prince', 59), ('tell', 58), ('claudio', 57), ('benedick', 56), ('like', 52), ('thy', 52), ('but', 51), ('hear', 51), ('speak', 51), ('o', 49), ('if', 49), ('what', 43), ('signior', 42), ('beatrice', 40), ('brother', 39), ('marry', 39), ('night', 37), ('sir', 37), ('the', 37), ('to', 37), ('cousin', 36), ('heart', 36), ('no', 35), ('pray', 34), ('that', 33), ('why', 32), ('wit', 31), ('daughter', 31), ('leonato', 30), ('look', 29), ('say', 29), ('go', 28), ('well', 28), ('yea', 28), ('count', 28), ('master', 28), ('in', 27), ('swear', 27), ('die', 27), ('word', 26), ('hand', 26), ('answer', 26), ('how', 25), ('true', 25), ('leave', 24), ('faith', 24), ('doth', 24), ('nay', 24), ('bring', 22), ('fashion', 22), ('till', 22), ('thank', 22), ('for', 22), ('morrow', 22), ('a', 21), ('bear', 21), ('grace', 21), ('old', 21), ('husband', 21), ('as', 21), ('day', 21), ('wear', 20), ('bid', 20), ('eye', 20), ('sweet', 20), ('do', 19), ('great', 19), ('fool', 19), ('friend', 19), ('live', 19), ('fair', 19), ('by', 19), ('tis', 19), ('time', 18), ('lie', 18), ('thing', 18), ('gentleman', 17), ('father', 17), ('troth', 17), ('write', 17)]\n",
      "Romeo: [('-PRON-', 855), ('thou', 278), ('and', 228), (\"'s\", 193), ('thy', 166), ('o', 160), ('love', 156), ('be', 144), ('come', 139), ('thee', 135), ('romeo', 126), ('shall', 110), ('will', 103), ('good', 100), ('man', 99), ('what', 89), ('night', 88), ('to', 85), ('that', 79), ('death', 75), ('but', 75), ('the', 69), ('go', 68), ('hath', 63), ('day', 62), ('sir', 57), ('tybalt', 57), ('lady', 57), ('for', 56), ('art', 54), ('a', 53), ('let', 52), ('fair', 47), ('eye', 47), ('tell', 47), ('doth', 47), ('dead', 47), ('know', 45), ('lie', 45), ('juliet', 43), ('time', 42), ('like', 42), ('tis', 41), ('speak', 41), ('look', 40), ('sweet', 40), ('nurse', 40), ('hand', 38), ('marry', 38), ('heart', 37), ('word', 36), ('this', 36), ('in', 33), ('live', 33), ('as', 33), ('find', 33), ('god', 33), ('heaven', 31), ('where', 30), ('ay', 30), ('wilt', 30), ('or', 30), ('stay', 30), ('lord', 30), ('stand', 29), ('light', 29), ('of', 29), ('hast', 29), ('which', 28), ('true', 28), ('say', 28), ('old', 28), ('dear', 28), ('house', 27), ('how', 27), ('if', 27), ('so', 27), ('bed', 27), ('die', 27), ('think', 27), ('paris', 27), ('life', 26), ('hour', 26), ('hear', 26), ('by', 26), ('tear', 26), ('young', 26), ('father', 26), ('no', 25), ('montague', 25), ('why', 25), ('see', 25), ('give', 24), ('with', 24), ('then', 24), ('now', 24), ('slay', 24), ('away', 23), ('madam', 23), ('thing', 23)]\n",
      "Unique to Much Ado: {'morrow', 'great', 'pray', 'troth', 'bring', 'nay', 'signior', 'bear', 'thank', 'brother', 'wit', 'write', 'husband', 'well', 'answer', 'cousin', 'beatrice', 'bid', 'leave', 'benedick', 'fool', 'till', 'claudio', 'swear', 'grace', 'friend', 'yea', 'faith', 'prince', 'fashion', 'gentleman', 'do', 'daughter', 'wear', 'hero', 'leonato', 'master', 'count'}\n",
      "Unique to Romeo: {'so', 'dead', 'life', 'now', 'this', 'juliet', 'bed', 'hast', 'tybalt', 'give', 'hour', 'paris', 'or', 'madam', 'tear', 'stay', 'of', 'light', 'nurse', 'young', 'find', 'which', 'ay', 'with', 'romeo', 'art', 'away', 'house', 'stand', 'dear', 'then', 'see', 'montague', 'slay', 'death', 'where', 'heaven', 'wilt'}\n"
     ]
    }
   ],
   "source": [
    "# Utility function to calculate how frequently lemmas appear in the text.\n",
    "def lemma_frequencies(text, include_stop=True):\n",
    "    \"\"\"Function to identify lemma frequencies\"\"\"\n",
    "    # Build a list of lemmas.\n",
    "    # Strip out punctuation and stop words.\n",
    "    lemmas = []\n",
    "    for token in text:\n",
    "        if not token.is_punct and (not token.is_stop or include_stop):\n",
    "            lemmas.append(token.lemma_)\n",
    "            \n",
    "    # Build and return a Counter object containing word counts.\n",
    "    return Counter(lemmas)\n",
    "\n",
    "# Instantiate our list of most common lemmas.\n",
    "much_ado_lemma_freq = lemma_frequencies(\n",
    "    much_ado_doc, include_stop=False).most_common(100)\n",
    "romeo_lemma_freq = lemma_frequencies(\n",
    "    romeo_doc, include_stop=False).most_common(100)\n",
    "print('\\nMuch Ado:', much_ado_lemma_freq)\n",
    "print('Romeo:', romeo_lemma_freq)\n",
    "\n",
    "# Again, identify the lemmas common to one text but not the other.\n",
    "much_ado_lemma_common = [pair[0] for pair in much_ado_lemma_freq]\n",
    "romeo_lemma_common = [pair[0] for pair in romeo_lemma_freq]\n",
    "\n",
    "print('Unique to Much Ado:', set(much_ado_lemma_common) -\n",
    "      set(romeo_lemma_common))\n",
    "print('Unique to Romeo:', set(romeo_lemma_common) -\n",
    "      set(much_ado_lemma_common))"
   ]
  },
  {
   "cell_type": "code",
   "execution_count": 19,
   "metadata": {
    "ExecuteTime": {
     "end_time": "2019-07-26T16:06:44.324278Z",
     "start_time": "2019-07-26T16:06:44.302762Z"
    }
   },
   "outputs": [
    {
     "name": "stdout",
     "output_type": "stream",
     "text": [
      "Much Ado About Nothing has 1685 sentences.\n",
      "Romeo and Juliet has 2230 sentences.\n"
     ]
    }
   ],
   "source": [
    "# Let's see how many sentences are in each play.\n",
    "sents_much_ado = list(much_ado_doc.sents)\n",
    "sents_romeo = list(romeo_doc.sents)\n",
    "\n",
    "print(\"Much Ado About Nothing has {} sentences.\".format(len(sents_much_ado)))\n",
    "print(\"Romeo and Juliet has {} sentences.\".format(len(sents_romeo)))"
   ]
  },
  {
   "cell_type": "code",
   "execution_count": 20,
   "metadata": {
    "ExecuteTime": {
     "end_time": "2019-07-26T16:06:44.503191Z",
     "start_time": "2019-07-26T16:06:44.328366Z"
    }
   },
   "outputs": [
    {
     "data": {
      "text/html": [
       "<div>\n",
       "<style scoped>\n",
       "    .dataframe tbody tr th:only-of-type {\n",
       "        vertical-align: middle;\n",
       "    }\n",
       "\n",
       "    .dataframe tbody tr th {\n",
       "        vertical-align: top;\n",
       "    }\n",
       "\n",
       "    .dataframe thead th {\n",
       "        text-align: right;\n",
       "    }\n",
       "</style>\n",
       "<table border=\"1\" class=\"dataframe\">\n",
       "  <thead>\n",
       "    <tr style=\"text-align: right;\">\n",
       "      <th></th>\n",
       "      <th>earth</th>\n",
       "      <th>bring</th>\n",
       "      <th>now</th>\n",
       "      <th>this</th>\n",
       "      <th>sweet</th>\n",
       "      <th>church</th>\n",
       "      <th>consent</th>\n",
       "      <th>rime</th>\n",
       "      <th>give</th>\n",
       "      <th>guest</th>\n",
       "      <th>...</th>\n",
       "      <th>monument</th>\n",
       "      <th>ursula</th>\n",
       "      <th>heaven</th>\n",
       "      <th>text_sentence</th>\n",
       "      <th>text_source</th>\n",
       "      <th>sent_length</th>\n",
       "      <th>adv_count</th>\n",
       "      <th>verb_count</th>\n",
       "      <th>noun_count</th>\n",
       "      <th>punct_count</th>\n",
       "    </tr>\n",
       "  </thead>\n",
       "  <tbody>\n",
       "    <tr>\n",
       "      <th>0</th>\n",
       "      <td>0</td>\n",
       "      <td>0</td>\n",
       "      <td>0</td>\n",
       "      <td>0</td>\n",
       "      <td>0</td>\n",
       "      <td>0</td>\n",
       "      <td>0</td>\n",
       "      <td>0</td>\n",
       "      <td>0</td>\n",
       "      <td>0</td>\n",
       "      <td>...</td>\n",
       "      <td>0</td>\n",
       "      <td>0</td>\n",
       "      <td>0</td>\n",
       "      <td>(I, learn, in, this, letter, that, Don, Pedro,...</td>\n",
       "      <td>Much Ado</td>\n",
       "      <td>16</td>\n",
       "      <td>0</td>\n",
       "      <td>2</td>\n",
       "      <td>2</td>\n",
       "      <td>1</td>\n",
       "    </tr>\n",
       "    <tr>\n",
       "      <th>1</th>\n",
       "      <td>0</td>\n",
       "      <td>0</td>\n",
       "      <td>0</td>\n",
       "      <td>0</td>\n",
       "      <td>0</td>\n",
       "      <td>0</td>\n",
       "      <td>0</td>\n",
       "      <td>0</td>\n",
       "      <td>0</td>\n",
       "      <td>0</td>\n",
       "      <td>...</td>\n",
       "      <td>0</td>\n",
       "      <td>0</td>\n",
       "      <td>0</td>\n",
       "      <td>(He, is, very, near, by, this, :, he, was, not...</td>\n",
       "      <td>Much Ado</td>\n",
       "      <td>18</td>\n",
       "      <td>3</td>\n",
       "      <td>3</td>\n",
       "      <td>1</td>\n",
       "      <td>2</td>\n",
       "    </tr>\n",
       "    <tr>\n",
       "      <th>2</th>\n",
       "      <td>0</td>\n",
       "      <td>0</td>\n",
       "      <td>0</td>\n",
       "      <td>0</td>\n",
       "      <td>0</td>\n",
       "      <td>0</td>\n",
       "      <td>0</td>\n",
       "      <td>0</td>\n",
       "      <td>0</td>\n",
       "      <td>0</td>\n",
       "      <td>...</td>\n",
       "      <td>0</td>\n",
       "      <td>0</td>\n",
       "      <td>0</td>\n",
       "      <td>(How, many, gentlemen, have, you, lost, in, th...</td>\n",
       "      <td>Much Ado</td>\n",
       "      <td>10</td>\n",
       "      <td>1</td>\n",
       "      <td>2</td>\n",
       "      <td>2</td>\n",
       "      <td>1</td>\n",
       "    </tr>\n",
       "    <tr>\n",
       "      <th>3</th>\n",
       "      <td>0</td>\n",
       "      <td>0</td>\n",
       "      <td>0</td>\n",
       "      <td>0</td>\n",
       "      <td>0</td>\n",
       "      <td>0</td>\n",
       "      <td>0</td>\n",
       "      <td>0</td>\n",
       "      <td>0</td>\n",
       "      <td>0</td>\n",
       "      <td>...</td>\n",
       "      <td>0</td>\n",
       "      <td>0</td>\n",
       "      <td>0</td>\n",
       "      <td>(But, few, of, any, sort, ,, and, none, of, na...</td>\n",
       "      <td>Much Ado</td>\n",
       "      <td>11</td>\n",
       "      <td>0</td>\n",
       "      <td>0</td>\n",
       "      <td>3</td>\n",
       "      <td>2</td>\n",
       "    </tr>\n",
       "    <tr>\n",
       "      <th>4</th>\n",
       "      <td>0</td>\n",
       "      <td>1</td>\n",
       "      <td>0</td>\n",
       "      <td>0</td>\n",
       "      <td>0</td>\n",
       "      <td>0</td>\n",
       "      <td>0</td>\n",
       "      <td>0</td>\n",
       "      <td>0</td>\n",
       "      <td>0</td>\n",
       "      <td>...</td>\n",
       "      <td>0</td>\n",
       "      <td>0</td>\n",
       "      <td>0</td>\n",
       "      <td>(A, victory, is, twice, itself, when, the, ach...</td>\n",
       "      <td>Much Ado</td>\n",
       "      <td>13</td>\n",
       "      <td>2</td>\n",
       "      <td>2</td>\n",
       "      <td>4</td>\n",
       "      <td>1</td>\n",
       "    </tr>\n",
       "  </tbody>\n",
       "</table>\n",
       "<p>5 rows × 702 columns</p>\n",
       "</div>"
      ],
      "text/plain": [
       "  earth bring now this sweet church consent rime give guest  ... monument  \\\n",
       "0     0     0   0    0     0      0       0    0    0     0  ...        0   \n",
       "1     0     0   0    0     0      0       0    0    0     0  ...        0   \n",
       "2     0     0   0    0     0      0       0    0    0     0  ...        0   \n",
       "3     0     0   0    0     0      0       0    0    0     0  ...        0   \n",
       "4     0     1   0    0     0      0       0    0    0     0  ...        0   \n",
       "\n",
       "  ursula heaven                                      text_sentence  \\\n",
       "0      0      0  (I, learn, in, this, letter, that, Don, Pedro,...   \n",
       "1      0      0  (He, is, very, near, by, this, :, he, was, not...   \n",
       "2      0      0  (How, many, gentlemen, have, you, lost, in, th...   \n",
       "3      0      0  (But, few, of, any, sort, ,, and, none, of, na...   \n",
       "4      0      0  (A, victory, is, twice, itself, when, the, ach...   \n",
       "\n",
       "  text_source sent_length adv_count verb_count noun_count punct_count  \n",
       "0    Much Ado          16         0          2          2           1  \n",
       "1    Much Ado          18         3          3          1           2  \n",
       "2    Much Ado          10         1          2          2           1  \n",
       "3    Much Ado          11         0          0          3           2  \n",
       "4    Much Ado          13         2          2          4           1  \n",
       "\n",
       "[5 rows x 702 columns]"
      ]
     },
     "execution_count": 20,
     "metadata": {},
     "output_type": "execute_result"
    }
   ],
   "source": [
    "# Copy word_counts data frame as a form of version control.\n",
    "word_counts2 = word_counts\n",
    "\n",
    "# Add a column for the word counts in each sentence to the data frame.\n",
    "word_counts2['sent_length'] = word_counts2.text_sentence.map(lambda x: len(x))\n",
    "\n",
    "# Let's create a count for parts of speech.\n",
    "# Adverbs in each sentence.\n",
    "sentences2 = word_counts2.text_sentence\n",
    "adv_count = []\n",
    "for sent in sentences2:\n",
    "    advs = 0\n",
    "    for token in sent:\n",
    "        if token.pos_ == 'ADV':\n",
    "            advs +=1\n",
    "    adv_count.append(advs)\n",
    "    \n",
    "# Add adverbs column to data frame.\n",
    "word_counts2['adv_count'] = adv_count\n",
    "\n",
    "# Verbs in each sentence.\n",
    "verb_count = []\n",
    "for sent in sentences2:\n",
    "    verb = 0\n",
    "    for token in sent:\n",
    "        if token.pos_ == 'VERB':\n",
    "            verb +=1\n",
    "    verb_count.append(verb)\n",
    "    \n",
    "# Add verbs column to data frame.\n",
    "word_counts2['verb_count'] = verb_count\n",
    "\n",
    "# Nouns in each sentence:\n",
    "noun_count = []\n",
    "for sent in sentences2:\n",
    "    noun = 0\n",
    "    for token in sent:\n",
    "        if token.pos_ == 'NOUN':\n",
    "            noun +=1\n",
    "    noun_count.append(noun)\n",
    "    \n",
    "# Add nouns column to data frame.\n",
    "word_counts2['noun_count'] = noun_count\n",
    "\n",
    "# Punctuation marks in each sentence.\n",
    "punct_count = []\n",
    "for sent in sentences2:\n",
    "    punct = 0\n",
    "    for token in sent:\n",
    "        if token.pos_ == 'PUNCT':\n",
    "            punct +=1\n",
    "    punct_count.append(punct)\n",
    "    \n",
    "# Add punctuation column to data frame.\n",
    "word_counts2['punct_count'] = punct_count\n",
    "\n",
    "word_counts2.head()"
   ]
  },
  {
   "cell_type": "code",
   "execution_count": 27,
   "metadata": {
    "ExecuteTime": {
     "end_time": "2019-07-26T18:25:27.115870Z",
     "start_time": "2019-07-26T18:25:26.304827Z"
    }
   },
   "outputs": [
    {
     "name": "stdout",
     "output_type": "stream",
     "text": [
      "Training set score:  0.8718603661132397\n",
      "\n",
      "Test set score:  0.723499361430396\n"
     ]
    },
    {
     "name": "stderr",
     "output_type": "stream",
     "text": [
      "/Users/danmchenry/miniconda3/lib/python3.7/site-packages/sklearn/svm/base.py:931: ConvergenceWarning: Liblinear failed to converge, increase the number of iterations.\n",
      "  \"the number of iterations.\", ConvergenceWarning)\n"
     ]
    }
   ],
   "source": [
    "# Let's go back and re-try SVM with the new features.\n",
    "Y2 = word_counts2['text_source']\n",
    "X2 = np.array(word_counts2.drop(['text_sentence', 'text_source'], 1))\n",
    "\n",
    "X2_train, X2_test, y2_train, y2_test = train_test_split(X,Y,test_size=0.4,random_state=15)\n",
    "svm2 = LinearSVC()\n",
    "train2 = svm2.fit(X2_train, y2_train)\n",
    "print('Training set score: ', svm2.score(X2_train, y2_train))\n",
    "print('\\nTest set score: ', svm2.score(X2_test, y2_test))"
   ]
  },
  {
   "cell_type": "code",
   "execution_count": 28,
   "metadata": {
    "ExecuteTime": {
     "end_time": "2019-07-26T18:26:14.200273Z",
     "start_time": "2019-07-26T18:26:14.093644Z"
    }
   },
   "outputs": [
    {
     "data": {
      "text/html": [
       "<div>\n",
       "<style scoped>\n",
       "    .dataframe tbody tr th:only-of-type {\n",
       "        vertical-align: middle;\n",
       "    }\n",
       "\n",
       "    .dataframe tbody tr th {\n",
       "        vertical-align: top;\n",
       "    }\n",
       "\n",
       "    .dataframe thead th {\n",
       "        text-align: right;\n",
       "    }\n",
       "</style>\n",
       "<table border=\"1\" class=\"dataframe\">\n",
       "  <thead>\n",
       "    <tr style=\"text-align: right;\">\n",
       "      <th>col_0</th>\n",
       "      <th>Much Ado</th>\n",
       "      <th>Romeo</th>\n",
       "    </tr>\n",
       "    <tr>\n",
       "      <th>text_source</th>\n",
       "      <th></th>\n",
       "      <th></th>\n",
       "    </tr>\n",
       "  </thead>\n",
       "  <tbody>\n",
       "    <tr>\n",
       "      <th>Much Ado</th>\n",
       "      <td>410</td>\n",
       "      <td>270</td>\n",
       "    </tr>\n",
       "    <tr>\n",
       "      <th>Romeo</th>\n",
       "      <td>163</td>\n",
       "      <td>723</td>\n",
       "    </tr>\n",
       "  </tbody>\n",
       "</table>\n",
       "</div>"
      ],
      "text/plain": [
       "col_0        Much Ado  Romeo\n",
       "text_source                 \n",
       "Much Ado          410    270\n",
       "Romeo             163    723"
      ]
     },
     "execution_count": 28,
     "metadata": {},
     "output_type": "execute_result"
    }
   ],
   "source": [
    "# Let's see this in crosstab.\n",
    "svm2_predicted = svm2.predict(X_test)\n",
    "pd.crosstab(y2_test, svm2_predicted)"
   ]
  },
  {
   "cell_type": "code",
   "execution_count": 29,
   "metadata": {
    "ExecuteTime": {
     "end_time": "2019-07-26T18:27:18.983905Z",
     "start_time": "2019-07-26T18:27:18.103736Z"
    }
   },
   "outputs": [
    {
     "name": "stderr",
     "output_type": "stream",
     "text": [
      "/Users/danmchenry/miniconda3/lib/python3.7/site-packages/sklearn/ensemble/forest.py:246: FutureWarning: The default value of n_estimators will change from 10 in version 0.20 to 100 in 0.22.\n",
      "  \"10 in version 0.20 to 100 in 0.22.\", FutureWarning)\n"
     ]
    },
    {
     "name": "stdout",
     "output_type": "stream",
     "text": [
      "Training set score:  0.9753086419753086\n",
      "\n",
      "Test set score: 0.6877394636015326\n"
     ]
    }
   ],
   "source": [
    "# Let's try the Random Forest again with the new features.\n",
    "rfc2 = ensemble.RandomForestClassifier()\n",
    "Y3 = word_counts2['text_source']\n",
    "X3 = np.array(word_counts2.drop(['text_sentence', 'text_source'], 1))\n",
    "\n",
    "X3_train, X3_test, y3_train, y3_test = train_test_split(X3,\n",
    "                                                        Y3,\n",
    "                                                        test_size=0.4,\n",
    "                                                        random_state=15\n",
    "                                                       )\n",
    "\n",
    "train3 = rfc2.fit(X3_train, y3_train)\n",
    "\n",
    "print('Training set score: ', rfc2.score(X3_train, y3_train))\n",
    "print('\\nTest set score:', rfc2.score(X3_test, y3_test))"
   ]
  },
  {
   "cell_type": "code",
   "execution_count": 30,
   "metadata": {
    "ExecuteTime": {
     "end_time": "2019-07-26T18:28:07.804271Z",
     "start_time": "2019-07-26T18:28:07.306092Z"
    }
   },
   "outputs": [
    {
     "data": {
      "text/html": [
       "<div>\n",
       "<style scoped>\n",
       "    .dataframe tbody tr th:only-of-type {\n",
       "        vertical-align: middle;\n",
       "    }\n",
       "\n",
       "    .dataframe tbody tr th {\n",
       "        vertical-align: top;\n",
       "    }\n",
       "\n",
       "    .dataframe thead th {\n",
       "        text-align: right;\n",
       "    }\n",
       "</style>\n",
       "<table border=\"1\" class=\"dataframe\">\n",
       "  <thead>\n",
       "    <tr style=\"text-align: right;\">\n",
       "      <th></th>\n",
       "      <th>0</th>\n",
       "      <th>1</th>\n",
       "    </tr>\n",
       "  </thead>\n",
       "  <tbody>\n",
       "    <tr>\n",
       "      <th>0</th>\n",
       "      <td>I</td>\n",
       "      <td>Much Ado</td>\n",
       "    </tr>\n",
       "    <tr>\n",
       "      <th>1</th>\n",
       "      <td></td>\n",
       "      <td>Much Ado</td>\n",
       "    </tr>\n",
       "    <tr>\n",
       "      <th>2</th>\n",
       "      <td>l</td>\n",
       "      <td>Much Ado</td>\n",
       "    </tr>\n",
       "    <tr>\n",
       "      <th>3</th>\n",
       "      <td>e</td>\n",
       "      <td>Much Ado</td>\n",
       "    </tr>\n",
       "    <tr>\n",
       "      <th>4</th>\n",
       "      <td>a</td>\n",
       "      <td>Much Ado</td>\n",
       "    </tr>\n",
       "  </tbody>\n",
       "</table>\n",
       "</div>"
      ],
      "text/plain": [
       "   0         1\n",
       "0  I  Much Ado\n",
       "1     Much Ado\n",
       "2  l  Much Ado\n",
       "3  e  Much Ado\n",
       "4  a  Much Ado"
      ]
     },
     "execution_count": 30,
     "metadata": {},
     "output_type": "execute_result"
    }
   ],
   "source": [
    "# Create new variables that aren't spacy tokens.\n",
    "much_ado_tfidf = much_ado_clean\n",
    "romeo_tfidf = romeo_clean\n",
    "\n",
    "# Group into sentences.\n",
    "much_ado_tfidf_sents = [[sent, \"Much Ado\"] for sent in much_ado_tfidf]\n",
    "romeo_tfidf_sents = [[sent, \"Romeo\"] for sent in romeo_tfidf]\n",
    "\n",
    "# Combine sentences from two plays into one data frame.\n",
    "sentences_tfidf = pd.DataFrame(much_ado_tfidf_sents + romeo_tfidf_sents)\n",
    "sentences_tfidf.head()"
   ]
  },
  {
   "cell_type": "code",
   "execution_count": 32,
   "metadata": {
    "ExecuteTime": {
     "end_time": "2019-07-26T18:30:49.273937Z",
     "start_time": "2019-07-26T18:30:48.105673Z"
    }
   },
   "outputs": [
    {
     "name": "stdout",
     "output_type": "stream",
     "text": [
      "(2349, 700) (2349,)\n",
      "Training set score: 0.8424861643252448\n",
      "\n",
      "Test set score: 0.7369093231162197\n"
     ]
    }
   ],
   "source": [
    "# Let's set up our model again.\n",
    "Y4 = word_counts2['text_source']\n",
    "X4 = np.array(word_counts2.drop(['text_sentence', 'text_source'], 1))\n",
    "\n",
    "X4_train, X4_test, y4_train, y4_test = train_test_split(X4,\n",
    "                                                        Y4,\n",
    "                                                        test_size=0.4,\n",
    "                                                        random_state=15)\n",
    "\n",
    "lr = LogisticRegression(solver='lbfgs', max_iter=5000)\n",
    "train4 = lr.fit(X4_train, y4_train)\n",
    "print(X4_train.shape, y4_train.shape)\n",
    "print('Training set score:', lr.score(X4_train, y4_train))\n",
    "print('\\nTest set score:', lr.score(X4_test, y4_test))"
   ]
  },
  {
   "cell_type": "markdown",
   "metadata": {},
   "source": [
    "After trying this many different ways with many Q & A Session visits with multiple mentors, I am unable to improve upon the results of these models. Some of the models do improve as we go on, but nothing close to the 5% improvement that is requested."
   ]
  },
  {
   "cell_type": "code",
   "execution_count": null,
   "metadata": {},
   "outputs": [],
   "source": []
  }
 ],
 "metadata": {
  "kernelspec": {
   "display_name": "Python 3",
   "language": "python",
   "name": "python3"
  },
  "language_info": {
   "codemirror_mode": {
    "name": "ipython",
    "version": 3
   },
   "file_extension": ".py",
   "mimetype": "text/x-python",
   "name": "python",
   "nbconvert_exporter": "python",
   "pygments_lexer": "ipython3",
   "version": "3.7.3"
  },
  "toc": {
   "base_numbering": 1,
   "nav_menu": {},
   "number_sections": true,
   "sideBar": true,
   "skip_h1_title": false,
   "title_cell": "Table of Contents",
   "title_sidebar": "Contents",
   "toc_cell": false,
   "toc_position": {},
   "toc_section_display": true,
   "toc_window_display": false
  },
  "varInspector": {
   "cols": {
    "lenName": 16,
    "lenType": 16,
    "lenVar": 40
   },
   "kernels_config": {
    "python": {
     "delete_cmd_postfix": "",
     "delete_cmd_prefix": "del ",
     "library": "var_list.py",
     "varRefreshCmd": "print(var_dic_list())"
    },
    "r": {
     "delete_cmd_postfix": ") ",
     "delete_cmd_prefix": "rm(",
     "library": "var_list.r",
     "varRefreshCmd": "cat(var_dic_list()) "
    }
   },
   "position": {
    "height": "144px",
    "left": "970px",
    "right": "20px",
    "top": "25px",
    "width": "350px"
   },
   "types_to_exclude": [
    "module",
    "function",
    "builtin_function_or_method",
    "instance",
    "_Feature"
   ],
   "window_display": true
  }
 },
 "nbformat": 4,
 "nbformat_minor": 2
}
